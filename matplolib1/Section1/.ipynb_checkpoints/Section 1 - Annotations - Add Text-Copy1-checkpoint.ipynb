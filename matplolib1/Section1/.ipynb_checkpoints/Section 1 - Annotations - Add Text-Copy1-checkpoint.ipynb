{
 "cells": [
  {
   "cell_type": "markdown",
   "metadata": {},
   "source": [
    "# Annotations: Add Text"
   ]
  },
  {
   "cell_type": "markdown",
   "metadata": {},
   "source": [
    "Hi and welcome to the class. Today, we will learn how annotations work in the background. It is pretty much the same as Text Artist and they both return texts.\n",
    "Except, with annotations you can also connect two points with an arrow or a shape. So, it is somewhat more versatile than text, I can say.\n",
    "\n",
    "Enough of talk, let's start importing the packages."
   ]
  },
  {
   "cell_type": "code",
   "execution_count": 1,
   "metadata": {},
   "outputs": [],
   "source": [
    "import numpy as np\n",
    "\n",
    "# import matplotlib charts\n",
    "import matplotlib.pyplot as plt\n",
    "from matplotlib.text import Annotation\n",
    "\n",
    "\n",
    "# Charting configs\n",
    "%matplotlib inline"
   ]
  },
  {
   "cell_type": "markdown",
   "metadata": {},
   "source": [
    "Let's add a text to an empty axes with annotation"
   ]
  },
  {
   "cell_type": "code",
   "execution_count": 2,
   "metadata": {},
   "outputs": [
    {
     "data": {
      "image/png": "[encoded data removed]",
      "text/plain": [
       "<Figure size 432x288 with 1 Axes>"
      ]
     },
     "metadata": {
      "needs_background": "light"
     },
     "output_type": "display_data"
    }
   ],
   "source": [
    "annot = Annotation(\"dude\", \n",
    "                   xy=(0.2, 0.2), # the coordinates we want to pinpoint\n",
    "                   xytext=(0.5, 0.8), # coordinate of texts\n",
    "                   arrowprops=dict(width=1)) # arrow\n",
    "\n",
    "\n",
    "fig, ax = plt.subplots()\n",
    "\n",
    "\n",
    "# Since this also belongs to \n",
    "# Texts container, we will call add_text method\n",
    "an1 = ax._add_text(annot)"
   ]
  },
  {
   "cell_type": "markdown",
   "metadata": {},
   "source": [
    "Let me break it down into constituents first. Here we see \n",
    "1. Arrow, which is an object of FancyArrowPatch\n",
    "2. And the word \"Dude\" is a text instance\n",
    "\n",
    "That means, in our next class we will cover how we can customize FancyArrowPatch and Text instances. So, expect that."
   ]
  },
  {
   "cell_type": "markdown",
   "metadata": {},
   "source": [
    "Usually, you don't have to instantiate Annotation class and then add it to axes. There is a much shorter way. The reason why we are following the long path, is because we are interested in how things work in the background.\n",
    "\n",
    "Let's take a quick glance at how we normally make annotations."
   ]
  },
  {
   "cell_type": "code",
   "execution_count": 3,
   "metadata": {},
   "outputs": [
    {
     "data": {
      "image/png": "[encoded data removed]",
      "text/plain": [
       "<Figure size 432x288 with 1 Axes>"
      ]
     },
     "execution_count": 3,
     "metadata": {},
     "output_type": "execute_result"
    }
   ],
   "source": [
    "ax.annotate(\"Some string here\", \n",
    "            xy=(0.8, 0.8), \n",
    "            xytext=(0.8, 0.1), \n",
    "            arrowprops=dict(arrowstyle='->', lw=2, color='r') )\n",
    "fig"
   ]
  },
  {
   "cell_type": "markdown",
   "metadata": {},
   "source": [
    "Alright. That's about it. It was a pretty short class, but an important one. In our next class we will decompose the Annoation Artist and customize it. \n",
    "\n",
    "If you have any questions, please let me know and bye for now."
   ]
  },
  {
   "cell_type": "code",
   "execution_count": 4,
   "metadata": {},
   "outputs": [
    {
     "name": "stdout",
     "output_type": "stream",
     "text": [
      "Help on method annotate in module matplotlib.axes._axes:\n",
      "\n",
      "annotate(text, xy, *args, **kwargs) method of matplotlib.axes._subplots.AxesSubplot instance\n",
      "    Annotate the point *xy* with text *text*.\n",
      "    \n",
      "    In the simplest form, the text is placed at *xy*.\n",
      "    \n",
      "    Optionally, the text can be displayed in another position *xytext*.\n",
      "    An arrow pointing from the text to the annotated point *xy* can then\n",
      "    be added by defining *arrowprops*.\n",
      "    \n",
      "    Parameters\n",
      "    ----------\n",
      "    text : str\n",
      "        The text of the annotation.\n",
      "    \n",
      "    xy : (float, float)\n",
      "        The point *(x, y)* to annotate. The coordinate system is determined\n",
      "        by *xycoords*.\n",
      "    \n",
      "    xytext : (float, float), default: *xy*\n",
      "        The position *(x, y)* to place the text at. The coordinate system\n",
      "        is determined by *textcoords*.\n",
      "    \n",
      "    xycoords : str or `.Artist` or `.Transform` or callable or (float, float), default: 'data'\n",
      "    \n",
      "        The coordinate system that *xy* is given in. The following types\n",
      "        of values are supported:\n",
      "    \n",
      "        - One of the following strings:\n",
      "    \n",
      "          ==================== ============================================\n",
      "          Value                Description\n",
      "          ==================== ============================================\n",
      "          'figure points'      Points from the lower left of the figure\n",
      "          'figure pixels'      Pixels from the lower left of the figure\n",
      "          'figure fraction'    Fraction of figure from lower left\n",
      "          'subfigure points'   Points from the lower left of the subfigure\n",
      "          'subfigure pixels'   Pixels from the lower left of the subfigure\n",
      "          'subfigure fraction' Fraction of subfigure from lower left\n",
      "          'axes points'        Points from lower left corner of axes\n",
      "          'axes pixels'        Pixels from lower left corner of axes\n",
      "          'axes fraction'      Fraction of axes from lower left\n",
      "          'data'               Use the coordinate system of the object\n",
      "                               being annotated (default)\n",
      "          'polar'              *(theta, r)* if not native 'data'\n",
      "                               coordinates\n",
      "          ==================== ============================================\n",
      "    \n",
      "          Note that 'subfigure pixels' and 'figure pixels' are the same\n",
      "          for the parent figure, so users who want code that is usable in\n",
      "          a subfigure can use 'subfigure pixels'.\n",
      "    \n",
      "        - An `.Artist`: *xy* is interpreted as a fraction of the artist's\n",
      "          `~matplotlib.transforms.Bbox`. E.g. *(0, 0)* would be the lower\n",
      "          left corner of the bounding box and *(0.5, 1)* would be the\n",
      "          center top of the bounding box.\n",
      "    \n",
      "        - A `.Transform` to transform *xy* to screen coordinates.\n",
      "    \n",
      "        - A function with one of the following signatures::\n",
      "    \n",
      "            def transform(renderer) -> Bbox\n",
      "            def transform(renderer) -> Transform\n",
      "    \n",
      "          where *renderer* is a `.RendererBase` subclass.\n",
      "    \n",
      "          The result of the function is interpreted like the `.Artist` and\n",
      "          `.Transform` cases above.\n",
      "    \n",
      "        - A tuple *(xcoords, ycoords)* specifying separate coordinate\n",
      "          systems for *x* and *y*. *xcoords* and *ycoords* must each be\n",
      "          of one of the above described types.\n",
      "    \n",
      "        See :ref:`plotting-guide-annotation` for more details.\n",
      "    \n",
      "    textcoords : str or `.Artist` or `.Transform` or callable or (float, float), default: value of *xycoords*\n",
      "        The coordinate system that *xytext* is given in.\n",
      "    \n",
      "        All *xycoords* values are valid as well as the following\n",
      "        strings:\n",
      "    \n",
      "        =================   =========================================\n",
      "        Value               Description\n",
      "        =================   =========================================\n",
      "        'offset points'     Offset (in points) from the *xy* value\n",
      "        'offset pixels'     Offset (in pixels) from the *xy* value\n",
      "        =================   =========================================\n",
      "    \n",
      "    arrowprops : dict, optional\n",
      "        The properties used to draw a `.FancyArrowPatch` arrow between the\n",
      "        positions *xy* and *xytext*.  Defaults to None, i.e. no arrow is\n",
      "        drawn.\n",
      "    \n",
      "        For historical reasons there are two different ways to specify\n",
      "        arrows, \"simple\" and \"fancy\":\n",
      "    \n",
      "        **Simple arrow:**\n",
      "    \n",
      "        If *arrowprops* does not contain the key 'arrowstyle' the\n",
      "        allowed keys are:\n",
      "    \n",
      "        ==========   ======================================================\n",
      "        Key          Description\n",
      "        ==========   ======================================================\n",
      "        width        The width of the arrow in points\n",
      "        headwidth    The width of the base of the arrow head in points\n",
      "        headlength   The length of the arrow head in points\n",
      "        shrink       Fraction of total length to shrink from both ends\n",
      "        ?            Any key to :class:`matplotlib.patches.FancyArrowPatch`\n",
      "        ==========   ======================================================\n",
      "    \n",
      "        The arrow is attached to the edge of the text box, the exact\n",
      "        position (corners or centers) depending on where it's pointing to.\n",
      "    \n",
      "        **Fancy arrow:**\n",
      "    \n",
      "        This is used if 'arrowstyle' is provided in the *arrowprops*.\n",
      "    \n",
      "        Valid keys are the following `~matplotlib.patches.FancyArrowPatch`\n",
      "        parameters:\n",
      "    \n",
      "        ===============  ==================================================\n",
      "        Key              Description\n",
      "        ===============  ==================================================\n",
      "        arrowstyle       the arrow style\n",
      "        connectionstyle  the connection style\n",
      "        relpos           see below; default is (0.5, 0.5)\n",
      "        patchA           default is bounding box of the text\n",
      "        patchB           default is None\n",
      "        shrinkA          default is 2 points\n",
      "        shrinkB          default is 2 points\n",
      "        mutation_scale   default is text size (in points)\n",
      "        mutation_aspect  default is 1.\n",
      "        ?                any key for :class:`matplotlib.patches.PathPatch`\n",
      "        ===============  ==================================================\n",
      "    \n",
      "        The exact starting point position of the arrow is defined by\n",
      "        *relpos*. It's a tuple of relative coordinates of the text box,\n",
      "        where (0, 0) is the lower left corner and (1, 1) is the upper\n",
      "        right corner. Values <0 and >1 are supported and specify points\n",
      "        outside the text box. By default (0.5, 0.5) the starting point is\n",
      "        centered in the text box.\n",
      "    \n",
      "    annotation_clip : bool or None, default: None\n",
      "        Whether to draw the annotation when the annotation point *xy* is\n",
      "        outside the axes area.\n",
      "    \n",
      "        - If *True*, the annotation will only be drawn when *xy* is\n",
      "          within the axes.\n",
      "        - If *False*, the annotation will always be drawn.\n",
      "        - If *None*, the annotation will only be drawn when *xy* is\n",
      "          within the axes and *xycoords* is 'data'.\n",
      "    \n",
      "    **kwargs\n",
      "        Additional kwargs are passed to `~matplotlib.text.Text`.\n",
      "    \n",
      "    Returns\n",
      "    -------\n",
      "    `.Annotation`\n",
      "    \n",
      "    See Also\n",
      "    --------\n",
      "    :ref:`plotting-guide-annotation`\n",
      "\n"
     ]
    }
   ],
   "source": [
    "help(ax.annotate)"
   ]
  },
  {
   "cell_type": "code",
   "execution_count": null,
   "metadata": {},
   "outputs": [],
   "source": []
  }
 ],
 "metadata": {
  "kernelspec": {
   "display_name": "Python 3 (ipykernel)",
   "language": "python",
   "name": "python3"
  },
  "language_info": {
   "codemirror_mode": {
    "name": "ipython",
    "version": 3
   },
   "file_extension": ".py",
   "mimetype": "text/x-python",
   "name": "python",
   "nbconvert_exporter": "python",
   "pygments_lexer": "ipython3",
   "version": "3.9.0"
  }
 },
 "nbformat": 4,
 "nbformat_minor": 2
}
