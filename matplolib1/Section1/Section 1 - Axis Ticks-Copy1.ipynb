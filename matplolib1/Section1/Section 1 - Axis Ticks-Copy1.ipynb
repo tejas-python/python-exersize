{
 "cells": [
  {
   "cell_type": "markdown",
   "metadata": {},
   "source": [
    "# Axis: Ticks"
   ]
  },
  {
   "cell_type": "code",
   "execution_count": 2,
   "metadata": {},
   "outputs": [],
   "source": [
    "# We will import the required packages as usual\n",
    "import matplotlib.pyplot as plt\n",
    "%matplotlib inline"
   ]
  },
  {
   "cell_type": "code",
   "execution_count": 3,
   "metadata": {},
   "outputs": [
    {
     "data": {
      "image/png": "[encoded data removed]",
      "text/plain": [
       "<matplotlib.figure.Figure at 0x28c3a2d8908>"
      ]
     },
     "metadata": {},
     "output_type": "display_data"
    }
   ],
   "source": [
    "# Let's create a figure and add X and Y Axis\n",
    "fig, ax = plt.subplots()"
   ]
  },
  {
   "cell_type": "code",
   "execution_count": 4,
   "metadata": {},
   "outputs": [],
   "source": [
    "x = ax.xaxis\n",
    "y = ax.yaxis"
   ]
  },
  {
   "cell_type": "code",
   "execution_count": 5,
   "metadata": {},
   "outputs": [
    {
     "data": {
      "image/png": "[encoded data removed]",
      "text/plain": [
       "<matplotlib.figure.Figure at 0x28c3a2d8908>"
      ]
     },
     "execution_count": 5,
     "metadata": {},
     "output_type": "execute_result"
    }
   ],
   "source": [
    "# Let's get the list of majort ticks,\n",
    "# by ticks I mean ticklines and tick labels\n",
    "# And make them visible on the opposite sides\n",
    "\n",
    "for t in x.get_major_ticks():\n",
    "    t.label2On = True \n",
    "    t.tick2On = True\n",
    "    t.tick1line.set_visible(False)\n",
    "    t.label1On=False\n",
    "    t.label2.set_color('r')\n",
    "    t.label2.set_size(14)\n",
    "    \n",
    "# Change the tick lines    \n",
    "    t.tick2line.set_marker('o')\n",
    "    t.tick2line.set_markersize(10)\n",
    "    \n",
    "\n",
    "fig"
   ]
  },
  {
   "cell_type": "markdown",
   "metadata": {},
   "source": [
    "There is also a shortcut helper we can utilize to achieve almost identical results. Except you cannot manage tickline markers like we did above. So, let's take a look."
   ]
  },
  {
   "cell_type": "code",
   "execution_count": 6,
   "metadata": {},
   "outputs": [
    {
     "data": {
      "image/png": "[encoded data removed]",
      "text/plain": [
       "<matplotlib.figure.Figure at 0x28c3a2d87f0>"
      ]
     },
     "metadata": {},
     "output_type": "display_data"
    }
   ],
   "source": [
    "fig1, ax1 = plt.subplots()\n",
    "ax1.tick_params(axis='x', \n",
    "                reset=True, \n",
    "                labelcolor='red', \n",
    "                labelsize=14, \n",
    "                top='On', \n",
    "                labeltop='On', \n",
    "                labelbottom='Off', \n",
    "                bottom='Off')"
   ]
  },
  {
   "cell_type": "markdown",
   "metadata": {},
   "source": [
    "Awesome. Now I hope you can feel yourself comfortable showing and hiding ticks and tick labels.\n",
    "\n",
    "In our next class we will learn about Formatter and Locators.\n",
    "If you have any questions, please let me know, and bye for now."
   ]
  }
 ],
 "metadata": {
  "kernelspec": {
   "display_name": "Python 3 (ipykernel)",
   "language": "python",
   "name": "python3"
  },
  "language_info": {
   "codemirror_mode": {
    "name": "ipython",
    "version": 3
   },
   "file_extension": ".py",
   "mimetype": "text/x-python",
   "name": "python",
   "nbconvert_exporter": "python",
   "pygments_lexer": "ipython3",
   "version": "3.9.0"
  }
 },
 "nbformat": 4,
 "nbformat_minor": 2
}
