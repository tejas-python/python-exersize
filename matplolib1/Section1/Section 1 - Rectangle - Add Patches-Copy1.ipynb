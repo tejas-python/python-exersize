{
 "cells": [
  {
   "cell_type": "markdown",
   "metadata": {},
   "source": [
    "# Rectangle: Add"
   ]
  },
  {
   "cell_type": "markdown",
   "metadata": {},
   "source": [
    "Hi and welcome to the class. Today we will learn how to add a Rectangle Artist to axes manually. It helps us understand how Matplotlib works, but that's not necessarily how we make charts. And we normally do it with only few lines of code. And we have a special section for that."
   ]
  },
  {
   "cell_type": "code",
   "execution_count": 1,
   "metadata": {},
   "outputs": [],
   "source": [
    "# import required packages\n",
    "import numpy as np\n",
    "\n",
    "# Import charting library\n",
    "import matplotlib.pyplot as plt\n",
    "from matplotlib.patches import Rectangle\n",
    "\n",
    "%matplotlib inline"
   ]
  },
  {
   "cell_type": "code",
   "execution_count": 2,
   "metadata": {},
   "outputs": [
    {
     "data": {
      "text/plain": [
       "'\\nFor you to know, instead of adding each rectangle artist\\nmanually, you can pass a list of rectangles to BarContainer\\n\\nand then add this BarContainer to axes.\\nIt works more efficiently. But we will skip it now\\n\\n'"
      ]
     },
     "execution_count": 2,
     "metadata": {},
     "output_type": "execute_result"
    },
    {
     "data": {
      "image/png": "[encoded data removed]",
      "text/plain": [
       "<matplotlib.figure.Figure at 0x1b96cf6ab70>"
      ]
     },
     "metadata": {},
     "output_type": "display_data"
    }
   ],
   "source": [
    "# Let's add 2 Rectangle Artists to axes\n",
    "# We will instantiate the Rectangle patch as below\n",
    "\n",
    "rec1 = Rectangle((0.5, 0), 0.2, 0.8)\n",
    "\n",
    "# first tupe represents xy coordinates\n",
    "# the other two numbres are simply width \n",
    "# and hight parameters\n",
    "\n",
    "# let's make another rectangle\n",
    "rec2 = Rectangle((0.2, 0), 0.2, 0.6)\n",
    "\n",
    "# Instantate figure and axes\n",
    "fig, ax = plt.subplots()\n",
    "\n",
    "'''\n",
    "Add rectangle to the artist with the help\n",
    "of add_patch method\n",
    "'''\n",
    "ax.add_patch(rec1)\n",
    "ax.add_patch(rec2)\n",
    "\n",
    "'''\n",
    "For you to know, instead of adding each rectangle artist\n",
    "manually, you can pass a list of rectangles to BarContainer\n",
    "\n",
    "and then add this BarContainer to axes.\n",
    "It works more efficiently. But we will skip it now\n",
    "\n",
    "'''"
   ]
  },
  {
   "cell_type": "code",
   "execution_count": 3,
   "metadata": {},
   "outputs": [
    {
     "data": {
      "text/plain": [
       "[<matplotlib.patches.Rectangle at 0x1b96cf6a940>,\n",
       " <matplotlib.patches.Rectangle at 0x1b96cf6a908>]"
      ]
     },
     "execution_count": 3,
     "metadata": {},
     "output_type": "execute_result"
    }
   ],
   "source": [
    "'''\n",
    "Now let's see if we can refer to all or one of the patches on this chart\n",
    "To do that, we need to call the container that holds reference to Rectangle artists\n",
    "\n",
    "'''\n",
    "\n",
    "ax.patches"
   ]
  },
  {
   "cell_type": "markdown",
   "metadata": {},
   "source": [
    "As you can see, the container returns two objects, which are basically two rectangle artists that we added to the axes. \n",
    "Now we can easily address any of them. So, let's do it"
   ]
  },
  {
   "cell_type": "code",
   "execution_count": 4,
   "metadata": {},
   "outputs": [
    {
     "data": {
      "image/png": "[encoded data removed]",
      "text/plain": [
       "<matplotlib.figure.Figure at 0x1b96cf6ab70>"
      ]
     },
     "execution_count": 4,
     "metadata": {},
     "output_type": "execute_result"
    }
   ],
   "source": [
    "'''\n",
    "We will get a little ahead of us and add a color to\n",
    ", say the first patch\n",
    "'''\n",
    "ax.patches[0].set_facecolor('red')\n",
    "\n",
    "fig"
   ]
  },
  {
   "cell_type": "markdown",
   "metadata": {},
   "source": [
    "But usually, when we plot we take advantage of much shorter ways. Let's quickly take a look without much going into details. "
   ]
  },
  {
   "cell_type": "code",
   "execution_count": 5,
   "metadata": {},
   "outputs": [
    {
     "data": {
      "text/plain": [
       "<Container object of 5 artists>"
      ]
     },
     "execution_count": 5,
     "metadata": {},
     "output_type": "execute_result"
    },
    {
     "data": {
      "image/png": "[encoded data removed]",
      "text/plain": [
       "<matplotlib.figure.Figure at 0x1b96cf6abe0>"
      ]
     },
     "metadata": {},
     "output_type": "display_data"
    }
   ],
   "source": [
    "fig1, ax1 = plt.subplots()\n",
    "\n",
    "x = list(range(5))\n",
    "y = np.random.randn(5)\n",
    "ax1.bar(x, y)"
   ]
  },
  {
   "cell_type": "markdown",
   "metadata": {},
   "source": [
    "With this method, we skipped the following process:\n",
    "1. We did not instantiate Rectangle Artists manually\n",
    "2. We did not wrap the patches in BarContainer\n",
    "3. And finally, we did not manually add the BarContainer or the list of patches to the axes\n",
    "\n",
    "We simply called .bar method."
   ]
  },
  {
   "cell_type": "markdown",
   "metadata": {},
   "source": [
    "Alright, that's all about this class. If you have any questions, please let me know and bye for now."
   ]
  }
 ],
 "metadata": {
  "kernelspec": {
   "display_name": "Python 3",
   "language": "python",
   "name": "python3"
  },
  "language_info": {
   "codemirror_mode": {
    "name": "ipython",
    "version": 3
   },
   "file_extension": ".py",
   "mimetype": "text/x-python",
   "name": "python",
   "nbconvert_exporter": "python",
   "pygments_lexer": "ipython3",
   "version": "3.6.3"
  }
 },
 "nbformat": 4,
 "nbformat_minor": 2
}
