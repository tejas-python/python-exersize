{
 "cells": [
  {
   "cell_type": "markdown",
   "metadata": {},
   "source": [
    "# Add legends"
   ]
  },
  {
   "cell_type": "code",
   "execution_count": 37,
   "metadata": {},
   "outputs": [],
   "source": [
    "# import pyplot\n",
    "import matplotlib.pyplot as plt\n",
    "\n",
    "# Import legend artist\n",
    "from matplotlib.legend import Legend\n",
    "from matplotlib.patches import Rectangle\n",
    "\n",
    "%matplotlib inline"
   ]
  },
  {
   "cell_type": "code",
   "execution_count": 38,
   "metadata": {},
   "outputs": [
    {
     "data": {
      "text/plain": [
       "<matplotlib.legend.Legend at 0x1aed1a6b7f0>"
      ]
     },
     "execution_count": 38,
     "metadata": {},
     "output_type": "execute_result"
    },
    {
     "data": {
      "image/png": "[encoded data removed]",
      "text/plain": [
       "<matplotlib.figure.Figure at 0x1aed19f1748>"
      ]
     },
     "metadata": {},
     "output_type": "display_data"
    }
   ],
   "source": [
    "# We'll add rectangle patches to axes\n",
    "# and assign labels\n",
    "\n",
    "\n",
    "rec1 = Rectangle((0.1, 0), 0.1, 0.3, label='Day 1')\n",
    "rec2 = Rectangle((0.25, 0), 0.1, 0.6, label='Day 2')\n",
    "rec3 = Rectangle((0.4, 0), 0.1, 0.9, label='Day 3')\n",
    "\n",
    "# instantiate fig and axes\n",
    "fig, ax = plt.subplots()\n",
    "\n",
    "\n",
    "# Add the patches\n",
    "ax.add_patch(rec1)\n",
    "ax.add_patch(rec2)\n",
    "ax.add_patch(rec3)\n",
    "\n",
    "\n",
    "colors=['red','green','black']\n",
    "\n",
    "for p, c in zip(ax.patches, colors):\n",
    "    p.set_color(c)\n",
    "\n",
    "'''\n",
    "legend = Legend(ax, handles = [ax.patches[0], ax.patches[1], ax.patches[2]], \n",
    "                labels=[ax.patches[0].get_label(),ax.patches[1].get_label(), ax.patches[2].get_label() ])\n",
    "'''\n",
    "\n",
    "\n",
    "# alternatively, you can do the following\n",
    "    \n",
    "handles, labels = ax.get_legend_handles_labels()\n",
    "# this gets all artists and their labels and makes\n",
    "# two separate lists\n",
    "\n",
    "\n",
    "legend = Legend(ax, handles = handles, labels=labels)\n",
    "\n",
    "\n",
    "\n",
    "# let's add this to the chart area.\n",
    "ax.add_artist(legend)\n",
    "\n",
    "\n",
    "\n",
    "# Pay attention, we did not use add_patch.\n",
    "# Do you know why?\n",
    "# because legend does not have add method, unlike\n",
    "# line, patch, image, and others.\n",
    "# And for artists that do not have add method,\n",
    "# you can use add_artist"
   ]
  },
  {
   "cell_type": "code",
   "execution_count": 39,
   "metadata": {},
   "outputs": [
    {
     "data": {
      "image/png": "[encoded data removed]",
      "text/plain": [
       "<matplotlib.figure.Figure at 0x1aed19f1748>"
      ]
     },
     "execution_count": 39,
     "metadata": {},
     "output_type": "execute_result"
    }
   ],
   "source": [
    "handles, labels = ax.get_legend_handles_labels()\n",
    "ax.legend(handles=handles, labels=labels) \n",
    "# This creates Legend instance and calls add_artist\n",
    "# what is more interesting, if you leave the parameters \n",
    "# empty. You don't even have to call get_legend,\n",
    "# as it does it implicity\n",
    "\n",
    "ax.legend()\n",
    "\n",
    "\n",
    "\n",
    "fig"
   ]
  }
 ],
 "metadata": {
  "kernelspec": {
   "display_name": "Python 3",
   "language": "python",
   "name": "python3"
  },
  "language_info": {
   "codemirror_mode": {
    "name": "ipython",
    "version": 3
   },
   "file_extension": ".py",
   "mimetype": "text/x-python",
   "name": "python",
   "nbconvert_exporter": "python",
   "pygments_lexer": "ipython3",
   "version": "3.6.3"
  }
 },
 "nbformat": 4,
 "nbformat_minor": 2
}
