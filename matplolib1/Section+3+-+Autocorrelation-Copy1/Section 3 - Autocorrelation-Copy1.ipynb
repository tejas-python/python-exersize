{
 "cells": [
  {
   "cell_type": "markdown",
   "metadata": {},
   "source": [
    "# What is axes.acorr()"
   ]
  },
  {
   "cell_type": "markdown",
   "metadata": {},
   "source": [
    "Welcome to the class. Today we will talk about acorr() method.\n",
    "__acorr()__ plots __AUTOCORRELATION__, also called as __SERIAL CORRELATION__ of a single feature (independent variable) and it is used in timeseries analysis. Think about it. Sometimes the past is the best predictor of the future. That's exactly what the __acorr()__ is about in a nutshell.\n",
    "\n",
    "Let's create a simple example and try interpreting the result."
   ]
  },
  {
   "cell_type": "code",
   "execution_count": 1,
   "metadata": {},
   "outputs": [],
   "source": [
    "# Import required packages\n",
    "import pandas as pd\n",
    "from pandas import DataFrame\n",
    "import matplotlib.pyplot as plt\n",
    "\n",
    "%matplotlib inline"
   ]
  },
  {
   "cell_type": "code",
   "execution_count": 2,
   "metadata": {},
   "outputs": [
    {
     "data": {
      "text/html": [
       "<div>\n",
       "<style scoped>\n",
       "    .dataframe tbody tr th:only-of-type {\n",
       "        vertical-align: middle;\n",
       "    }\n",
       "\n",
       "    .dataframe tbody tr th {\n",
       "        vertical-align: top;\n",
       "    }\n",
       "\n",
       "    .dataframe thead th {\n",
       "        text-align: right;\n",
       "    }\n",
       "</style>\n",
       "<table border=\"1\" class=\"dataframe\">\n",
       "  <thead>\n",
       "    <tr style=\"text-align: right;\">\n",
       "      <th></th>\n",
       "      <th>month</th>\n",
       "      <th>price</th>\n",
       "    </tr>\n",
       "  </thead>\n",
       "  <tbody>\n",
       "    <tr>\n",
       "      <th>0</th>\n",
       "      <td>Jan</td>\n",
       "      <td>1.0</td>\n",
       "    </tr>\n",
       "    <tr>\n",
       "      <th>1</th>\n",
       "      <td>Feb</td>\n",
       "      <td>2.0</td>\n",
       "    </tr>\n",
       "    <tr>\n",
       "      <th>2</th>\n",
       "      <td>Mar</td>\n",
       "      <td>3.0</td>\n",
       "    </tr>\n",
       "    <tr>\n",
       "      <th>3</th>\n",
       "      <td>Apr</td>\n",
       "      <td>4.0</td>\n",
       "    </tr>\n",
       "    <tr>\n",
       "      <th>4</th>\n",
       "      <td>May</td>\n",
       "      <td>5.0</td>\n",
       "    </tr>\n",
       "  </tbody>\n",
       "</table>\n",
       "</div>"
      ],
      "text/plain": [
       "  month  price\n",
       "0   Jan    1.0\n",
       "1   Feb    2.0\n",
       "2   Mar    3.0\n",
       "3   Apr    4.0\n",
       "4   May    5.0"
      ]
     },
     "execution_count": 2,
     "metadata": {},
     "output_type": "execute_result"
    }
   ],
   "source": [
    "# Read a csv file\n",
    "d = pd.read_csv('Data/acorr.csv')\n",
    "\n",
    "# Let's take a look\n",
    "d = d.astype({'month':'category', 'price':'float64'})\n",
    "d.head()"
   ]
  },
  {
   "cell_type": "code",
   "execution_count": 3,
   "metadata": {},
   "outputs": [
    {
     "data": {
      "text/plain": [
       "(0, 7)"
      ]
     },
     "execution_count": 3,
     "metadata": {},
     "output_type": "execute_result"
    },
    {
     "data": {
      "image/png": "[encoded data removed]",
      "text/plain": [
       "<matplotlib.figure.Figure at 0x244634637f0>"
      ]
     },
     "metadata": {},
     "output_type": "display_data"
    }
   ],
   "source": [
    "fig, ax1 = plt.subplots()\n",
    "\n",
    "ax1.acorr(d.price, maxlags=6)\n",
    "ax1.set_xlim(0, 7)"
   ]
  },
  {
   "cell_type": "markdown",
   "metadata": {},
   "source": [
    "Now, let me explain what we did one by one.  \n",
    "1. When you are plotting autocorrelation, you pass only one variable, which we did by passing only Val column of the dataframe.\n",
    "2. I also set the maxlags to 6. Because it is best to use one and up to n/4 lags. In our case we have 24 entries, and if you divide 24 by 4, you will get 6. Anything beyond n/4 will be statistically unreliable (Box and Jenkins, 1970)\n",
    "3. I also set xlim to start form 0, because we are not interested in seeing a mirror effect on the negative side of the X and Y axis.\n",
    "\n",
    "Now, it is time to interpret the chart. Since all the values above 0, we have grounds to assume that preceding price affects the succeeding price formation, hence auto-correlated.\n",
    "\n",
    "Also, I suggest you read the documentation. Call help function"
   ]
  },
  {
   "cell_type": "code",
   "execution_count": 47,
   "metadata": {},
   "outputs": [
    {
     "name": "stdout",
     "output_type": "stream",
     "text": [
      "Help on method acorr in module matplotlib.axes._axes:\n",
      "\n",
      "acorr(x, *, data=None, **kwargs) method of matplotlib.axes._subplots.AxesSubplot instance\n",
      "    Plot the autocorrelation of `x`.\n",
      "    \n",
      "    Parameters\n",
      "    ----------\n",
      "    \n",
      "    x : sequence of scalar\n",
      "    \n",
      "    hold : boolean, optional, *deprecated*, default: True\n",
      "    \n",
      "    detrend : callable, optional, default: `mlab.detrend_none`\n",
      "        x is detrended by the `detrend` callable. Default is no\n",
      "        normalization.\n",
      "    \n",
      "    normed : boolean, optional, default: True\n",
      "        if True, input vectors are normalised to unit length.\n",
      "    \n",
      "    usevlines : boolean, optional, default: True\n",
      "        if True, Axes.vlines is used to plot the vertical lines from the\n",
      "        origin to the acorr. Otherwise, Axes.plot is used.\n",
      "    \n",
      "    maxlags : integer, optional, default: 10\n",
      "        number of lags to show. If None, will return all 2 * len(x) - 1\n",
      "        lags.\n",
      "    \n",
      "    Returns\n",
      "    -------\n",
      "    (lags, c, line, b) : where:\n",
      "    \n",
      "      - `lags` are a length 2`maxlags+1 lag vector.\n",
      "      - `c` is the 2`maxlags+1 auto correlation vectorI\n",
      "      - `line` is a `~matplotlib.lines.Line2D` instance returned by\n",
      "        `plot`.\n",
      "      - `b` is the x-axis.\n",
      "    \n",
      "    Other Parameters\n",
      "    ----------------\n",
      "    linestyle : `~matplotlib.lines.Line2D` prop, optional, default: None\n",
      "        Only used if usevlines is False.\n",
      "    \n",
      "    marker : string, optional, default: 'o'\n",
      "    \n",
      "    Notes\n",
      "    -----\n",
      "    The cross correlation is performed with :func:`numpy.correlate` with\n",
      "    `mode` = 2.\n",
      "    \n",
      "    .. note::\n",
      "        In addition to the above described arguments, this function can take a\n",
      "        **data** keyword argument. If such a **data** argument is given, the\n",
      "        following arguments are replaced by **data[<arg>]**:\n",
      "    \n",
      "        * All arguments with the following names: 'x'.\n",
      "\n"
     ]
    }
   ],
   "source": [
    "help(ax1.acorr)"
   ]
  },
  {
   "cell_type": "markdown",
   "metadata": {},
   "source": [
    "## Enrich the chart with more info"
   ]
  },
  {
   "cell_type": "markdown",
   "metadata": {},
   "source": [
    "If you read the documentation, __acorr__ returns 4 items.\n",
    "1. Lags (xtick labels)\n",
    "2. Coefficients of the lines\n",
    "3. Line2D instance\n",
    "4. x-axis\n",
    "\n",
    "Let's  add coefficients to the chart"
   ]
  },
  {
   "cell_type": "code",
   "execution_count": 112,
   "metadata": {},
   "outputs": [
    {
     "data": {
      "image/png": "[encoded data removed]",
      "text/plain": [
       "<matplotlib.figure.Figure at 0x1fad4e272e8>"
      ]
     },
     "metadata": {},
     "output_type": "display_data"
    }
   ],
   "source": [
    "fig, ax1 = plt.subplots()\n",
    "(lags, c, line, b) = ax1.acorr(d.price, maxlags=6)\n",
    "\n",
    "# Formatting the chart\n",
    "ax1.set_xlim(0, 7)\n",
    "ax1.set_title('Autocorrelation', size=20)\n",
    "\n",
    "for i, j in zip(lags, c):\n",
    "    ax1.annotate(str(round(j, 2)), (i,j))"
   ]
  },
  {
   "cell_type": "markdown",
   "metadata": {},
   "source": [
    "Alright, that's all about autocorrelation. If you have any questions, please let me know and bye for now."
   ]
  }
 ],
 "metadata": {
  "kernelspec": {
   "display_name": "Python 3",
   "language": "python",
   "name": "python3"
  },
  "language_info": {
   "codemirror_mode": {
    "name": "ipython",
    "version": 3
   },
   "file_extension": ".py",
   "mimetype": "text/x-python",
   "name": "python",
   "nbconvert_exporter": "python",
   "pygments_lexer": "ipython3",
   "version": "3.6.3"
  }
 },
 "nbformat": 4,
 "nbformat_minor": 2
}
