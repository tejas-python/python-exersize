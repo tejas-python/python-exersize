{
 "cells": [
  {
   "cell_type": "markdown",
   "metadata": {},
   "source": [
    "# Heatmap"
   ]
  },
  {
   "cell_type": "markdown",
   "metadata": {},
   "source": [
    "Hi and welcome to the class. Today, we will create a heatmap. If you are not sure about what heapmap is, it is a chart that helps measure intensity or power of numbers and it is hardly good for color-blinds. Because heatmap assigns color from min to max or on a scaled range.\n",
    "\n",
    "If it is starting to sound confusing, let's move to practice"
   ]
  },
  {
   "cell_type": "code",
   "execution_count": 109,
   "metadata": {},
   "outputs": [],
   "source": [
    "# import required packages\n",
    "import matplotlib.pyplot as plt\n",
    "import pandas as pd\n",
    "\n",
    "%matplotlib inline"
   ]
  },
  {
   "cell_type": "code",
   "execution_count": 110,
   "metadata": {},
   "outputs": [
    {
     "data": {
      "text/html": [
       "<div>\n",
       "<style scoped>\n",
       "    .dataframe tbody tr th:only-of-type {\n",
       "        vertical-align: middle;\n",
       "    }\n",
       "\n",
       "    .dataframe tbody tr th {\n",
       "        vertical-align: top;\n",
       "    }\n",
       "\n",
       "    .dataframe thead th {\n",
       "        text-align: right;\n",
       "    }\n",
       "</style>\n",
       "<table border=\"1\" class=\"dataframe\">\n",
       "  <thead>\n",
       "    <tr style=\"text-align: right;\">\n",
       "      <th></th>\n",
       "      <th>Date</th>\n",
       "      <th>BTC</th>\n",
       "      <th>ETH</th>\n",
       "      <th>ETC</th>\n",
       "      <th>ZEC</th>\n",
       "      <th>DASH</th>\n",
       "      <th>LTC</th>\n",
       "    </tr>\n",
       "  </thead>\n",
       "  <tbody>\n",
       "    <tr>\n",
       "      <th>0</th>\n",
       "      <td>4/28/2013</td>\n",
       "      <td>134.21</td>\n",
       "      <td>NaN</td>\n",
       "      <td>NaN</td>\n",
       "      <td>NaN</td>\n",
       "      <td>NaN</td>\n",
       "      <td>4.35</td>\n",
       "    </tr>\n",
       "    <tr>\n",
       "      <th>1</th>\n",
       "      <td>4/29/2013</td>\n",
       "      <td>144.54</td>\n",
       "      <td>NaN</td>\n",
       "      <td>NaN</td>\n",
       "      <td>NaN</td>\n",
       "      <td>NaN</td>\n",
       "      <td>4.38</td>\n",
       "    </tr>\n",
       "    <tr>\n",
       "      <th>2</th>\n",
       "      <td>4/30/2013</td>\n",
       "      <td>139.00</td>\n",
       "      <td>NaN</td>\n",
       "      <td>NaN</td>\n",
       "      <td>NaN</td>\n",
       "      <td>NaN</td>\n",
       "      <td>4.30</td>\n",
       "    </tr>\n",
       "    <tr>\n",
       "      <th>3</th>\n",
       "      <td>5/1/2013</td>\n",
       "      <td>116.99</td>\n",
       "      <td>NaN</td>\n",
       "      <td>NaN</td>\n",
       "      <td>NaN</td>\n",
       "      <td>NaN</td>\n",
       "      <td>3.80</td>\n",
       "    </tr>\n",
       "    <tr>\n",
       "      <th>4</th>\n",
       "      <td>5/2/2013</td>\n",
       "      <td>105.21</td>\n",
       "      <td>NaN</td>\n",
       "      <td>NaN</td>\n",
       "      <td>NaN</td>\n",
       "      <td>NaN</td>\n",
       "      <td>3.37</td>\n",
       "    </tr>\n",
       "  </tbody>\n",
       "</table>\n",
       "</div>"
      ],
      "text/plain": [
       "        Date     BTC  ETH  ETC  ZEC  DASH   LTC\n",
       "0  4/28/2013  134.21  NaN  NaN  NaN   NaN  4.35\n",
       "1  4/29/2013  144.54  NaN  NaN  NaN   NaN  4.38\n",
       "2  4/30/2013  139.00  NaN  NaN  NaN   NaN  4.30\n",
       "3   5/1/2013  116.99  NaN  NaN  NaN   NaN  3.80\n",
       "4   5/2/2013  105.21  NaN  NaN  NaN   NaN  3.37"
      ]
     },
     "execution_count": 110,
     "metadata": {},
     "output_type": "execute_result"
    }
   ],
   "source": [
    "'''\n",
    "We will use cryptocurrency dataset\n",
    "'''\n",
    "\n",
    "d = pd.read_csv('Data/altcoins.csv')\n",
    "d.head()"
   ]
  },
  {
   "cell_type": "markdown",
   "metadata": {},
   "source": [
    "It is advisable to get rid off NaN number values, otherwise, they will be colored white, and you don't want to spot empty slots in your heatmap. "
   ]
  },
  {
   "cell_type": "code",
   "execution_count": 111,
   "metadata": {},
   "outputs": [],
   "source": [
    "d.dropna(inplace=True)"
   ]
  },
  {
   "cell_type": "markdown",
   "metadata": {},
   "source": [
    "What we want to capture in our heatmap is a price correlation of altcoins. Just a word of advise, your probably want to capture the correlation of returns, not a nominal prices. Since the focus of this course is not about explaining statistcs, let's not delve into it, and just take price correlation. Ok?!"
   ]
  },
  {
   "cell_type": "code",
   "execution_count": 112,
   "metadata": {},
   "outputs": [
    {
     "data": {
      "text/html": [
       "<div>\n",
       "<style scoped>\n",
       "    .dataframe tbody tr th:only-of-type {\n",
       "        vertical-align: middle;\n",
       "    }\n",
       "\n",
       "    .dataframe tbody tr th {\n",
       "        vertical-align: top;\n",
       "    }\n",
       "\n",
       "    .dataframe thead th {\n",
       "        text-align: right;\n",
       "    }\n",
       "</style>\n",
       "<table border=\"1\" class=\"dataframe\">\n",
       "  <thead>\n",
       "    <tr style=\"text-align: right;\">\n",
       "      <th></th>\n",
       "      <th>BTC</th>\n",
       "      <th>ETH</th>\n",
       "      <th>ETC</th>\n",
       "      <th>ZEC</th>\n",
       "      <th>DASH</th>\n",
       "      <th>LTC</th>\n",
       "    </tr>\n",
       "  </thead>\n",
       "  <tbody>\n",
       "    <tr>\n",
       "      <th>BTC</th>\n",
       "      <td>1.000000</td>\n",
       "      <td>0.863730</td>\n",
       "      <td>0.685694</td>\n",
       "      <td>0.279518</td>\n",
       "      <td>0.910701</td>\n",
       "      <td>0.900221</td>\n",
       "    </tr>\n",
       "    <tr>\n",
       "      <th>ETH</th>\n",
       "      <td>0.863730</td>\n",
       "      <td>1.000000</td>\n",
       "      <td>0.928090</td>\n",
       "      <td>0.391908</td>\n",
       "      <td>0.917122</td>\n",
       "      <td>0.943395</td>\n",
       "    </tr>\n",
       "    <tr>\n",
       "      <th>ETC</th>\n",
       "      <td>0.685694</td>\n",
       "      <td>0.928090</td>\n",
       "      <td>1.000000</td>\n",
       "      <td>0.384311</td>\n",
       "      <td>0.772624</td>\n",
       "      <td>0.859662</td>\n",
       "    </tr>\n",
       "    <tr>\n",
       "      <th>ZEC</th>\n",
       "      <td>0.279518</td>\n",
       "      <td>0.391908</td>\n",
       "      <td>0.384311</td>\n",
       "      <td>1.000000</td>\n",
       "      <td>0.302269</td>\n",
       "      <td>0.340220</td>\n",
       "    </tr>\n",
       "    <tr>\n",
       "      <th>DASH</th>\n",
       "      <td>0.910701</td>\n",
       "      <td>0.917122</td>\n",
       "      <td>0.772624</td>\n",
       "      <td>0.302269</td>\n",
       "      <td>1.000000</td>\n",
       "      <td>0.948427</td>\n",
       "    </tr>\n",
       "    <tr>\n",
       "      <th>LTC</th>\n",
       "      <td>0.900221</td>\n",
       "      <td>0.943395</td>\n",
       "      <td>0.859662</td>\n",
       "      <td>0.340220</td>\n",
       "      <td>0.948427</td>\n",
       "      <td>1.000000</td>\n",
       "    </tr>\n",
       "  </tbody>\n",
       "</table>\n",
       "</div>"
      ],
      "text/plain": [
       "           BTC       ETH       ETC       ZEC      DASH       LTC\n",
       "BTC   1.000000  0.863730  0.685694  0.279518  0.910701  0.900221\n",
       "ETH   0.863730  1.000000  0.928090  0.391908  0.917122  0.943395\n",
       "ETC   0.685694  0.928090  1.000000  0.384311  0.772624  0.859662\n",
       "ZEC   0.279518  0.391908  0.384311  1.000000  0.302269  0.340220\n",
       "DASH  0.910701  0.917122  0.772624  0.302269  1.000000  0.948427\n",
       "LTC   0.900221  0.943395  0.859662  0.340220  0.948427  1.000000"
      ]
     },
     "execution_count": 112,
     "metadata": {},
     "output_type": "execute_result"
    }
   ],
   "source": [
    "# Correlation dataframe\n",
    "cor_df = d.corr()\n",
    "cor_df"
   ]
  },
  {
   "cell_type": "code",
   "execution_count": 113,
   "metadata": {},
   "outputs": [
    {
     "data": {
      "image/png": "[encoded data removed]",
      "text/plain": [
       "<matplotlib.figure.Figure at 0x1fc0bece2b0>"
      ]
     },
     "metadata": {},
     "output_type": "display_data"
    }
   ],
   "source": [
    "'''\n",
    "Now we are ready to  make a heatmap\n",
    "'''\n",
    "\n",
    "fig, ax = plt.subplots(figsize=(8,8))\n",
    "\n",
    "cax = ax.imshow(cor_df.values)\n"
   ]
  },
  {
   "cell_type": "code",
   "execution_count": 114,
   "metadata": {},
   "outputs": [
    {
     "data": {
      "image/png": "[encoded data removed]",
      "text/plain": [
       "<matplotlib.figure.Figure at 0x1fc0bece2b0>"
      ]
     },
     "execution_count": 114,
     "metadata": {},
     "output_type": "execute_result"
    }
   ],
   "source": [
    "'''\n",
    "Let's make it more descriptive\n",
    "'''\n",
    "\n",
    "ax.set_xticklabels(d.columns)\n",
    "ax.set_yticklabels(d.columns)\n",
    "fig.colorbar(cax, fraction=0.045)\n",
    "fig"
   ]
  },
  {
   "cell_type": "markdown",
   "metadata": {},
   "source": [
    "Looking at the dark cells, we can say that ZEC for example, has a very week correlation with BTC and vice versa. If you look at the colorbar, you can approximate the correlation coefficient to something 0.3 or below. Remember, 1 means a very strong correlation and 0 being No correlation at all.\n",
    "\n",
    "If you still need more precision, then you overlay the values on the image. "
   ]
  },
  {
   "cell_type": "code",
   "execution_count": 115,
   "metadata": {},
   "outputs": [
    {
     "data": {
      "image/png": "[encoded data removed]",
      "text/plain": [
       "<matplotlib.figure.Figure at 0x1fc0bece2b0>"
      ]
     },
     "execution_count": 115,
     "metadata": {},
     "output_type": "execute_result"
    }
   ],
   "source": [
    "import numpy as np\n",
    "\n",
    "for (i, j), t in np.ndenumerate(cor_df):\n",
    "    ax.annotate(\"{:.1f}\".format(t), xy=(i,j), va='center', ha='center')\n",
    "    \n",
    "fig"
   ]
  },
  {
   "cell_type": "markdown",
   "metadata": {},
   "source": [
    "Speaking of colorbar, if you want know more about things you can do with it, just call help function like here"
   ]
  },
  {
   "cell_type": "code",
   "execution_count": 116,
   "metadata": {},
   "outputs": [
    {
     "name": "stdout",
     "output_type": "stream",
     "text": [
      "Help on method colorbar in module matplotlib.figure:\n",
      "\n",
      "colorbar(mappable, cax=None, ax=None, use_gridspec=True, **kw) method of matplotlib.figure.Figure instance\n",
      "    Create a colorbar for a ScalarMappable instance, *mappable*.\n",
      "    \n",
      "    Documentation for the pylab thin wrapper:\n",
      "    \n",
      "    \n",
      "    Add a colorbar to a plot.\n",
      "    \n",
      "    Function signatures for the :mod:`~matplotlib.pyplot` interface; all\n",
      "    but the first are also method signatures for the\n",
      "    :meth:`~matplotlib.figure.Figure.colorbar` method::\n",
      "    \n",
      "      colorbar(**kwargs)\n",
      "      colorbar(mappable, **kwargs)\n",
      "      colorbar(mappable, cax=cax, **kwargs)\n",
      "      colorbar(mappable, ax=ax, **kwargs)\n",
      "    \n",
      "    Parameters\n",
      "    ----------\n",
      "    mappable :\n",
      "        The :class:`~matplotlib.image.Image`,\n",
      "        :class:`~matplotlib.contour.ContourSet`, etc. to\n",
      "        which the colorbar applies; this argument is mandatory for the Figure\n",
      "        :meth:`~matplotlib.figure.Figure.colorbar` method but optional for the\n",
      "        pyplot :func:`~matplotlib.pyplot.colorbar` function, which sets the\n",
      "        default to the current image.\n",
      "    \n",
      "    cax : :class:`~matplotlib.axes.Axes` object, optional\n",
      "        Axis into which the colorbar will be drawn\n",
      "    \n",
      "    ax : :class:`~matplotlib.axes.Axes`, list of Axes, optional\n",
      "        Parent axes from which space for a new colorbar axes will be stolen.\n",
      "        If a list of axes is given they will all be resized to make room for the\n",
      "        colorbar axes.\n",
      "    \n",
      "    use_gridspec : bool, optional\n",
      "        If *cax* is ``None``, a new *cax* is created as an instance of\n",
      "        Axes. If *ax* is an instance of Subplot and *use_gridspec* is ``True``,\n",
      "        *cax* is created as an instance of Subplot using the\n",
      "        grid_spec module.\n",
      "    \n",
      "    \n",
      "    Returns\n",
      "    -------\n",
      "    :class:`~matplotlib.colorbar.Colorbar` instance\n",
      "        See also its base class, :class:`~matplotlib.colorbar.ColorbarBase`.\n",
      "        Call the :meth:`~matplotlib.colorbar.ColorbarBase.set_label` method\n",
      "        to label the colorbar.\n",
      "    \n",
      "    Notes\n",
      "    -----\n",
      "    Additional keyword arguments are of two kinds:\n",
      "    \n",
      "      axes properties:\n",
      "    \n",
      "    \n",
      "        ============= ====================================================\n",
      "        Property      Description\n",
      "        ============= ====================================================\n",
      "        *orientation* vertical or horizontal\n",
      "        *fraction*    0.15; fraction of original axes to use for colorbar\n",
      "        *pad*         0.05 if vertical, 0.15 if horizontal; fraction\n",
      "                      of original axes between colorbar and new image axes\n",
      "        *shrink*      1.0; fraction by which to multiply the size of the colorbar\n",
      "        *aspect*      20; ratio of long to short dimensions\n",
      "        *anchor*      (0.0, 0.5) if vertical; (0.5, 1.0) if horizontal;\n",
      "                      the anchor point of the colorbar axes\n",
      "        *panchor*     (1.0, 0.5) if vertical; (0.5, 0.0) if horizontal;\n",
      "                      the anchor point of the colorbar parent axes. If\n",
      "                      False, the parent axes' anchor will be unchanged\n",
      "        ============= ====================================================\n",
      "    \n",
      "    \n",
      "      colorbar properties:\n",
      "    \n",
      "    \n",
      "        ============  ====================================================\n",
      "        Property      Description\n",
      "        ============  ====================================================\n",
      "        *extend*      [ 'neither' | 'both' | 'min' | 'max' ]\n",
      "                      If not 'neither', make pointed end(s) for out-of-\n",
      "                      range values.  These are set for a given colormap\n",
      "                      using the colormap set_under and set_over methods.\n",
      "        *extendfrac*  [ *None* | 'auto' | length | lengths ]\n",
      "                      If set to *None*, both the minimum and maximum\n",
      "                      triangular colorbar extensions with have a length of\n",
      "                      5% of the interior colorbar length (this is the\n",
      "                      default setting). If set to 'auto', makes the\n",
      "                      triangular colorbar extensions the same lengths as\n",
      "                      the interior boxes (when *spacing* is set to\n",
      "                      'uniform') or the same lengths as the respective\n",
      "                      adjacent interior boxes (when *spacing* is set to\n",
      "                      'proportional'). If a scalar, indicates the length\n",
      "                      of both the minimum and maximum triangular colorbar\n",
      "                      extensions as a fraction of the interior colorbar\n",
      "                      length. A two-element sequence of fractions may also\n",
      "                      be given, indicating the lengths of the minimum and\n",
      "                      maximum colorbar extensions respectively as a\n",
      "                      fraction of the interior colorbar length.\n",
      "        *extendrect*  [ *False* | *True* ]\n",
      "                      If *False* the minimum and maximum colorbar extensions\n",
      "                      will be triangular (the default). If *True* the\n",
      "                      extensions will be rectangular.\n",
      "        *spacing*     [ 'uniform' | 'proportional' ]\n",
      "                      Uniform spacing gives each discrete color the same\n",
      "                      space; proportional makes the space proportional to\n",
      "                      the data interval.\n",
      "        *ticks*       [ None | list of ticks | Locator object ]\n",
      "                      If None, ticks are determined automatically from the\n",
      "                      input.\n",
      "        *format*      [ None | format string | Formatter object ]\n",
      "                      If None, the\n",
      "                      :class:`~matplotlib.ticker.ScalarFormatter` is used.\n",
      "                      If a format string is given, e.g., '%.3f', that is\n",
      "                      used. An alternative\n",
      "                      :class:`~matplotlib.ticker.Formatter` object may be\n",
      "                      given instead.\n",
      "        *drawedges*   [ False | True ] If true, draw lines at color\n",
      "                      boundaries.\n",
      "        ============  ====================================================\n",
      "    \n",
      "        The following will probably be useful only in the context of\n",
      "        indexed colors (that is, when the mappable has norm=NoNorm()),\n",
      "        or other unusual circumstances.\n",
      "    \n",
      "        ============   ===================================================\n",
      "        Property       Description\n",
      "        ============   ===================================================\n",
      "        *boundaries*   None or a sequence\n",
      "        *values*       None or a sequence which must be of length 1 less\n",
      "                       than the sequence of *boundaries*. For each region\n",
      "                       delimited by adjacent entries in *boundaries*, the\n",
      "                       color mapped to the corresponding value in values\n",
      "                       will be used.\n",
      "        ============   ===================================================\n",
      "    \n",
      "    \n",
      "    \n",
      "    If *mappable* is a :class:`~matplotlib.contours.ContourSet`, its *extend*\n",
      "    kwarg is included automatically.\n",
      "    \n",
      "    Note that the *shrink* kwarg provides a simple way to keep a vertical\n",
      "    colorbar, for example, from being taller than the axes of the mappable\n",
      "    to which the colorbar is attached; but it is a manual method requiring\n",
      "    some trial and error. If the colorbar is too tall (or a horizontal\n",
      "    colorbar is too wide) use a smaller value of *shrink*.\n",
      "    \n",
      "    For more precise control, you can manually specify the positions of\n",
      "    the axes objects in which the mappable and the colorbar are drawn.  In\n",
      "    this case, do not use any of the axes properties kwargs.\n",
      "    \n",
      "    It is known that some vector graphics viewer (svg and pdf) renders white gaps\n",
      "    between segments of the colorbar. This is due to bugs in the viewers not\n",
      "    matplotlib. As a workaround the colorbar can be rendered with overlapping\n",
      "    segments::\n",
      "    \n",
      "        cbar = colorbar()\n",
      "        cbar.solids.set_edgecolor(\"face\")\n",
      "        draw()\n",
      "    \n",
      "    However this has negative consequences in other circumstances. Particularly\n",
      "    with semi transparent images (alpha < 1) and colorbar extensions and is not\n",
      "    enabled by default see (issue #1188).\n",
      "\n"
     ]
    }
   ],
   "source": [
    "help(fig.colorbar)"
   ]
  },
  {
   "cell_type": "markdown",
   "metadata": {},
   "source": [
    "If you are not sure about numpy's ndenumarate method, just call the help it describes it pretty well, with an example."
   ]
  },
  {
   "cell_type": "code",
   "execution_count": 117,
   "metadata": {},
   "outputs": [
    {
     "name": "stdout",
     "output_type": "stream",
     "text": [
      "Help on class ndenumerate in module numpy.lib.index_tricks:\n",
      "\n",
      "class ndenumerate(builtins.object)\n",
      " |  Multidimensional index iterator.\n",
      " |  \n",
      " |  Return an iterator yielding pairs of array coordinates and values.\n",
      " |  \n",
      " |  Parameters\n",
      " |  ----------\n",
      " |  arr : ndarray\n",
      " |    Input array.\n",
      " |  \n",
      " |  See Also\n",
      " |  --------\n",
      " |  ndindex, flatiter\n",
      " |  \n",
      " |  Examples\n",
      " |  --------\n",
      " |  >>> a = np.array([[1, 2], [3, 4]])\n",
      " |  >>> for index, x in np.ndenumerate(a):\n",
      " |  ...     print(index, x)\n",
      " |  (0, 0) 1\n",
      " |  (0, 1) 2\n",
      " |  (1, 0) 3\n",
      " |  (1, 1) 4\n",
      " |  \n",
      " |  Methods defined here:\n",
      " |  \n",
      " |  __init__(self, arr)\n",
      " |      Initialize self.  See help(type(self)) for accurate signature.\n",
      " |  \n",
      " |  __iter__(self)\n",
      " |  \n",
      " |  __next__(self)\n",
      " |      Standard iterator method, returns the index tuple and array value.\n",
      " |      \n",
      " |      Returns\n",
      " |      -------\n",
      " |      coords : tuple of ints\n",
      " |          The indices of the current iteration.\n",
      " |      val : scalar\n",
      " |          The array element of the current iteration.\n",
      " |  \n",
      " |  next = __next__(self)\n",
      " |  \n",
      " |  ----------------------------------------------------------------------\n",
      " |  Data descriptors defined here:\n",
      " |  \n",
      " |  __dict__\n",
      " |      dictionary for instance variables (if defined)\n",
      " |  \n",
      " |  __weakref__\n",
      " |      list of weak references to the object (if defined)\n",
      "\n"
     ]
    }
   ],
   "source": [
    "help(np.ndenumerate)"
   ]
  },
  {
   "cell_type": "markdown",
   "metadata": {},
   "source": [
    "Alright, that's all about heatmap and colorbars. if you have any questions, do let me know and bye for now."
   ]
  },
  {
   "cell_type": "code",
   "execution_count": null,
   "metadata": {},
   "outputs": [],
   "source": []
  }
 ],
 "metadata": {
  "kernelspec": {
   "display_name": "Python 3",
   "language": "python",
   "name": "python3"
  },
  "language_info": {
   "codemirror_mode": {
    "name": "ipython",
    "version": 3
   },
   "file_extension": ".py",
   "mimetype": "text/x-python",
   "name": "python",
   "nbconvert_exporter": "python",
   "pygments_lexer": "ipython3",
   "version": "3.6.3"
  }
 },
 "nbformat": 4,
 "nbformat_minor": 2
}
