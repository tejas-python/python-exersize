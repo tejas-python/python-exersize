{
 "cells": [
  {
   "cell_type": "markdown",
   "metadata": {},
   "source": [
    "# Violinplots"
   ]
  },
  {
   "cell_type": "markdown",
   "metadata": {},
   "source": [
    "Welcome to the class. Today we will make a Violinplot. It is very similar to boxplot, excepy it also shows probability density at different values.\n",
    "\n",
    "In other words, it combines boxplot and kde plot."
   ]
  },
  {
   "cell_type": "code",
   "execution_count": 1,
   "metadata": {},
   "outputs": [],
   "source": [
    "# import required packages\n",
    "import pandas as pd\n",
    "import matplotlib.pyplot as plt\n",
    "%matplotlib inline"
   ]
  },
  {
   "cell_type": "code",
   "execution_count": 2,
   "metadata": {},
   "outputs": [
    {
     "data": {
      "text/html": [
       "<div>\n",
       "<style scoped>\n",
       "    .dataframe tbody tr th:only-of-type {\n",
       "        vertical-align: middle;\n",
       "    }\n",
       "\n",
       "    .dataframe tbody tr th {\n",
       "        vertical-align: top;\n",
       "    }\n",
       "\n",
       "    .dataframe thead th {\n",
       "        text-align: right;\n",
       "    }\n",
       "</style>\n",
       "<table border=\"1\" class=\"dataframe\">\n",
       "  <thead>\n",
       "    <tr style=\"text-align: right;\">\n",
       "      <th></th>\n",
       "      <th>Date</th>\n",
       "      <th>BTC</th>\n",
       "      <th>ETH</th>\n",
       "      <th>ETC</th>\n",
       "      <th>ZEC</th>\n",
       "      <th>DASH</th>\n",
       "      <th>LTC</th>\n",
       "    </tr>\n",
       "  </thead>\n",
       "  <tbody>\n",
       "    <tr>\n",
       "      <th>0</th>\n",
       "      <td>4/28/2013</td>\n",
       "      <td>134.21</td>\n",
       "      <td>0.0</td>\n",
       "      <td>0.0</td>\n",
       "      <td>0.0</td>\n",
       "      <td>0.0</td>\n",
       "      <td>4.35</td>\n",
       "    </tr>\n",
       "    <tr>\n",
       "      <th>1</th>\n",
       "      <td>4/29/2013</td>\n",
       "      <td>144.54</td>\n",
       "      <td>0.0</td>\n",
       "      <td>0.0</td>\n",
       "      <td>0.0</td>\n",
       "      <td>0.0</td>\n",
       "      <td>4.38</td>\n",
       "    </tr>\n",
       "    <tr>\n",
       "      <th>2</th>\n",
       "      <td>4/30/2013</td>\n",
       "      <td>139.00</td>\n",
       "      <td>0.0</td>\n",
       "      <td>0.0</td>\n",
       "      <td>0.0</td>\n",
       "      <td>0.0</td>\n",
       "      <td>4.30</td>\n",
       "    </tr>\n",
       "    <tr>\n",
       "      <th>3</th>\n",
       "      <td>5/1/2013</td>\n",
       "      <td>116.99</td>\n",
       "      <td>0.0</td>\n",
       "      <td>0.0</td>\n",
       "      <td>0.0</td>\n",
       "      <td>0.0</td>\n",
       "      <td>3.80</td>\n",
       "    </tr>\n",
       "    <tr>\n",
       "      <th>4</th>\n",
       "      <td>5/2/2013</td>\n",
       "      <td>105.21</td>\n",
       "      <td>0.0</td>\n",
       "      <td>0.0</td>\n",
       "      <td>0.0</td>\n",
       "      <td>0.0</td>\n",
       "      <td>3.37</td>\n",
       "    </tr>\n",
       "  </tbody>\n",
       "</table>\n",
       "</div>"
      ],
      "text/plain": [
       "        Date     BTC  ETH  ETC  ZEC  DASH   LTC\n",
       "0  4/28/2013  134.21  0.0  0.0  0.0   0.0  4.35\n",
       "1  4/29/2013  144.54  0.0  0.0  0.0   0.0  4.38\n",
       "2  4/30/2013  139.00  0.0  0.0  0.0   0.0  4.30\n",
       "3   5/1/2013  116.99  0.0  0.0  0.0   0.0  3.80\n",
       "4   5/2/2013  105.21  0.0  0.0  0.0   0.0  3.37"
      ]
     },
     "execution_count": 2,
     "metadata": {},
     "output_type": "execute_result"
    }
   ],
   "source": [
    "'''\n",
    "For this class we will use Cryptocurrency historical data\n",
    "\n",
    "'''\n",
    "d = pd.read_csv('Data/altcoins.csv')\n",
    "\n",
    "# quick of the dataframe\n",
    "d.fillna(0, inplace=True)\n",
    "d.head()"
   ]
  },
  {
   "cell_type": "markdown",
   "metadata": {},
   "source": [
    "In this dataframe, we are interested in closing prices of Ethereum and Dash.and want to visualize the first quartile, 3rd quartile, median price, upper extreme, lower extreme and identify outliers if any. I am basically saying, let's make a boxplot."
   ]
  },
  {
   "cell_type": "code",
   "execution_count": 17,
   "metadata": {},
   "outputs": [
    {
     "data": {
      "text/plain": [
       "{'bodies': [<matplotlib.collections.PolyCollection at 0x1649afa95c0>,\n",
       "  <matplotlib.collections.PolyCollection at 0x1649afa9828>],\n",
       " 'cbars': <matplotlib.collections.LineCollection at 0x1649afa9f28>,\n",
       " 'cmaxes': <matplotlib.collections.LineCollection at 0x1649ae51780>,\n",
       " 'cmins': <matplotlib.collections.LineCollection at 0x1649afa9c88>}"
      ]
     },
     "execution_count": 17,
     "metadata": {},
     "output_type": "execute_result"
    },
    {
     "data": {
      "image/png": "[encoded data removed]",
      "text/plain": [
       "<matplotlib.figure.Figure at 0x1649aead9b0>"
      ]
     },
     "metadata": {},
     "output_type": "display_data"
    }
   ],
   "source": [
    "# Instantiate a figure\n",
    "fig, ax = plt.subplots()\n",
    "\n",
    "# Let's analyze the last 30 days\n",
    "# of bitcoin prices\n",
    "data = d.tail(30)\n",
    "\n",
    "# Let's choose the two columns\n",
    "# and make a list\n",
    "l=[data.ETH, data.DASH]\n",
    "\n",
    "# Let's a bare-bone boxplot\n",
    "ax.violinplot(l)"
   ]
  },
  {
   "cell_type": "markdown",
   "metadata": {},
   "source": [
    "Look at the output above the chart. So when you call violinplot method, it returns a dictionary of \n",
    "1. bodies\n",
    "2. cbars\n",
    "3. cmaxes - or outliers.\n",
    "4. cmins"
   ]
  },
  {
   "cell_type": "markdown",
   "metadata": {},
   "source": [
    "This means, just like boxplots we can easily single out every single component of the boxplot and make customizations as needed. Though, you can pass a lot of parameters not only after making a plot. Just call help function to explore your options, like below:"
   ]
  },
  {
   "cell_type": "code",
   "execution_count": 18,
   "metadata": {},
   "outputs": [
    {
     "name": "stdout",
     "output_type": "stream",
     "text": [
      "Help on method violinplot in module matplotlib.axes._axes:\n",
      "\n",
      "violinplot(dataset, positions=None, vert=True, widths=0.5, showmeans=False, showextrema=True, showmedians=False, points=100, bw_method=None, *, data=None) method of matplotlib.axes._subplots.AxesSubplot instance\n",
      "    Make a violin plot.\n",
      "    \n",
      "    Make a violin plot for each column of *dataset* or each vector in\n",
      "    sequence *dataset*.  Each filled area extends to represent the\n",
      "    entire data range, with optional lines at the mean, the median,\n",
      "    the minimum, and the maximum.\n",
      "    \n",
      "    Parameters\n",
      "    ----------\n",
      "    dataset : Array or a sequence of vectors.\n",
      "      The input data.\n",
      "    \n",
      "    positions : array-like, default = [1, 2, ..., n]\n",
      "      Sets the positions of the violins. The ticks and limits are\n",
      "      automatically set to match the positions.\n",
      "    \n",
      "    vert : bool, default = True.\n",
      "      If true, creates a vertical violin plot.\n",
      "      Otherwise, creates a horizontal violin plot.\n",
      "    \n",
      "    widths : array-like, default = 0.5\n",
      "      Either a scalar or a vector that sets the maximal width of\n",
      "      each violin. The default is 0.5, which uses about half of the\n",
      "      available horizontal space.\n",
      "    \n",
      "    showmeans : bool, default = False\n",
      "      If `True`, will toggle rendering of the means.\n",
      "    \n",
      "    showextrema : bool, default = True\n",
      "      If `True`, will toggle rendering of the extrema.\n",
      "    \n",
      "    showmedians : bool, default = False\n",
      "      If `True`, will toggle rendering of the medians.\n",
      "    \n",
      "    points : scalar, default = 100\n",
      "      Defines the number of points to evaluate each of the\n",
      "      gaussian kernel density estimations at.\n",
      "    \n",
      "    bw_method : str, scalar or callable, optional\n",
      "      The method used to calculate the estimator bandwidth.  This can be\n",
      "      'scott', 'silverman', a scalar constant or a callable.  If a\n",
      "      scalar, this will be used directly as `kde.factor`.  If a\n",
      "      callable, it should take a `GaussianKDE` instance as its only\n",
      "      parameter and return a scalar. If None (default), 'scott' is used.\n",
      "    \n",
      "    Returns\n",
      "    -------\n",
      "    \n",
      "    result : dict\n",
      "      A dictionary mapping each component of the violinplot to a\n",
      "      list of the corresponding collection instances created. The\n",
      "      dictionary has the following keys:\n",
      "    \n",
      "        - ``bodies``: A list of the\n",
      "          :class:`matplotlib.collections.PolyCollection` instances\n",
      "          containing the filled area of each violin.\n",
      "    \n",
      "        - ``cmeans``: A\n",
      "          :class:`matplotlib.collections.LineCollection` instance\n",
      "          created to identify the mean values of each of the\n",
      "          violin's distribution.\n",
      "    \n",
      "        - ``cmins``: A\n",
      "          :class:`matplotlib.collections.LineCollection` instance\n",
      "          created to identify the bottom of each violin's\n",
      "          distribution.\n",
      "    \n",
      "        - ``cmaxes``: A\n",
      "          :class:`matplotlib.collections.LineCollection` instance\n",
      "          created to identify the top of each violin's\n",
      "          distribution.\n",
      "    \n",
      "        - ``cbars``: A\n",
      "          :class:`matplotlib.collections.LineCollection` instance\n",
      "          created to identify the centers of each violin's\n",
      "          distribution.\n",
      "    \n",
      "        - ``cmedians``: A\n",
      "          :class:`matplotlib.collections.LineCollection` instance\n",
      "          created to identify the median values of each of the\n",
      "          violin's distribution.\n",
      "    \n",
      "    .. note::\n",
      "        In addition to the above described arguments, this function can take a\n",
      "        **data** keyword argument. If such a **data** argument is given, the\n",
      "        following arguments are replaced by **data[<arg>]**:\n",
      "    \n",
      "        * All arguments with the following names: 'dataset'.\n",
      "\n"
     ]
    }
   ],
   "source": [
    "help(ax.violinplot)"
   ]
  },
  {
   "cell_type": "markdown",
   "metadata": {},
   "source": [
    "Take your time to read through. It is a very short documentation. \n",
    "Alright, assuming you have read the documentation, let's get down to customizing the violinplot."
   ]
  },
  {
   "cell_type": "code",
   "execution_count": 19,
   "metadata": {},
   "outputs": [
    {
     "data": {
      "image/png": "[encoded data removed]",
      "text/plain": [
       "<matplotlib.figure.Figure at 0x1649af16c18>"
      ]
     },
     "metadata": {},
     "output_type": "display_data"
    }
   ],
   "source": [
    "# We will make brand new violinplots,\n",
    "# but this time we will pass a few parameters\n",
    "\n",
    "fig1, ax1 = plt.subplots(figsize=(12,5))\n",
    "\n",
    "\n",
    "# This time plot violinplot with few \n",
    "# parameters\n",
    "vp = ax1.violinplot(l, \n",
    "                 vert=False, \n",
    "                widths=[0.5, 0.8],\n",
    "                showmeans=True)\n",
    "\n",
    "\n",
    "# set the title\n",
    "ax1.set_title('ETH vs. DASH', size=20)\n",
    "\n",
    "# we don't need all those ticks and lables\n",
    "# two ticks and two labels will do\n",
    "ax1.set_yticks([1,2])\n",
    "ax1.set_yticklabels(['ETH','DASH'])\n",
    "\n",
    "# let's format the xaxis and add $ symbol\n",
    "from matplotlib.ticker import StrMethodFormatter\n",
    "\n",
    "mft = StrMethodFormatter(\"${x}\")\n",
    "ax1.xaxis.set_major_formatter(mft)\n"
   ]
  },
  {
   "cell_type": "markdown",
   "metadata": {},
   "source": [
    "let's recall what violinplot returns"
   ]
  },
  {
   "cell_type": "code",
   "execution_count": 20,
   "metadata": {},
   "outputs": [
    {
     "data": {
      "text/plain": [
       "{'bodies': [<matplotlib.collections.PolyCollection at 0x1649b00fa90>,\n",
       "  <matplotlib.collections.PolyCollection at 0x1649b00fcf8>],\n",
       " 'cbars': <matplotlib.collections.LineCollection at 0x1649b01d6d8>,\n",
       " 'cmaxes': <matplotlib.collections.LineCollection at 0x1649b01d198>,\n",
       " 'cmeans': <matplotlib.collections.LineCollection at 0x1649af16630>,\n",
       " 'cmins': <matplotlib.collections.LineCollection at 0x1649b01d438>}"
      ]
     },
     "execution_count": 20,
     "metadata": {},
     "output_type": "execute_result"
    }
   ],
   "source": [
    "vp"
   ]
  },
  {
   "cell_type": "markdown",
   "metadata": {},
   "source": [
    "We can select the needed component from dictionary and make necessary changes, like we will do now."
   ]
  },
  {
   "cell_type": "code",
   "execution_count": 21,
   "metadata": {},
   "outputs": [
    {
     "data": {
      "image/png": "[encoded data removed]",
      "text/plain": [
       "<matplotlib.figure.Figure at 0x1649af16c18>"
      ]
     },
     "execution_count": 21,
     "metadata": {},
     "output_type": "execute_result"
    }
   ],
   "source": [
    "# First, let us change the axes and figure colors\n",
    "fig1.set_facecolor('#ECEFF1')\n",
    "ax1.set_facecolor('#ECEFF1')\n",
    "\n",
    "\n",
    "# Select the bodies and apply colors\n",
    "vp['bodies'][0].set(alpha=100, facecolor='#1E88E5')\n",
    "vp['bodies'][1].set(alpha=100, facecolor='#FF3D00')\n",
    "\n",
    "# Select the lines, splitting the bodies into to equal halves\n",
    "# and make some changes\n",
    "vp['cbars'].set(linewidth=2, color='w', linestyle='dotted')\n",
    "\n",
    "# We can also choose the line representing mean and \n",
    "# alter them\n",
    "vp['cmeans'].set(linewidth=1, color='w', linestyle='dotted')\n",
    "\n",
    "\n",
    "# Finally, let's remove the spines\n",
    "spines=['bottom','top','left','right']\n",
    "\n",
    "for s in spines:\n",
    "    ax1.spines[s].set_visible(False)\n",
    "\n",
    "    \n",
    "fig1"
   ]
  },
  {
   "cell_type": "markdown",
   "metadata": {},
   "source": [
    "Ok. Now you know how to create and customize violinplots. If you have any questions so far, please let me know and bye for now"
   ]
  }
 ],
 "metadata": {
  "kernelspec": {
   "display_name": "Python 3",
   "language": "python",
   "name": "python3"
  },
  "language_info": {
   "codemirror_mode": {
    "name": "ipython",
    "version": 3
   },
   "file_extension": ".py",
   "mimetype": "text/x-python",
   "name": "python",
   "nbconvert_exporter": "python",
   "pygments_lexer": "ipython3",
   "version": "3.6.3"
  }
 },
 "nbformat": 4,
 "nbformat_minor": 2
}
