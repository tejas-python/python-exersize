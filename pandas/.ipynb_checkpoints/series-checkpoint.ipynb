{
 "cells": [
  {
   "cell_type": "markdown",
   "id": "9e216498",
   "metadata": {},
   "source": [
    "### PANDAS "
   ]
  },
  {
   "cell_type": "code",
   "execution_count": 3,
   "id": "72a46a8f",
   "metadata": {},
   "outputs": [],
   "source": [
    "import pandas as pd\n",
    "import numpy as np\n",
    "%config Completer.use_jedi = False"
   ]
  },
  {
   "cell_type": "markdown",
   "id": "423ef966",
   "metadata": {},
   "source": [
    "#constructer method series \n",
    "### Create A series object from a python list"
   ]
  },
  {
   "cell_type": "code",
   "execution_count": 5,
   "id": "563fee8e",
   "metadata": {},
   "outputs": [
    {
     "data": {
      "text/plain": [
       "0     chocolate\n",
       "1        vanila\n",
       "2    Strawberry\n",
       "3    Rum Raisin\n",
       "dtype: object"
      ]
     },
     "execution_count": 5,
     "metadata": {},
     "output_type": "execute_result"
    }
   ],
   "source": [
    "ice_cream = [\"chocolate\",\"vanila\",\"Strawberry\",\"Rum Raisin\"]\n",
    "pd.Series(ice_cream)"
   ]
  },
  {
   "cell_type": "code",
   "execution_count": null,
   "id": "d5aecaa7",
   "metadata": {},
   "outputs": [],
   "source": [
    "lottery = [4,8,16,23,42]\n",
    "pd.Series(lottery)"
   ]
  },
  {
   "cell_type": "code",
   "execution_count": 6,
   "id": "64a76365",
   "metadata": {},
   "outputs": [
    {
     "data": {
      "text/plain": [
       "0     True\n",
       "1    False\n",
       "2    False\n",
       "3    False\n",
       "4     True\n",
       "dtype: bool"
      ]
     },
     "execution_count": 6,
     "metadata": {},
     "output_type": "execute_result"
    }
   ],
   "source": [
    "registrations = [True,False,False,False,True]\n",
    "pd.Series(registrations)"
   ]
  },
  {
   "cell_type": "markdown",
   "id": "f8a59ccc",
   "metadata": {},
   "source": [
    "### Create a series object from Dictionary "
   ]
  },
  {
   "cell_type": "code",
   "execution_count": 7,
   "id": "92ad6c30",
   "metadata": {},
   "outputs": [
    {
     "data": {
      "text/plain": [
       "Adardvark    An animal\n",
       "Banana         A fruit\n",
       "red              color\n",
       "dtype: object"
      ]
     },
     "execution_count": 7,
     "metadata": {},
     "output_type": "execute_result"
    }
   ],
   "source": [
    "webster ={\"Adardvark\":\"An animal\",\"Banana\":\"A fruit\",\"red\":\"color\"}\n",
    "pd.Series(webster)"
   ]
  },
  {
   "cell_type": "markdown",
   "id": "3cc10b00",
   "metadata": {},
   "source": [
    "## INTRO to ATRRIBUTES"
   ]
  },
  {
   "cell_type": "code",
   "execution_count": 9,
   "id": "b188d230",
   "metadata": {},
   "outputs": [],
   "source": [
    "about_me =[\"smart\",\"handsome\",\"Charming\",\"humble\"]\n",
    "s =pd.Series(about_me)"
   ]
  },
  {
   "cell_type": "code",
   "execution_count": 10,
   "id": "2c0c667f",
   "metadata": {},
   "outputs": [
    {
     "data": {
      "text/plain": [
       "0       smart\n",
       "1    handsome\n",
       "2    Charming\n",
       "3      humble\n",
       "dtype: object"
      ]
     },
     "execution_count": 10,
     "metadata": {},
     "output_type": "execute_result"
    }
   ],
   "source": [
    "s"
   ]
  },
  {
   "cell_type": "code",
   "execution_count": 11,
   "id": "99820ebb",
   "metadata": {},
   "outputs": [
    {
     "data": {
      "text/plain": [
       "array(['smart', 'handsome', 'Charming', 'humble'], dtype=object)"
      ]
     },
     "execution_count": 11,
     "metadata": {},
     "output_type": "execute_result"
    }
   ],
   "source": [
    "s.values"
   ]
  },
  {
   "cell_type": "code",
   "execution_count": 12,
   "id": "9b9d0ce8",
   "metadata": {},
   "outputs": [
    {
     "data": {
      "text/plain": [
       "RangeIndex(start=0, stop=4, step=1)"
      ]
     },
     "execution_count": 12,
     "metadata": {},
     "output_type": "execute_result"
    }
   ],
   "source": [
    "s.index"
   ]
  },
  {
   "cell_type": "code",
   "execution_count": 13,
   "id": "1e6dc6a1",
   "metadata": {},
   "outputs": [
    {
     "data": {
      "text/plain": [
       "dtype('O')"
      ]
     },
     "execution_count": 13,
     "metadata": {},
     "output_type": "execute_result"
    }
   ],
   "source": [
    "s.dtype"
   ]
  },
  {
   "cell_type": "markdown",
   "id": "636e8787",
   "metadata": {},
   "source": [
    "### INTRO TO METHODS"
   ]
  },
  {
   "cell_type": "code",
   "execution_count": 16,
   "id": "9c9844b2",
   "metadata": {},
   "outputs": [],
   "source": [
    "prices = [2.66,4.55,2.23]\n",
    "s= pd.Series(prices)"
   ]
  },
  {
   "cell_type": "code",
   "execution_count": 18,
   "id": "9d7f57a5",
   "metadata": {},
   "outputs": [
    {
     "data": {
      "text/plain": [
       "9.44"
      ]
     },
     "execution_count": 18,
     "metadata": {},
     "output_type": "execute_result"
    }
   ],
   "source": [
    "s.sum()\n"
   ]
  },
  {
   "cell_type": "code",
   "execution_count": 19,
   "id": "cab2c349",
   "metadata": {},
   "outputs": [
    {
     "data": {
      "text/plain": [
       "26.98969"
      ]
     },
     "execution_count": 19,
     "metadata": {},
     "output_type": "execute_result"
    }
   ],
   "source": [
    "s.product()"
   ]
  },
  {
   "cell_type": "code",
   "execution_count": 20,
   "id": "a9ed4b89",
   "metadata": {},
   "outputs": [
    {
     "data": {
      "text/plain": [
       "3.1466666666666665"
      ]
     },
     "execution_count": 20,
     "metadata": {},
     "output_type": "execute_result"
    }
   ],
   "source": [
    "s.mean()"
   ]
  },
  {
   "cell_type": "markdown",
   "id": "8b515c0d",
   "metadata": {},
   "source": [
    "## Parameter and Arguments"
   ]
  },
  {
   "cell_type": "code",
   "execution_count": 23,
   "id": "9f393005",
   "metadata": {},
   "outputs": [
    {
     "data": {
      "text/plain": [
       "Monday           Apple\n",
       "Tuesday         Orange\n",
       "Wednesday         plum\n",
       "Thursday         Grape\n",
       "Friday       Blueberry\n",
       "dtype: object"
      ]
     },
     "execution_count": 23,
     "metadata": {},
     "output_type": "execute_result"
    }
   ],
   "source": [
    "fruits = ['Apple','Orange',\"plum\",\"Grape\",\"Blueberry\"]\n",
    "Weekdays = [\"Monday\",\"Tuesday\",\"Wednesday\",\"Thursday\",\"Friday\"]\n",
    "pd.Series(data= fruits,index=Weekdays)"
   ]
  },
  {
   "cell_type": "code",
   "execution_count": 27,
   "id": "fef70830",
   "metadata": {},
   "outputs": [
    {
     "data": {
      "text/plain": [
       "Monday            Apple\n",
       "Tuesday          Orange\n",
       "Wednesday          plum\n",
       "Thursday          Grape\n",
       "Friday        Blueberry\n",
       "Monday       watermelon\n",
       "dtype: object"
      ]
     },
     "execution_count": 27,
     "metadata": {},
     "output_type": "execute_result"
    }
   ],
   "source": [
    "fruits = ['Apple','Orange',\"plum\",\"Grape\",\"Blueberry\",\"watermelon\"]\n",
    "Weekdays = [\"Monday\",\"Tuesday\",\"Wednesday\",\"Thursday\",\"Friday\",\"Monday\"]\n",
    "pd.Series(data=fruits,index=Weekdays)"
   ]
  },
  {
   "cell_type": "markdown",
   "id": "276b6288",
   "metadata": {},
   "source": [
    "## IMPORT SERIES WITH READ_CSV"
   ]
  },
  {
   "cell_type": "code",
   "execution_count": 37,
   "id": "4346a958",
   "metadata": {},
   "outputs": [
    {
     "name": "stderr",
     "output_type": "stream",
     "text": [
      "C:\\Users\\tejas\\AppData\\Local\\Temp\\ipykernel_17468\\1596539908.py:1: FutureWarning: The squeeze argument has been deprecated and will be removed in a future version. Append .squeeze(\"columns\") to the call to squeeze.\n",
      "\n",
      "\n",
      "  Pokemon = pd.read_csv(\"./pandasfiles/pokemon.csv\",usecols=['Pokemon'],squeeze=True)\n"
     ]
    },
    {
     "data": {
      "text/plain": [
       "0       Bulbasaur\n",
       "1         Ivysaur\n",
       "2        Venusaur\n",
       "3      Charmander\n",
       "4      Charmeleon\n",
       "          ...    \n",
       "716       Yveltal\n",
       "717       Zygarde\n",
       "718       Diancie\n",
       "719         Hoopa\n",
       "720     Volcanion\n",
       "Name: Pokemon, Length: 721, dtype: object"
      ]
     },
     "execution_count": 37,
     "metadata": {},
     "output_type": "execute_result"
    }
   ],
   "source": [
    "Pokemon = pd.read_csv(\"./pandasfiles/pokemon.csv\",usecols=['Pokemon'],squeeze=True)\n",
    "Pokemon"
   ]
  },
  {
   "cell_type": "code",
   "execution_count": 45,
   "id": "9cefe720",
   "metadata": {},
   "outputs": [
    {
     "data": {
      "text/plain": [
       "0        50.12\n",
       "1        54.10\n",
       "2        54.65\n",
       "3        52.38\n",
       "4        52.95\n",
       "         ...  \n",
       "3007    772.88\n",
       "3008    771.07\n",
       "3009    773.18\n",
       "3010    771.61\n",
       "3011    782.22\n",
       "Name: Stock Price, Length: 3012, dtype: float64"
      ]
     },
     "execution_count": 45,
     "metadata": {},
     "output_type": "execute_result"
    }
   ],
   "source": [
    "\n",
    "stock = pd.read_csv(\"./pandasfiles/google_stock_price.csv\")\n",
    "stock.squeeze()"
   ]
  },
  {
   "cell_type": "code",
   "execution_count": 49,
   "id": "43a64ae1",
   "metadata": {},
   "outputs": [
    {
     "data": {
      "text/html": [
       "<div>\n",
       "<style scoped>\n",
       "    .dataframe tbody tr th:only-of-type {\n",
       "        vertical-align: middle;\n",
       "    }\n",
       "\n",
       "    .dataframe tbody tr th {\n",
       "        vertical-align: top;\n",
       "    }\n",
       "\n",
       "    .dataframe thead th {\n",
       "        text-align: right;\n",
       "    }\n",
       "</style>\n",
       "<table border=\"1\" class=\"dataframe\">\n",
       "  <thead>\n",
       "    <tr style=\"text-align: right;\">\n",
       "      <th></th>\n",
       "      <th>First Name</th>\n",
       "      <th>Gender</th>\n",
       "      <th>City</th>\n",
       "      <th>Frequency</th>\n",
       "      <th>Item</th>\n",
       "      <th>Spend</th>\n",
       "    </tr>\n",
       "  </thead>\n",
       "  <tbody>\n",
       "    <tr>\n",
       "      <th>0</th>\n",
       "      <td>Wanda</td>\n",
       "      <td>Female</td>\n",
       "      <td>Stamford</td>\n",
       "      <td>Weekly</td>\n",
       "      <td>Burger</td>\n",
       "      <td>15.66</td>\n",
       "    </tr>\n",
       "    <tr>\n",
       "      <th>1</th>\n",
       "      <td>Eric</td>\n",
       "      <td>Male</td>\n",
       "      <td>Stamford</td>\n",
       "      <td>Daily</td>\n",
       "      <td>Chalupa</td>\n",
       "      <td>10.56</td>\n",
       "    </tr>\n",
       "    <tr>\n",
       "      <th>2</th>\n",
       "      <td>Charles</td>\n",
       "      <td>Male</td>\n",
       "      <td>New York</td>\n",
       "      <td>Never</td>\n",
       "      <td>Sushi</td>\n",
       "      <td>42.14</td>\n",
       "    </tr>\n",
       "    <tr>\n",
       "      <th>3</th>\n",
       "      <td>Anna</td>\n",
       "      <td>Female</td>\n",
       "      <td>Philadelphia</td>\n",
       "      <td>Once</td>\n",
       "      <td>Ice Cream</td>\n",
       "      <td>11.01</td>\n",
       "    </tr>\n",
       "    <tr>\n",
       "      <th>4</th>\n",
       "      <td>Deborah</td>\n",
       "      <td>Female</td>\n",
       "      <td>Philadelphia</td>\n",
       "      <td>Daily</td>\n",
       "      <td>Chalupa</td>\n",
       "      <td>23.49</td>\n",
       "    </tr>\n",
       "    <tr>\n",
       "      <th>...</th>\n",
       "      <td>...</td>\n",
       "      <td>...</td>\n",
       "      <td>...</td>\n",
       "      <td>...</td>\n",
       "      <td>...</td>\n",
       "      <td>...</td>\n",
       "    </tr>\n",
       "    <tr>\n",
       "      <th>995</th>\n",
       "      <td>Donna</td>\n",
       "      <td>Female</td>\n",
       "      <td>New York</td>\n",
       "      <td>Monthly</td>\n",
       "      <td>Sushi</td>\n",
       "      <td>83.53</td>\n",
       "    </tr>\n",
       "    <tr>\n",
       "      <th>996</th>\n",
       "      <td>Albert</td>\n",
       "      <td>Male</td>\n",
       "      <td>Philadelphia</td>\n",
       "      <td>Daily</td>\n",
       "      <td>Sushi</td>\n",
       "      <td>72.88</td>\n",
       "    </tr>\n",
       "    <tr>\n",
       "      <th>997</th>\n",
       "      <td>Jean</td>\n",
       "      <td>Female</td>\n",
       "      <td>Stamford</td>\n",
       "      <td>Weekly</td>\n",
       "      <td>Donut</td>\n",
       "      <td>5.85</td>\n",
       "    </tr>\n",
       "    <tr>\n",
       "      <th>998</th>\n",
       "      <td>Jessica</td>\n",
       "      <td>Female</td>\n",
       "      <td>New York</td>\n",
       "      <td>Daily</td>\n",
       "      <td>Chalupa</td>\n",
       "      <td>43.19</td>\n",
       "    </tr>\n",
       "    <tr>\n",
       "      <th>999</th>\n",
       "      <td>Brian</td>\n",
       "      <td>Male</td>\n",
       "      <td>New York</td>\n",
       "      <td>Daily</td>\n",
       "      <td>Chalupa</td>\n",
       "      <td>28.36</td>\n",
       "    </tr>\n",
       "  </tbody>\n",
       "</table>\n",
       "<p>1000 rows × 6 columns</p>\n",
       "</div>"
      ],
      "text/plain": [
       "    First Name  Gender          City Frequency       Item  Spend\n",
       "0        Wanda  Female      Stamford    Weekly     Burger  15.66\n",
       "1         Eric    Male      Stamford     Daily    Chalupa  10.56\n",
       "2      Charles    Male      New York     Never      Sushi  42.14\n",
       "3         Anna  Female  Philadelphia      Once  Ice Cream  11.01\n",
       "4      Deborah  Female  Philadelphia     Daily    Chalupa  23.49\n",
       "..         ...     ...           ...       ...        ...    ...\n",
       "995      Donna  Female      New York   Monthly      Sushi  83.53\n",
       "996     Albert    Male  Philadelphia     Daily      Sushi  72.88\n",
       "997       Jean  Female      Stamford    Weekly      Donut   5.85\n",
       "998    Jessica  Female      New York     Daily    Chalupa  43.19\n",
       "999      Brian    Male      New York     Daily    Chalupa  28.36\n",
       "\n",
       "[1000 rows x 6 columns]"
      ]
     },
     "execution_count": 49,
     "metadata": {},
     "output_type": "execute_result"
    }
   ],
   "source": [
    "food = pd.read_csv(\"./pandasfiles/foods.csv\",)# usecols=['Menu Item'],squeeze=True)\n",
    "food"
   ]
  },
  {
   "cell_type": "markdown",
   "id": "e9145859",
   "metadata": {},
   "source": [
    "## the .head() and .tail() Methods"
   ]
  },
  {
   "cell_type": "code",
   "execution_count": 66,
   "id": "e2fe26b4",
   "metadata": {},
   "outputs": [
    {
     "name": "stderr",
     "output_type": "stream",
     "text": [
      "C:\\Users\\tejas\\AppData\\Local\\Temp\\ipykernel_17468\\1837378755.py:1: FutureWarning: The squeeze argument has been deprecated and will be removed in a future version. Append .squeeze(\"columns\") to the call to squeeze.\n",
      "\n",
      "\n",
      "  Pokemon = pd.read_csv(\"./pandasfiles/pokemon.csv\",usecols=['Pokemon'],squeeze=True)\n",
      "C:\\Users\\tejas\\AppData\\Local\\Temp\\ipykernel_17468\\1837378755.py:2: FutureWarning: The squeeze argument has been deprecated and will be removed in a future version. Append .squeeze(\"columns\") to the call to squeeze.\n",
      "\n",
      "\n",
      "  google = pd.read_csv(\"./pandasfiles/google_stock_price.csv\",squeeze=True)\n"
     ]
    }
   ],
   "source": [
    "Pokemon = pd.read_csv(\"./pandasfiles/pokemon.csv\",usecols=['Pokemon'],squeeze=True)\n",
    "google = pd.read_csv(\"./pandasfiles/google_stock_price.csv\",squeeze=True)\n"
   ]
  },
  {
   "cell_type": "code",
   "execution_count": 67,
   "id": "292f95a9",
   "metadata": {},
   "outputs": [
    {
     "data": {
      "text/plain": [
       "0     Bulbasaur\n",
       "1       Ivysaur\n",
       "2      Venusaur\n",
       "3    Charmander\n",
       "4    Charmeleon\n",
       "5     Charizard\n",
       "6      Squirtle\n",
       "7     Wartortle\n",
       "8     Blastoise\n",
       "9      Caterpie\n",
       "Name: Pokemon, dtype: object"
      ]
     },
     "execution_count": 67,
     "metadata": {},
     "output_type": "execute_result"
    }
   ],
   "source": [
    "Pokemon.head(10)"
   ]
  },
  {
   "cell_type": "code",
   "execution_count": 68,
   "id": "6333d66d",
   "metadata": {},
   "outputs": [
    {
     "data": {
      "text/plain": [
       "3002    739.77\n",
       "3003    738.42\n",
       "3004    741.77\n",
       "3005    745.91\n",
       "3006    768.79\n",
       "3007    772.88\n",
       "3008    771.07\n",
       "3009    773.18\n",
       "3010    771.61\n",
       "3011    782.22\n",
       "Name: Stock Price, dtype: float64"
      ]
     },
     "execution_count": 68,
     "metadata": {},
     "output_type": "execute_result"
    }
   ],
   "source": [
    "google.tail(10)"
   ]
  },
  {
   "cell_type": "markdown",
   "id": "dc2a6d7e",
   "metadata": {},
   "source": [
    "### Python BUILT-in Funtions"
   ]
  },
  {
   "cell_type": "code",
   "execution_count": 69,
   "id": "3de8e75e",
   "metadata": {},
   "outputs": [
    {
     "data": {
      "text/plain": [
       "(721, 3012)"
      ]
     },
     "execution_count": 69,
     "metadata": {},
     "output_type": "execute_result"
    }
   ],
   "source": [
    "len(Pokemon),len(google) #no of rows "
   ]
  },
  {
   "cell_type": "code",
   "execution_count": 70,
   "id": "f009becb",
   "metadata": {},
   "outputs": [
    {
     "data": {
      "text/plain": [
       "(pandas.core.series.Series, pandas.core.series.Series)"
      ]
     },
     "execution_count": 70,
     "metadata": {},
     "output_type": "execute_result"
    }
   ],
   "source": [
    "type(Pokemon),type(google)"
   ]
  },
  {
   "cell_type": "code",
   "execution_count": 71,
   "id": "761fb5b0",
   "metadata": {
    "collapsed": true
   },
   "outputs": [
    {
     "data": {
      "text/plain": [
       "['T',\n",
       " '_AXIS_LEN',\n",
       " '_AXIS_ORDERS',\n",
       " '_AXIS_TO_AXIS_NUMBER',\n",
       " '_HANDLED_TYPES',\n",
       " '__abs__',\n",
       " '__add__',\n",
       " '__and__',\n",
       " '__annotations__',\n",
       " '__array__',\n",
       " '__array_priority__',\n",
       " '__array_ufunc__',\n",
       " '__array_wrap__',\n",
       " '__bool__',\n",
       " '__class__',\n",
       " '__contains__',\n",
       " '__copy__',\n",
       " '__deepcopy__',\n",
       " '__delattr__',\n",
       " '__delitem__',\n",
       " '__dict__',\n",
       " '__dir__',\n",
       " '__divmod__',\n",
       " '__doc__',\n",
       " '__eq__',\n",
       " '__finalize__',\n",
       " '__float__',\n",
       " '__floordiv__',\n",
       " '__format__',\n",
       " '__ge__',\n",
       " '__getattr__',\n",
       " '__getattribute__',\n",
       " '__getitem__',\n",
       " '__getstate__',\n",
       " '__gt__',\n",
       " '__hash__',\n",
       " '__iadd__',\n",
       " '__iand__',\n",
       " '__ifloordiv__',\n",
       " '__imod__',\n",
       " '__imul__',\n",
       " '__init__',\n",
       " '__init_subclass__',\n",
       " '__int__',\n",
       " '__invert__',\n",
       " '__ior__',\n",
       " '__ipow__',\n",
       " '__isub__',\n",
       " '__iter__',\n",
       " '__itruediv__',\n",
       " '__ixor__',\n",
       " '__le__',\n",
       " '__len__',\n",
       " '__long__',\n",
       " '__lt__',\n",
       " '__matmul__',\n",
       " '__mod__',\n",
       " '__module__',\n",
       " '__mul__',\n",
       " '__ne__',\n",
       " '__neg__',\n",
       " '__new__',\n",
       " '__nonzero__',\n",
       " '__or__',\n",
       " '__pos__',\n",
       " '__pow__',\n",
       " '__radd__',\n",
       " '__rand__',\n",
       " '__rdivmod__',\n",
       " '__reduce__',\n",
       " '__reduce_ex__',\n",
       " '__repr__',\n",
       " '__rfloordiv__',\n",
       " '__rmatmul__',\n",
       " '__rmod__',\n",
       " '__rmul__',\n",
       " '__ror__',\n",
       " '__round__',\n",
       " '__rpow__',\n",
       " '__rsub__',\n",
       " '__rtruediv__',\n",
       " '__rxor__',\n",
       " '__setattr__',\n",
       " '__setitem__',\n",
       " '__setstate__',\n",
       " '__sizeof__',\n",
       " '__str__',\n",
       " '__sub__',\n",
       " '__subclasshook__',\n",
       " '__truediv__',\n",
       " '__weakref__',\n",
       " '__xor__',\n",
       " '_accessors',\n",
       " '_accum_func',\n",
       " '_add_numeric_operations',\n",
       " '_agg_by_level',\n",
       " '_agg_examples_doc',\n",
       " '_agg_see_also_doc',\n",
       " '_align_frame',\n",
       " '_align_series',\n",
       " '_append',\n",
       " '_arith_method',\n",
       " '_as_manager',\n",
       " '_attrs',\n",
       " '_binop',\n",
       " '_can_hold_na',\n",
       " '_check_inplace_and_allows_duplicate_labels',\n",
       " '_check_inplace_setting',\n",
       " '_check_is_chained_assignment_possible',\n",
       " '_check_label_or_level_ambiguity',\n",
       " '_check_setitem_copy',\n",
       " '_clear_item_cache',\n",
       " '_clip_with_one_bound',\n",
       " '_clip_with_scalar',\n",
       " '_cmp_method',\n",
       " '_consolidate',\n",
       " '_consolidate_inplace',\n",
       " '_construct_axes_dict',\n",
       " '_construct_axes_from_arguments',\n",
       " '_construct_result',\n",
       " '_constructor',\n",
       " '_constructor_expanddim',\n",
       " '_convert',\n",
       " '_convert_dtypes',\n",
       " '_data',\n",
       " '_dir_additions',\n",
       " '_dir_deletions',\n",
       " '_drop_axis',\n",
       " '_drop_labels_or_levels',\n",
       " '_duplicated',\n",
       " '_find_valid_index',\n",
       " '_flags',\n",
       " '_from_mgr',\n",
       " '_get_axis',\n",
       " '_get_axis_name',\n",
       " '_get_axis_number',\n",
       " '_get_axis_resolvers',\n",
       " '_get_block_manager_axis',\n",
       " '_get_bool_data',\n",
       " '_get_cacher',\n",
       " '_get_cleaned_column_resolvers',\n",
       " '_get_index_resolvers',\n",
       " '_get_label_or_level_values',\n",
       " '_get_numeric_data',\n",
       " '_get_value',\n",
       " '_get_values',\n",
       " '_get_values_tuple',\n",
       " '_get_with',\n",
       " '_gotitem',\n",
       " '_hidden_attrs',\n",
       " '_indexed_same',\n",
       " '_info_axis',\n",
       " '_info_axis_name',\n",
       " '_info_axis_number',\n",
       " '_init_dict',\n",
       " '_init_mgr',\n",
       " '_inplace_method',\n",
       " '_internal_names',\n",
       " '_internal_names_set',\n",
       " '_is_cached',\n",
       " '_is_copy',\n",
       " '_is_label_or_level_reference',\n",
       " '_is_label_reference',\n",
       " '_is_level_reference',\n",
       " '_is_mixed_type',\n",
       " '_is_view',\n",
       " '_item_cache',\n",
       " '_ixs',\n",
       " '_logical_func',\n",
       " '_logical_method',\n",
       " '_map_values',\n",
       " '_maybe_update_cacher',\n",
       " '_memory_usage',\n",
       " '_metadata',\n",
       " '_mgr',\n",
       " '_min_count_stat_function',\n",
       " '_name',\n",
       " '_needs_reindex_multi',\n",
       " '_protect_consolidate',\n",
       " '_reduce',\n",
       " '_reindex_axes',\n",
       " '_reindex_indexer',\n",
       " '_reindex_multi',\n",
       " '_reindex_with_indexers',\n",
       " '_rename',\n",
       " '_replace_single',\n",
       " '_repr_data_resource_',\n",
       " '_repr_latex_',\n",
       " '_reset_cache',\n",
       " '_reset_cacher',\n",
       " '_set_as_cached',\n",
       " '_set_axis',\n",
       " '_set_axis_name',\n",
       " '_set_axis_nocheck',\n",
       " '_set_is_copy',\n",
       " '_set_labels',\n",
       " '_set_name',\n",
       " '_set_value',\n",
       " '_set_values',\n",
       " '_set_with',\n",
       " '_set_with_engine',\n",
       " '_slice',\n",
       " '_stat_axis',\n",
       " '_stat_axis_name',\n",
       " '_stat_axis_number',\n",
       " '_stat_function',\n",
       " '_stat_function_ddof',\n",
       " '_take_with_is_copy',\n",
       " '_typ',\n",
       " '_update_inplace',\n",
       " '_validate_dtype',\n",
       " '_values',\n",
       " '_where',\n",
       " 'abs',\n",
       " 'add',\n",
       " 'add_prefix',\n",
       " 'add_suffix',\n",
       " 'agg',\n",
       " 'aggregate',\n",
       " 'align',\n",
       " 'all',\n",
       " 'any',\n",
       " 'append',\n",
       " 'apply',\n",
       " 'argmax',\n",
       " 'argmin',\n",
       " 'argsort',\n",
       " 'array',\n",
       " 'asfreq',\n",
       " 'asof',\n",
       " 'astype',\n",
       " 'at',\n",
       " 'at_time',\n",
       " 'attrs',\n",
       " 'autocorr',\n",
       " 'axes',\n",
       " 'backfill',\n",
       " 'between',\n",
       " 'between_time',\n",
       " 'bfill',\n",
       " 'bool',\n",
       " 'clip',\n",
       " 'combine',\n",
       " 'combine_first',\n",
       " 'compare',\n",
       " 'convert_dtypes',\n",
       " 'copy',\n",
       " 'corr',\n",
       " 'count',\n",
       " 'cov',\n",
       " 'cummax',\n",
       " 'cummin',\n",
       " 'cumprod',\n",
       " 'cumsum',\n",
       " 'describe',\n",
       " 'diff',\n",
       " 'div',\n",
       " 'divide',\n",
       " 'divmod',\n",
       " 'dot',\n",
       " 'drop',\n",
       " 'drop_duplicates',\n",
       " 'droplevel',\n",
       " 'dropna',\n",
       " 'dtype',\n",
       " 'dtypes',\n",
       " 'duplicated',\n",
       " 'empty',\n",
       " 'eq',\n",
       " 'equals',\n",
       " 'ewm',\n",
       " 'expanding',\n",
       " 'explode',\n",
       " 'factorize',\n",
       " 'ffill',\n",
       " 'fillna',\n",
       " 'filter',\n",
       " 'first',\n",
       " 'first_valid_index',\n",
       " 'flags',\n",
       " 'floordiv',\n",
       " 'ge',\n",
       " 'get',\n",
       " 'groupby',\n",
       " 'gt',\n",
       " 'hasnans',\n",
       " 'head',\n",
       " 'hist',\n",
       " 'iat',\n",
       " 'idxmax',\n",
       " 'idxmin',\n",
       " 'iloc',\n",
       " 'index',\n",
       " 'infer_objects',\n",
       " 'info',\n",
       " 'interpolate',\n",
       " 'is_monotonic',\n",
       " 'is_monotonic_decreasing',\n",
       " 'is_monotonic_increasing',\n",
       " 'is_unique',\n",
       " 'isin',\n",
       " 'isna',\n",
       " 'isnull',\n",
       " 'item',\n",
       " 'items',\n",
       " 'iteritems',\n",
       " 'keys',\n",
       " 'kurt',\n",
       " 'kurtosis',\n",
       " 'last',\n",
       " 'last_valid_index',\n",
       " 'le',\n",
       " 'loc',\n",
       " 'lt',\n",
       " 'mad',\n",
       " 'map',\n",
       " 'mask',\n",
       " 'max',\n",
       " 'mean',\n",
       " 'median',\n",
       " 'memory_usage',\n",
       " 'min',\n",
       " 'mod',\n",
       " 'mode',\n",
       " 'mul',\n",
       " 'multiply',\n",
       " 'name',\n",
       " 'nbytes',\n",
       " 'ndim',\n",
       " 'ne',\n",
       " 'nlargest',\n",
       " 'notna',\n",
       " 'notnull',\n",
       " 'nsmallest',\n",
       " 'nunique',\n",
       " 'pad',\n",
       " 'pct_change',\n",
       " 'pipe',\n",
       " 'plot',\n",
       " 'pop',\n",
       " 'pow',\n",
       " 'prod',\n",
       " 'product',\n",
       " 'quantile',\n",
       " 'radd',\n",
       " 'rank',\n",
       " 'ravel',\n",
       " 'rdiv',\n",
       " 'rdivmod',\n",
       " 'reindex',\n",
       " 'reindex_like',\n",
       " 'rename',\n",
       " 'rename_axis',\n",
       " 'reorder_levels',\n",
       " 'repeat',\n",
       " 'replace',\n",
       " 'resample',\n",
       " 'reset_index',\n",
       " 'rfloordiv',\n",
       " 'rmod',\n",
       " 'rmul',\n",
       " 'rolling',\n",
       " 'round',\n",
       " 'rpow',\n",
       " 'rsub',\n",
       " 'rtruediv',\n",
       " 'sample',\n",
       " 'searchsorted',\n",
       " 'sem',\n",
       " 'set_axis',\n",
       " 'set_flags',\n",
       " 'shape',\n",
       " 'shift',\n",
       " 'size',\n",
       " 'skew',\n",
       " 'slice_shift',\n",
       " 'sort_index',\n",
       " 'sort_values',\n",
       " 'squeeze',\n",
       " 'std',\n",
       " 'str',\n",
       " 'sub',\n",
       " 'subtract',\n",
       " 'sum',\n",
       " 'swapaxes',\n",
       " 'swaplevel',\n",
       " 'tail',\n",
       " 'take',\n",
       " 'to_clipboard',\n",
       " 'to_csv',\n",
       " 'to_dict',\n",
       " 'to_excel',\n",
       " 'to_frame',\n",
       " 'to_hdf',\n",
       " 'to_json',\n",
       " 'to_latex',\n",
       " 'to_list',\n",
       " 'to_markdown',\n",
       " 'to_numpy',\n",
       " 'to_period',\n",
       " 'to_pickle',\n",
       " 'to_sql',\n",
       " 'to_string',\n",
       " 'to_timestamp',\n",
       " 'to_xarray',\n",
       " 'transform',\n",
       " 'transpose',\n",
       " 'truediv',\n",
       " 'truncate',\n",
       " 'tz_convert',\n",
       " 'tz_localize',\n",
       " 'unique',\n",
       " 'unstack',\n",
       " 'update',\n",
       " 'value_counts',\n",
       " 'values',\n",
       " 'var',\n",
       " 'view',\n",
       " 'where',\n",
       " 'xs']"
      ]
     },
     "execution_count": 71,
     "metadata": {},
     "output_type": "execute_result"
    }
   ],
   "source": [
    "dir(Pokemon)"
   ]
  },
  {
   "cell_type": "code",
   "execution_count": 72,
   "id": "2f690f19",
   "metadata": {
    "collapsed": true
   },
   "outputs": [
    {
     "data": {
      "text/plain": [
       "['Abomasnow',\n",
       " 'Abra',\n",
       " 'Absol',\n",
       " 'Accelgor',\n",
       " 'Aegislash',\n",
       " 'Aerodactyl',\n",
       " 'Aggron',\n",
       " 'Aipom',\n",
       " 'Alakazam',\n",
       " 'Alomomola',\n",
       " 'Altaria',\n",
       " 'Amaura',\n",
       " 'Ambipom',\n",
       " 'Amoonguss',\n",
       " 'Ampharos',\n",
       " 'Anorith',\n",
       " 'Arbok',\n",
       " 'Arcanine',\n",
       " 'Arceus',\n",
       " 'Archen',\n",
       " 'Archeops',\n",
       " 'Ariados',\n",
       " 'Armaldo',\n",
       " 'Aromatisse',\n",
       " 'Aron',\n",
       " 'Articuno',\n",
       " 'Audino',\n",
       " 'Aurorus',\n",
       " 'Avalugg',\n",
       " 'Axew',\n",
       " 'Azelf',\n",
       " 'Azumarill',\n",
       " 'Azurill',\n",
       " 'Bagon',\n",
       " 'Baltoy',\n",
       " 'Banette',\n",
       " 'Barbaracle',\n",
       " 'Barboach',\n",
       " 'Basculin',\n",
       " 'Bastiodon',\n",
       " 'Bayleef',\n",
       " 'Beartic',\n",
       " 'Beautifly',\n",
       " 'Beedrill',\n",
       " 'Beheeyem',\n",
       " 'Beldum',\n",
       " 'Bellossom',\n",
       " 'Bellsprout',\n",
       " 'Bergmite',\n",
       " 'Bibarel',\n",
       " 'Bidoof',\n",
       " 'Binacle',\n",
       " 'Bisharp',\n",
       " 'Blastoise',\n",
       " 'Blaziken',\n",
       " 'Blissey',\n",
       " 'Blitzle',\n",
       " 'Boldore',\n",
       " 'Bonsly',\n",
       " 'Bouffalant',\n",
       " 'Braixen',\n",
       " 'Braviary',\n",
       " 'Breloom',\n",
       " 'Bronzong',\n",
       " 'Bronzor',\n",
       " 'Budew',\n",
       " 'Buizel',\n",
       " 'Bulbasaur',\n",
       " 'Buneary',\n",
       " 'Bunnelby',\n",
       " 'Burmy',\n",
       " 'Butterfree',\n",
       " 'Cacnea',\n",
       " 'Cacturne',\n",
       " 'Camerupt',\n",
       " 'Carbink',\n",
       " 'Carnivine',\n",
       " 'Carracosta',\n",
       " 'Carvanha',\n",
       " 'Cascoon',\n",
       " 'Castform',\n",
       " 'Caterpie',\n",
       " 'Celebi',\n",
       " 'Chandelure',\n",
       " 'Chansey',\n",
       " 'Charizard',\n",
       " 'Charmander',\n",
       " 'Charmeleon',\n",
       " 'Chatot',\n",
       " 'Cherrim',\n",
       " 'Cherubi',\n",
       " 'Chesnaught',\n",
       " 'Chespin',\n",
       " 'Chikorita',\n",
       " 'Chimchar',\n",
       " 'Chimecho',\n",
       " 'Chinchou',\n",
       " 'Chingling',\n",
       " 'Cinccino',\n",
       " 'Clamperl',\n",
       " 'Clauncher',\n",
       " 'Clawitzer',\n",
       " 'Claydol',\n",
       " 'Clefable',\n",
       " 'Clefairy',\n",
       " 'Cleffa',\n",
       " 'Cloyster',\n",
       " 'Cobalion',\n",
       " 'Cofagrigus',\n",
       " 'Combee',\n",
       " 'Combusken',\n",
       " 'Conkeldurr',\n",
       " 'Corphish',\n",
       " 'Corsola',\n",
       " 'Cottonee',\n",
       " 'Cradily',\n",
       " 'Cranidos',\n",
       " 'Crawdaunt',\n",
       " 'Cresselia',\n",
       " 'Croagunk',\n",
       " 'Crobat',\n",
       " 'Croconaw',\n",
       " 'Crustle',\n",
       " 'Cryogonal',\n",
       " 'Cubchoo',\n",
       " 'Cubone',\n",
       " 'Cyndaquil',\n",
       " 'Darkrai',\n",
       " 'Darmanitan',\n",
       " 'Darumaka',\n",
       " 'Dedenne',\n",
       " 'Deerling',\n",
       " 'Deino',\n",
       " 'Delcatty',\n",
       " 'Delibird',\n",
       " 'Delphox',\n",
       " 'Deoxys',\n",
       " 'Dewgong',\n",
       " 'Dewott',\n",
       " 'Dialga',\n",
       " 'Diancie',\n",
       " 'Diggersby',\n",
       " 'Diglett',\n",
       " 'Ditto',\n",
       " 'Dodrio',\n",
       " 'Doduo',\n",
       " 'Donphan',\n",
       " 'Doublade',\n",
       " 'Dragalge',\n",
       " 'Dragonair',\n",
       " 'Dragonite',\n",
       " 'Drapion',\n",
       " 'Dratini',\n",
       " 'Drifblim',\n",
       " 'Drifloon',\n",
       " 'Drilbur',\n",
       " 'Drowzee',\n",
       " 'Druddigon',\n",
       " 'Ducklett',\n",
       " 'Dugtrio',\n",
       " 'Dunsparce',\n",
       " 'Duosion',\n",
       " 'Durant',\n",
       " 'Dusclops',\n",
       " 'Dusknoir',\n",
       " 'Duskull',\n",
       " 'Dustox',\n",
       " 'Dwebble',\n",
       " 'Eelektrik',\n",
       " 'Eelektross',\n",
       " 'Eevee',\n",
       " 'Ekans',\n",
       " 'Electabuzz',\n",
       " 'Electivire',\n",
       " 'Electrike',\n",
       " 'Electrode',\n",
       " 'Elekid',\n",
       " 'Elgyem',\n",
       " 'Emboar',\n",
       " 'Emolga',\n",
       " 'Empoleon',\n",
       " 'Entei',\n",
       " 'Escavalier',\n",
       " 'Espeon',\n",
       " 'Espurr',\n",
       " 'Excadrill',\n",
       " 'Exeggcute',\n",
       " 'Exeggutor',\n",
       " 'Exploud',\n",
       " \"Farfetch'd\",\n",
       " 'Fearow',\n",
       " 'Feebas',\n",
       " 'Fennekin',\n",
       " 'Feraligatr',\n",
       " 'Ferroseed',\n",
       " 'Ferrothorn',\n",
       " 'Finneon',\n",
       " 'Flaaffy',\n",
       " 'Flabébé',\n",
       " 'Flareon',\n",
       " 'Fletchinder',\n",
       " 'Fletchling',\n",
       " 'Floatzel',\n",
       " 'Floette',\n",
       " 'Florges',\n",
       " 'Flygon',\n",
       " 'Foongus',\n",
       " 'Forretress',\n",
       " 'Fraxure',\n",
       " 'Frillish',\n",
       " 'Froakie',\n",
       " 'Frogadier',\n",
       " 'Froslass',\n",
       " 'Furfrou',\n",
       " 'Furret',\n",
       " 'Gabite',\n",
       " 'Gallade',\n",
       " 'Galvantula',\n",
       " 'Garbodor',\n",
       " 'Garchomp',\n",
       " 'Gardevoir',\n",
       " 'Gastly',\n",
       " 'Gastrodon',\n",
       " 'Genesect',\n",
       " 'Gengar',\n",
       " 'Geodude',\n",
       " 'Gible',\n",
       " 'Gigalith',\n",
       " 'Girafarig',\n",
       " 'Giratina',\n",
       " 'Glaceon',\n",
       " 'Glalie',\n",
       " 'Glameow',\n",
       " 'Gligar',\n",
       " 'Gliscor',\n",
       " 'Gloom',\n",
       " 'Gogoat',\n",
       " 'Golbat',\n",
       " 'Goldeen',\n",
       " 'Golduck',\n",
       " 'Golem',\n",
       " 'Golett',\n",
       " 'Golurk',\n",
       " 'Goodra',\n",
       " 'Goomy',\n",
       " 'Gorebyss',\n",
       " 'Gothita',\n",
       " 'Gothitelle',\n",
       " 'Gothorita',\n",
       " 'Gourgeist',\n",
       " 'Granbull',\n",
       " 'Graveler',\n",
       " 'Greninja',\n",
       " 'Grimer',\n",
       " 'Grotle',\n",
       " 'Groudon',\n",
       " 'Grovyle',\n",
       " 'Growlithe',\n",
       " 'Grumpig',\n",
       " 'Gulpin',\n",
       " 'Gurdurr',\n",
       " 'Gyarados',\n",
       " 'Happiny',\n",
       " 'Hariyama',\n",
       " 'Haunter',\n",
       " 'Hawlucha',\n",
       " 'Haxorus',\n",
       " 'Heatmor',\n",
       " 'Heatran',\n",
       " 'Heliolisk',\n",
       " 'Helioptile',\n",
       " 'Heracross',\n",
       " 'Herdier',\n",
       " 'Hippopotas',\n",
       " 'Hippowdon',\n",
       " 'Hitmonchan',\n",
       " 'Hitmonlee',\n",
       " 'Hitmontop',\n",
       " 'Ho-oh',\n",
       " 'Honchkrow',\n",
       " 'Honedge',\n",
       " 'Hoopa',\n",
       " 'Hoothoot',\n",
       " 'Hoppip',\n",
       " 'Horsea',\n",
       " 'Houndoom',\n",
       " 'Houndour',\n",
       " 'Huntail',\n",
       " 'Hydreigon',\n",
       " 'Hypno',\n",
       " 'Igglybuff',\n",
       " 'Illumise',\n",
       " 'Infernape',\n",
       " 'Inkay',\n",
       " 'Ivysaur',\n",
       " 'Jellicent',\n",
       " 'Jigglypuff',\n",
       " 'Jirachi',\n",
       " 'Jolteon',\n",
       " 'Joltik',\n",
       " 'Jumpluff',\n",
       " 'Jynx',\n",
       " 'Kabuto',\n",
       " 'Kabutops',\n",
       " 'Kadabra',\n",
       " 'Kakuna',\n",
       " 'Kangaskhan',\n",
       " 'Karrablast',\n",
       " 'Kecleon',\n",
       " 'Keldeo',\n",
       " 'Kingdra',\n",
       " 'Kingler',\n",
       " 'Kirlia',\n",
       " 'Klang',\n",
       " 'Klefki',\n",
       " 'Klink',\n",
       " 'Klinklang',\n",
       " 'Koffing',\n",
       " 'Krabby',\n",
       " 'Kricketot',\n",
       " 'Kricketune',\n",
       " 'Krokorok',\n",
       " 'Krookodile',\n",
       " 'Kyogre',\n",
       " 'Kyurem',\n",
       " 'Lairon',\n",
       " 'Lampent',\n",
       " 'Landorus',\n",
       " 'Lanturn',\n",
       " 'Lapras',\n",
       " 'Larvesta',\n",
       " 'Larvitar',\n",
       " 'Latias',\n",
       " 'Latios',\n",
       " 'Leafeon',\n",
       " 'Leavanny',\n",
       " 'Ledian',\n",
       " 'Ledyba',\n",
       " 'Lickilicky',\n",
       " 'Lickitung',\n",
       " 'Liepard',\n",
       " 'Lileep',\n",
       " 'Lilligant',\n",
       " 'Lillipup',\n",
       " 'Linoone',\n",
       " 'Litleo',\n",
       " 'Litwick',\n",
       " 'Lombre',\n",
       " 'Lopunny',\n",
       " 'Lotad',\n",
       " 'Loudred',\n",
       " 'Lucario',\n",
       " 'Ludicolo',\n",
       " 'Lugia',\n",
       " 'Lumineon',\n",
       " 'Lunatone',\n",
       " 'Luvdisc',\n",
       " 'Luxio',\n",
       " 'Luxray',\n",
       " 'Machamp',\n",
       " 'Machoke',\n",
       " 'Machop',\n",
       " 'Magby',\n",
       " 'Magcargo',\n",
       " 'Magikarp',\n",
       " 'Magmar',\n",
       " 'Magmortar',\n",
       " 'Magnemite',\n",
       " 'Magneton',\n",
       " 'Magnezone',\n",
       " 'Makuhita',\n",
       " 'Malamar',\n",
       " 'Mamoswine',\n",
       " 'Manaphy',\n",
       " 'Mandibuzz',\n",
       " 'Manectric',\n",
       " 'Mankey',\n",
       " 'Mantine',\n",
       " 'Mantyke',\n",
       " 'Maractus',\n",
       " 'Mareep',\n",
       " 'Marill',\n",
       " 'Marowak',\n",
       " 'Marshtomp',\n",
       " 'Masquerain',\n",
       " 'Mawile',\n",
       " 'Medicham',\n",
       " 'Meditite',\n",
       " 'Meganium',\n",
       " 'Meloetta',\n",
       " 'Meowstic',\n",
       " 'Meowth',\n",
       " 'Mesprit',\n",
       " 'Metagross',\n",
       " 'Metang',\n",
       " 'Metapod',\n",
       " 'Mew',\n",
       " 'Mewtwo',\n",
       " 'Mienfoo',\n",
       " 'Mienshao',\n",
       " 'Mightyena',\n",
       " 'Milotic',\n",
       " 'Miltank',\n",
       " 'Mime Jr.',\n",
       " 'Minccino',\n",
       " 'Minun',\n",
       " 'Misdreavus',\n",
       " 'Mismagius',\n",
       " 'Moltres',\n",
       " 'Monferno',\n",
       " 'Mothim',\n",
       " 'Mr. Mime',\n",
       " 'Mudkip',\n",
       " 'Muk',\n",
       " 'Munchlax',\n",
       " 'Munna',\n",
       " 'Murkrow',\n",
       " 'Musharna',\n",
       " 'Natu',\n",
       " 'Nidoking',\n",
       " 'Nidoqueen',\n",
       " 'Nidoran',\n",
       " 'Nidoran♂',\n",
       " 'Nidorina',\n",
       " 'Nidorino',\n",
       " 'Nincada',\n",
       " 'Ninetales',\n",
       " 'Ninjask',\n",
       " 'Noctowl',\n",
       " 'Noibat',\n",
       " 'Noivern',\n",
       " 'Nosepass',\n",
       " 'Numel',\n",
       " 'Nuzleaf',\n",
       " 'Octillery',\n",
       " 'Oddish',\n",
       " 'Omanyte',\n",
       " 'Omastar',\n",
       " 'Onix',\n",
       " 'Oshawott',\n",
       " 'Pachirisu',\n",
       " 'Palkia',\n",
       " 'Palpitoad',\n",
       " 'Pancham',\n",
       " 'Pangoro',\n",
       " 'Panpour',\n",
       " 'Pansage',\n",
       " 'Pansear',\n",
       " 'Paras',\n",
       " 'Parasect',\n",
       " 'Patrat',\n",
       " 'Pawniard',\n",
       " 'Pelipper',\n",
       " 'Persian',\n",
       " 'Petilil',\n",
       " 'Phanpy',\n",
       " 'Phantump',\n",
       " 'Phione',\n",
       " 'Pichu',\n",
       " 'Pidgeot',\n",
       " 'Pidgeotto',\n",
       " 'Pidgey',\n",
       " 'Pidove',\n",
       " 'Pignite',\n",
       " 'Pikachu',\n",
       " 'Piloswine',\n",
       " 'Pineco',\n",
       " 'Pinsir',\n",
       " 'Piplup',\n",
       " 'Plusle',\n",
       " 'Politoed',\n",
       " 'Poliwag',\n",
       " 'Poliwhirl',\n",
       " 'Poliwrath',\n",
       " 'Ponyta',\n",
       " 'Poochyena',\n",
       " 'Porygon',\n",
       " 'Porygon-Z',\n",
       " 'Porygon2',\n",
       " 'Primeape',\n",
       " 'Prinplup',\n",
       " 'Probopass',\n",
       " 'Psyduck',\n",
       " 'Pumpkaboo',\n",
       " 'Pupitar',\n",
       " 'Purrloin',\n",
       " 'Purugly',\n",
       " 'Pyroar',\n",
       " 'Quagsire',\n",
       " 'Quilava',\n",
       " 'Quilladin',\n",
       " 'Qwilfish',\n",
       " 'Raichu',\n",
       " 'Raikou',\n",
       " 'Ralts',\n",
       " 'Rampardos',\n",
       " 'Rapidash',\n",
       " 'Raticate',\n",
       " 'Rattata',\n",
       " 'Rayquaza',\n",
       " 'Regice',\n",
       " 'Regigigas',\n",
       " 'Regirock',\n",
       " 'Registeel',\n",
       " 'Relicanth',\n",
       " 'Remoraid',\n",
       " 'Reshiram',\n",
       " 'Reuniclus',\n",
       " 'Rhydon',\n",
       " 'Rhyhorn',\n",
       " 'Rhyperior',\n",
       " 'Riolu',\n",
       " 'Roggenrola',\n",
       " 'Roselia',\n",
       " 'Roserade',\n",
       " 'Rotom',\n",
       " 'Rufflet',\n",
       " 'Sableye',\n",
       " 'Salamence',\n",
       " 'Samurott',\n",
       " 'Sandile',\n",
       " 'Sandshrew',\n",
       " 'Sandslash',\n",
       " 'Sawk',\n",
       " 'Sawsbuck',\n",
       " 'Scatterbug',\n",
       " 'Sceptile',\n",
       " 'Scizor',\n",
       " 'Scolipede',\n",
       " 'Scrafty',\n",
       " 'Scraggy',\n",
       " 'Scyther',\n",
       " 'Seadra',\n",
       " 'Seaking',\n",
       " 'Sealeo',\n",
       " 'Seedot',\n",
       " 'Seel',\n",
       " 'Seismitoad',\n",
       " 'Sentret',\n",
       " 'Serperior',\n",
       " 'Servine',\n",
       " 'Seviper',\n",
       " 'Sewaddle',\n",
       " 'Sharpedo',\n",
       " 'Shaymin',\n",
       " 'Shedinja',\n",
       " 'Shelgon',\n",
       " 'Shellder',\n",
       " 'Shellos',\n",
       " 'Shelmet',\n",
       " 'Shieldon',\n",
       " 'Shiftry',\n",
       " 'Shinx',\n",
       " 'Shroomish',\n",
       " 'Shuckle',\n",
       " 'Shuppet',\n",
       " 'Sigilyph',\n",
       " 'Silcoon',\n",
       " 'Simipour',\n",
       " 'Simisage',\n",
       " 'Simisear',\n",
       " 'Skarmory',\n",
       " 'Skiddo',\n",
       " 'Skiploom',\n",
       " 'Skitty',\n",
       " 'Skorupi',\n",
       " 'Skrelp',\n",
       " 'Skuntank',\n",
       " 'Slaking',\n",
       " 'Slakoth',\n",
       " 'Sliggoo',\n",
       " 'Slowbro',\n",
       " 'Slowking',\n",
       " 'Slowpoke',\n",
       " 'Slugma',\n",
       " 'Slurpuff',\n",
       " 'Smeargle',\n",
       " 'Smoochum',\n",
       " 'Sneasel',\n",
       " 'Snivy',\n",
       " 'Snorlax',\n",
       " 'Snorunt',\n",
       " 'Snover',\n",
       " 'Snubbull',\n",
       " 'Solosis',\n",
       " 'Solrock',\n",
       " 'Spearow',\n",
       " 'Spewpa',\n",
       " 'Spheal',\n",
       " 'Spinarak',\n",
       " 'Spinda',\n",
       " 'Spiritomb',\n",
       " 'Spoink',\n",
       " 'Spritzee',\n",
       " 'Squirtle',\n",
       " 'Stantler',\n",
       " 'Staraptor',\n",
       " 'Staravia',\n",
       " 'Starly',\n",
       " 'Starmie',\n",
       " 'Staryu',\n",
       " 'Steelix',\n",
       " 'Stoutland',\n",
       " 'Stunfisk',\n",
       " 'Stunky',\n",
       " 'Sudowoodo',\n",
       " 'Suicune',\n",
       " 'Sunflora',\n",
       " 'Sunkern',\n",
       " 'Surskit',\n",
       " 'Swablu',\n",
       " 'Swadloon',\n",
       " 'Swalot',\n",
       " 'Swampert',\n",
       " 'Swanna',\n",
       " 'Swellow',\n",
       " 'Swinub',\n",
       " 'Swirlix',\n",
       " 'Swoobat',\n",
       " 'Sylveon',\n",
       " 'Taillow',\n",
       " 'Talonflame',\n",
       " 'Tangela',\n",
       " 'Tangrowth',\n",
       " 'Tauros',\n",
       " 'Teddiursa',\n",
       " 'Tentacool',\n",
       " 'Tentacruel',\n",
       " 'Tepig',\n",
       " 'Terrakion',\n",
       " 'Throh',\n",
       " 'Thundurus',\n",
       " 'Timburr',\n",
       " 'Tirtouga',\n",
       " 'Togekiss',\n",
       " 'Togepi',\n",
       " 'Togetic',\n",
       " 'Torchic',\n",
       " 'Torkoal',\n",
       " 'Tornadus',\n",
       " 'Torterra',\n",
       " 'Totodile',\n",
       " 'Toxicroak',\n",
       " 'Tranquill',\n",
       " 'Trapinch',\n",
       " 'Treecko',\n",
       " 'Trevenant',\n",
       " 'Tropius',\n",
       " 'Trubbish',\n",
       " 'Turtwig',\n",
       " 'Tympole',\n",
       " 'Tynamo',\n",
       " 'Typhlosion',\n",
       " 'Tyranitar',\n",
       " 'Tyrantrum',\n",
       " 'Tyrogue',\n",
       " 'Tyrunt',\n",
       " 'Umbreon',\n",
       " 'Unfezant',\n",
       " 'Unown',\n",
       " 'Ursaring',\n",
       " 'Uxie',\n",
       " 'Vanillish',\n",
       " 'Vanillite',\n",
       " 'Vanilluxe',\n",
       " 'Vaporeon',\n",
       " 'Venipede',\n",
       " 'Venomoth',\n",
       " 'Venonat',\n",
       " 'Venusaur',\n",
       " 'Vespiquen',\n",
       " 'Vibrava',\n",
       " 'Victini',\n",
       " 'Victreebel',\n",
       " 'Vigoroth',\n",
       " 'Vileplume',\n",
       " 'Virizion',\n",
       " 'Vivillon',\n",
       " 'Volbeat',\n",
       " 'Volcanion',\n",
       " 'Volcarona',\n",
       " 'Voltorb',\n",
       " 'Vullaby',\n",
       " 'Vulpix',\n",
       " 'Wailmer',\n",
       " 'Wailord',\n",
       " 'Walrein',\n",
       " 'Wartortle',\n",
       " 'Watchog',\n",
       " 'Weavile',\n",
       " 'Weedle',\n",
       " 'Weepinbell',\n",
       " 'Weezing',\n",
       " 'Whimsicott',\n",
       " 'Whirlipede',\n",
       " 'Whiscash',\n",
       " 'Whismur',\n",
       " 'Wigglytuff',\n",
       " 'Wingull',\n",
       " 'Wobbuffet',\n",
       " 'Woobat',\n",
       " 'Wooper',\n",
       " 'Wormadam',\n",
       " 'Wurmple',\n",
       " 'Wynaut',\n",
       " 'Xatu',\n",
       " 'Xerneas',\n",
       " 'Yamask',\n",
       " 'Yanma',\n",
       " 'Yanmega',\n",
       " 'Yveltal',\n",
       " 'Zangoose',\n",
       " 'Zapdos',\n",
       " 'Zebstrika',\n",
       " 'Zekrom',\n",
       " 'Zigzagoon',\n",
       " 'Zoroark',\n",
       " 'Zorua',\n",
       " 'Zubat',\n",
       " 'Zweilous',\n",
       " 'Zygarde']"
      ]
     },
     "execution_count": 72,
     "metadata": {},
     "output_type": "execute_result"
    }
   ],
   "source": [
    "sorted(Pokemon)"
   ]
  },
  {
   "cell_type": "code",
   "execution_count": 73,
   "id": "a37dce5b",
   "metadata": {},
   "outputs": [
    {
     "data": {
      "text/plain": [
       "list"
      ]
     },
     "execution_count": 73,
     "metadata": {},
     "output_type": "execute_result"
    }
   ],
   "source": [
    "type(list(Pokemon))"
   ]
  },
  {
   "cell_type": "code",
   "execution_count": 74,
   "id": "0151b324",
   "metadata": {
    "collapsed": true
   },
   "outputs": [
    {
     "data": {
      "text/plain": [
       "{0: 50.12,\n",
       " 1: 54.1,\n",
       " 2: 54.65,\n",
       " 3: 52.38,\n",
       " 4: 52.95,\n",
       " 5: 53.9,\n",
       " 6: 53.02,\n",
       " 7: 50.95,\n",
       " 8: 51.13,\n",
       " 9: 50.07,\n",
       " 10: 50.7,\n",
       " 11: 49.95,\n",
       " 12: 50.74,\n",
       " 13: 51.1,\n",
       " 14: 51.1,\n",
       " 15: 52.61,\n",
       " 16: 53.7,\n",
       " 17: 55.69,\n",
       " 18: 55.94,\n",
       " 19: 56.93,\n",
       " 20: 58.69,\n",
       " 21: 59.62,\n",
       " 22: 58.86,\n",
       " 23: 59.13,\n",
       " 24: 60.35,\n",
       " 25: 59.86,\n",
       " 26: 59.07,\n",
       " 27: 63.37,\n",
       " 28: 65.47,\n",
       " 29: 64.74,\n",
       " 30: 66.22,\n",
       " 31: 67.46,\n",
       " 32: 69.12,\n",
       " 33: 68.47,\n",
       " 34: 69.36,\n",
       " 35: 68.8,\n",
       " 36: 67.56,\n",
       " 37: 68.63,\n",
       " 38: 70.38,\n",
       " 39: 70.93,\n",
       " 40: 71.98,\n",
       " 41: 74.51,\n",
       " 42: 73.9,\n",
       " 43: 70.17,\n",
       " 44: 74.62,\n",
       " 45: 86.13,\n",
       " 46: 93.61,\n",
       " 47: 90.81,\n",
       " 48: 92.89,\n",
       " 49: 96.55,\n",
       " 50: 95.22,\n",
       " 51: 97.92,\n",
       " 52: 97.34,\n",
       " 53: 95.74,\n",
       " 54: 92.26,\n",
       " 55: 84.59,\n",
       " 56: 86.19,\n",
       " 57: 84.27,\n",
       " 58: 83.85,\n",
       " 59: 91.42,\n",
       " 60: 90.91,\n",
       " 61: 92.34,\n",
       " 62: 86.19,\n",
       " 63: 86.16,\n",
       " 64: 83.69,\n",
       " 65: 84.62,\n",
       " 66: 82.47,\n",
       " 67: 83.68,\n",
       " 68: 87.29,\n",
       " 69: 89.61,\n",
       " 70: 90.43,\n",
       " 71: 90.9,\n",
       " 72: 89.89,\n",
       " 73: 89.61,\n",
       " 74: 90.11,\n",
       " 75: 88.06,\n",
       " 76: 85.63,\n",
       " 77: 84.91,\n",
       " 78: 86.63,\n",
       " 79: 85.74,\n",
       " 80: 85.14,\n",
       " 81: 89.26,\n",
       " 82: 89.8,\n",
       " 83: 88.15,\n",
       " 84: 89.95,\n",
       " 85: 92.42,\n",
       " 86: 91.78,\n",
       " 87: 93.06,\n",
       " 88: 93.86,\n",
       " 89: 95.86,\n",
       " 90: 96.28,\n",
       " 91: 96.35,\n",
       " 92: 98.7,\n",
       " 93: 96.3,\n",
       " 94: 101.25,\n",
       " 95: 97.15,\n",
       " 96: 96.66,\n",
       " 97: 94.18,\n",
       " 98: 96.83,\n",
       " 99: 97.43,\n",
       " 100: 96.67,\n",
       " 101: 97.59,\n",
       " 102: 97.57,\n",
       " 103: 99.89,\n",
       " 104: 101.85,\n",
       " 105: 98.55,\n",
       " 106: 96.86,\n",
       " 107: 94.05,\n",
       " 108: 90.27,\n",
       " 109: 88.47,\n",
       " 110: 94.53,\n",
       " 111: 93.95,\n",
       " 112: 95.07,\n",
       " 113: 97.71,\n",
       " 114: 95.85,\n",
       " 115: 102.88,\n",
       " 116: 105.32,\n",
       " 117: 102.08,\n",
       " 118: 97.92,\n",
       " 119: 99.22,\n",
       " 120: 95.69,\n",
       " 121: 93.9,\n",
       " 122: 93.61,\n",
       " 123: 96.4,\n",
       " 124: 97.52,\n",
       " 125: 99.11,\n",
       " 126: 98.85,\n",
       " 127: 98.88,\n",
       " 128: 95.59,\n",
       " 129: 96.88,\n",
       " 130: 94.35,\n",
       " 131: 92.84,\n",
       " 132: 93.9,\n",
       " 133: 92.94,\n",
       " 134: 92.5,\n",
       " 135: 93.41,\n",
       " 136: 92.86,\n",
       " 137: 94.31,\n",
       " 138: 92.51,\n",
       " 139: 90.58,\n",
       " 140: 89.9,\n",
       " 141: 88.81,\n",
       " 142: 87.41,\n",
       " 143: 89.22,\n",
       " 144: 87.71,\n",
       " 145: 89.56,\n",
       " 146: 89.93,\n",
       " 147: 90.35,\n",
       " 148: 89.21,\n",
       " 149: 89.4,\n",
       " 150: 89.54,\n",
       " 151: 90.62,\n",
       " 152: 89.7,\n",
       " 153: 90.13,\n",
       " 154: 90.16,\n",
       " 155: 89.93,\n",
       " 156: 92.55,\n",
       " 157: 94.19,\n",
       " 158: 94.52,\n",
       " 159: 96.78,\n",
       " 160: 95.93,\n",
       " 161: 96.52,\n",
       " 162: 96.88,\n",
       " 163: 96.37,\n",
       " 164: 95.63,\n",
       " 165: 92.41,\n",
       " 166: 93.39,\n",
       " 167: 95.6,\n",
       " 168: 98.95,\n",
       " 169: 102.01,\n",
       " 170: 107.8,\n",
       " 171: 111.65,\n",
       " 172: 109.27,\n",
       " 173: 109.78,\n",
       " 174: 109.62,\n",
       " 175: 109.89,\n",
       " 176: 111.03,\n",
       " 177: 112.98,\n",
       " 178: 114.14,\n",
       " 179: 113.38,\n",
       " 180: 113.9,\n",
       " 181: 112.9,\n",
       " 182: 113.79,\n",
       " 183: 115.53,\n",
       " 184: 114.25,\n",
       " 185: 114.51,\n",
       " 186: 115.41,\n",
       " 187: 116.45,\n",
       " 188: 119.46,\n",
       " 189: 119.47,\n",
       " 190: 120.68,\n",
       " 191: 127.6,\n",
       " 192: 127.87,\n",
       " 193: 130.27,\n",
       " 194: 129.47,\n",
       " 195: 132.87,\n",
       " 196: 138.5,\n",
       " 197: 143.86,\n",
       " 198: 143.81,\n",
       " 199: 139.99,\n",
       " 200: 145.32,\n",
       " 201: 146.41,\n",
       " 202: 139.64,\n",
       " 203: 143.01,\n",
       " 204: 141.11,\n",
       " 205: 141.23,\n",
       " 206: 139.04,\n",
       " 207: 137.26,\n",
       " 208: 138.58,\n",
       " 209: 140.0,\n",
       " 210: 143.21,\n",
       " 211: 143.78,\n",
       " 212: 144.51,\n",
       " 213: 144.71,\n",
       " 214: 148.48,\n",
       " 215: 151.9,\n",
       " 216: 150.85,\n",
       " 217: 146.21,\n",
       " 218: 146.93,\n",
       " 219: 145.48,\n",
       " 220: 147.71,\n",
       " 221: 145.62,\n",
       " 222: 147.62,\n",
       " 223: 147.97,\n",
       " 224: 146.53,\n",
       " 225: 145.75,\n",
       " 226: 149.28,\n",
       " 227: 150.29,\n",
       " 228: 150.44,\n",
       " 229: 149.62,\n",
       " 230: 154.8,\n",
       " 231: 155.84,\n",
       " 232: 156.81,\n",
       " 233: 151.05,\n",
       " 234: 147.78,\n",
       " 235: 147.9,\n",
       " 236: 148.32,\n",
       " 237: 146.6,\n",
       " 238: 143.74,\n",
       " 239: 145.66,\n",
       " 240: 149.45,\n",
       " 241: 148.5,\n",
       " 242: 148.72,\n",
       " 243: 146.03,\n",
       " 244: 145.48,\n",
       " 245: 145.64,\n",
       " 246: 142.7,\n",
       " 247: 141.88,\n",
       " 248: 144.72,\n",
       " 249: 141.86,\n",
       " 250: 142.68,\n",
       " 251: 142.41,\n",
       " 252: 139.86,\n",
       " 253: 139.86,\n",
       " 254: 136.87,\n",
       " 255: 139.65,\n",
       " 256: 141.14,\n",
       " 257: 141.15,\n",
       " 258: 141.65,\n",
       " 259: 144.08,\n",
       " 260: 143.49,\n",
       " 261: 142.86,\n",
       " 262: 142.98,\n",
       " 263: 144.08,\n",
       " 264: 143.41,\n",
       " 265: 147.29,\n",
       " 266: 147.55,\n",
       " 267: 149.4,\n",
       " 268: 154.72,\n",
       " 269: 155.68,\n",
       " 270: 151.35,\n",
       " 271: 151.16,\n",
       " 272: 149.95,\n",
       " 273: 151.74,\n",
       " 274: 153.8,\n",
       " 275: 155.79,\n",
       " 276: 155.53,\n",
       " 277: 157.52,\n",
       " 278: 156.98,\n",
       " 279: 156.81,\n",
       " 280: 152.85,\n",
       " 281: 154.66,\n",
       " 282: 158.07,\n",
       " 283: 159.18,\n",
       " 284: 155.34,\n",
       " 285: 155.2,\n",
       " 286: 156.22,\n",
       " 287: 156.34,\n",
       " 288: 155.17,\n",
       " 289: 152.9,\n",
       " 290: 150.33,\n",
       " 291: 148.57,\n",
       " 292: 147.92,\n",
       " 293: 152.35,\n",
       " 294: 151.49,\n",
       " 295: 154.2,\n",
       " 296: 151.45,\n",
       " 297: 169.78,\n",
       " 298: 174.15,\n",
       " 299: 173.28,\n",
       " 300: 177.54,\n",
       " 301: 176.35,\n",
       " 302: 178.91,\n",
       " 303: 185.88,\n",
       " 304: 189.5,\n",
       " 305: 189.65,\n",
       " 306: 192.78,\n",
       " 307: 195.02,\n",
       " 308: 197.32,\n",
       " 309: 194.76,\n",
       " 310: 189.39,\n",
       " 311: 195.35,\n",
       " 312: 195.0,\n",
       " 313: 198.29,\n",
       " 314: 196.2,\n",
       " 315: 198.88,\n",
       " 316: 201.52,\n",
       " 317: 199.9,\n",
       " 318: 204.48,\n",
       " 319: 208.03,\n",
       " 320: 211.22,\n",
       " 321: 214.1,\n",
       " 322: 211.53,\n",
       " 323: 201.57,\n",
       " 324: 202.25,\n",
       " 325: 206.84,\n",
       " 326: 208.64,\n",
       " 327: 202.72,\n",
       " 328: 202.07,\n",
       " 329: 201.91,\n",
       " 330: 205.12,\n",
       " 331: 204.4,\n",
       " 332: 206.1,\n",
       " 333: 208.54,\n",
       " 334: 209.27,\n",
       " 335: 211.05,\n",
       " 336: 214.86,\n",
       " 337: 212.09,\n",
       " 338: 214.66,\n",
       " 339: 212.95,\n",
       " 340: 215.8,\n",
       " 341: 215.25,\n",
       " 342: 212.11,\n",
       " 343: 213.13,\n",
       " 344: 209.86,\n",
       " 345: 207.22,\n",
       " 346: 217.4,\n",
       " 347: 222.4,\n",
       " 348: 225.39,\n",
       " 349: 232.6,\n",
       " 350: 233.22,\n",
       " 351: 234.65,\n",
       " 352: 235.58,\n",
       " 353: 231.58,\n",
       " 354: 232.89,\n",
       " 355: 233.32,\n",
       " 356: 222.23,\n",
       " 357: 218.0,\n",
       " 358: 199.53,\n",
       " 359: 213.54,\n",
       " 360: 221.29,\n",
       " 361: 216.28,\n",
       " 362: 216.92,\n",
       " 363: 216.53,\n",
       " 364: 213.2,\n",
       " 365: 216.11,\n",
       " 366: 200.69,\n",
       " 367: 197.82,\n",
       " 368: 190.59,\n",
       " 369: 192.36,\n",
       " 370: 183.78,\n",
       " 371: 184.36,\n",
       " 372: 179.21,\n",
       " 373: 181.12,\n",
       " 374: 172.68,\n",
       " 375: 171.49,\n",
       " 376: 171.02,\n",
       " 377: 183.05,\n",
       " 378: 184.19,\n",
       " 379: 183.11,\n",
       " 380: 182.56,\n",
       " 381: 188.85,\n",
       " 382: 188.51,\n",
       " 383: 194.99,\n",
       " 384: 181.13,\n",
       " 385: 182.22,\n",
       " 386: 188.04,\n",
       " 387: 188.9,\n",
       " 388: 183.87,\n",
       " 389: 182.04,\n",
       " 390: 176.76,\n",
       " 391: 171.33,\n",
       " 392: 168.58,\n",
       " 393: 168.36,\n",
       " 394: 175.4,\n",
       " 395: 172.08,\n",
       " 396: 169.22,\n",
       " 397: 169.73,\n",
       " 398: 173.92,\n",
       " 399: 169.79,\n",
       " 400: 169.94,\n",
       " 401: 170.77,\n",
       " 402: 182.72,\n",
       " 403: 184.66,\n",
       " 404: 188.41,\n",
       " 405: 197.29,\n",
       " 406: 194.03,\n",
       " 407: 194.8,\n",
       " 408: 194.66,\n",
       " 409: 201.97,\n",
       " 410: 203.79,\n",
       " 411: 205.38,\n",
       " 412: 202.88,\n",
       " 413: 207.98,\n",
       " 414: 204.63,\n",
       " 415: 204.27,\n",
       " 416: 200.88,\n",
       " 417: 203.21,\n",
       " 418: 201.92,\n",
       " 419: 205.04,\n",
       " 420: 207.29,\n",
       " 421: 218.33,\n",
       " 422: 220.03,\n",
       " 423: 213.37,\n",
       " 424: 212.77,\n",
       " 425: 209.8,\n",
       " 426: 208.76,\n",
       " 427: 199.25,\n",
       " 428: 197.2,\n",
       " 429: 196.89,\n",
       " 430: 197.18,\n",
       " 431: 196.95,\n",
       " 432: 197.19,\n",
       " 433: 204.2,\n",
       " 434: 201.29,\n",
       " 435: 193.31,\n",
       " 436: 186.88,\n",
       " 437: 187.91,\n",
       " 438: 185.46,\n",
       " 439: 187.06,\n",
       " 440: 185.31,\n",
       " 441: 184.82,\n",
       " 442: 185.29,\n",
       " 443: 187.6,\n",
       " 444: 190.43,\n",
       " 445: 191.3,\n",
       " 446: 190.48,\n",
       " 447: 185.78,\n",
       " 448: 185.72,\n",
       " 449: 191.12,\n",
       " 450: 189.53,\n",
       " 451: 187.03,\n",
       " 452: 194.8,\n",
       " 453: 193.06,\n",
       " 454: 196.45,\n",
       " 455: 193.09,\n",
       " 456: 190.58,\n",
       " 457: 193.07,\n",
       " 458: 192.0,\n",
       " 459: 195.3,\n",
       " 460: 195.15,\n",
       " 461: 193.88,\n",
       " 462: 193.39,\n",
       " 463: 200.86,\n",
       " 464: 199.78,\n",
       " 465: 202.23,\n",
       " 466: 201.91,\n",
       " 467: 200.96,\n",
       " 468: 202.85,\n",
       " 469: 208.7,\n",
       " 470: 209.46,\n",
       " 471: 211.39,\n",
       " 472: 210.52,\n",
       " 473: 211.38,\n",
       " 474: 210.01,\n",
       " 475: 208.89,\n",
       " 476: 212.07,\n",
       " 477: 208.42,\n",
       " 478: 204.21,\n",
       " 479: 201.55,\n",
       " 480: 203.74,\n",
       " 481: 201.32,\n",
       " 482: 199.3,\n",
       " 483: 193.37,\n",
       " 484: 194.86,\n",
       " 485: 195.25,\n",
       " 486: 194.49,\n",
       " 487: 192.56,\n",
       " 488: 191.01,\n",
       " 489: 193.87,\n",
       " 490: 193.11,\n",
       " 491: 187.57,\n",
       " 492: 183.43,\n",
       " 493: 187.51,\n",
       " 494: 186.74,\n",
       " 495: 188.79,\n",
       " 496: 190.31,\n",
       " 497: 188.28,\n",
       " 498: 186.91,\n",
       " 499: 184.07,\n",
       " 500: 184.53,\n",
       " 501: 190.29,\n",
       " 502: 193.67,\n",
       " 503: 192.71,\n",
       " 504: 191.49,\n",
       " 505: 188.46,\n",
       " 506: 188.96,\n",
       " 507: 186.53,\n",
       " 508: 186.68,\n",
       " 509: 186.44,\n",
       " 510: 190.28,\n",
       " 511: 189.29,\n",
       " 512: 190.18,\n",
       " 513: 189.08,\n",
       " 514: 189.11,\n",
       " 515: 191.99,\n",
       " 516: 189.88,\n",
       " 517: 189.06,\n",
       " 518: 188.74,\n",
       " 519: 191.85,\n",
       " 520: 195.75,\n",
       " 521: 203.08,\n",
       " 522: 201.79,\n",
       " 523: 204.74,\n",
       " 524: 207.14,\n",
       " 525: 201.7,\n",
       " 526: 198.3,\n",
       " 527: 203.22,\n",
       " 528: 201.69,\n",
       " 529: 201.79,\n",
       " 530: 203.23,\n",
       " 531: 201.26,\n",
       " 532: 201.59,\n",
       " 533: 200.75,\n",
       " 534: 200.52,\n",
       " 535: 201.82,\n",
       " 536: 207.64,\n",
       " 537: 205.7,\n",
       " 538: 210.04,\n",
       " 539: 214.29,\n",
       " 540: 213.11,\n",
       " 541: 213.04,\n",
       " 542: 213.51,\n",
       " 543: 213.44,\n",
       " 544: 210.66,\n",
       " 545: 210.11,\n",
       " 546: 209.44,\n",
       " 547: 212.82,\n",
       " 548: 229.61,\n",
       " 549: 240.15,\n",
       " 550: 236.42,\n",
       " 551: 243.06,\n",
       " 552: 242.31,\n",
       " 553: 237.36,\n",
       " 554: 238.05,\n",
       " 555: 237.96,\n",
       " 556: 233.52,\n",
       " 557: 234.72,\n",
       " 558: 235.66,\n",
       " 559: 238.24,\n",
       " 560: 236.05,\n",
       " 561: 237.26,\n",
       " 562: 236.08,\n",
       " 563: 236.54,\n",
       " 564: 240.27,\n",
       " 565: 244.41,\n",
       " 566: 245.72,\n",
       " 567: 247.7,\n",
       " 568: 249.15,\n",
       " 569: 247.28,\n",
       " 570: 254.57,\n",
       " 571: 253.75,\n",
       " 572: 252.2,\n",
       " 573: 242.13,\n",
       " 574: 244.51,\n",
       " 575: 242.08,\n",
       " 576: 242.16,\n",
       " 577: 240.16,\n",
       " 578: 242.18,\n",
       " 579: 243.26,\n",
       " 580: 244.11,\n",
       " 581: 241.08,\n",
       " 582: 241.81,\n",
       " 583: 241.72,\n",
       " 584: 240.65,\n",
       " 585: 239.26,\n",
       " 586: 240.82,\n",
       " 587: 239.91,\n",
       " 588: 231.17,\n",
       " 589: 234.08,\n",
       " 590: 231.22,\n",
       " 591: 227.87,\n",
       " 592: 227.56,\n",
       " 593: 228.54,\n",
       " 594: 233.78,\n",
       " 595: 231.05,\n",
       " 596: 230.01,\n",
       " 597: 233.56,\n",
       " 598: 241.39,\n",
       " 599: 243.35,\n",
       " 600: 241.55,\n",
       " 601: 242.51,\n",
       " 602: 244.49,\n",
       " 603: 249.61,\n",
       " 604: 252.25,\n",
       " 605: 251.89,\n",
       " 606: 248.39,\n",
       " 607: 243.67,\n",
       " 608: 244.63,\n",
       " 609: 240.18,\n",
       " 610: 239.29,\n",
       " 611: 249.28,\n",
       " 612: 243.8,\n",
       " 613: 247.67,\n",
       " 614: 245.99,\n",
       " 615: 246.91,\n",
       " 616: 250.5,\n",
       " 617: 240.63,\n",
       " 618: 240.51,\n",
       " 619: 233.35,\n",
       " 620: 235.5,\n",
       " 621: 234.77,\n",
       " 622: 235.28,\n",
       " 623: 230.71,\n",
       " 624: 228.92,\n",
       " 625: 229.32,\n",
       " 626: 232.73,\n",
       " 627: 230.5,\n",
       " 628: 234.74,\n",
       " 629: 235.81,\n",
       " 630: 237.69,\n",
       " 631: 237.69,\n",
       " 632: 235.07,\n",
       " 633: 232.23,\n",
       " 634: 224.16,\n",
       " 635: 224.5,\n",
       " 636: 223.89,\n",
       " 637: 219.12,\n",
       " 638: 220.25,\n",
       " 639: 228.55,\n",
       " 640: 227.59,\n",
       " 641: 227.13,\n",
       " 642: 226.25,\n",
       " 643: 227.15,\n",
       " 644: 221.29,\n",
       " 645: 223.78,\n",
       " 646: 222.87,\n",
       " 647: 220.2,\n",
       " 648: 223.39,\n",
       " 649: 222.42,\n",
       " 650: 228.05,\n",
       " 651: 230.79,\n",
       " 652: 230.68,\n",
       " 653: 232.27,\n",
       " 654: 231.58,\n",
       " 655: 230.71,\n",
       " 656: 230.23,\n",
       " 657: 228.85,\n",
       " 658: 229.04,\n",
       " 659: 236.06,\n",
       " 660: 235.27,\n",
       " 661: 235.52,\n",
       " 662: 233.87,\n",
       " 663: 233.02,\n",
       " 664: 232.03,\n",
       " 665: 233.46,\n",
       " 666: 232.91,\n",
       " 667: 236.9,\n",
       " 668: 236.16,\n",
       " 669: 237.77,\n",
       " 670: 235.59,\n",
       " 671: 241.0,\n",
       " 672: 239.3,\n",
       " 673: 238.53,\n",
       " 674: 238.76,\n",
       " 675: 240.35,\n",
       " 676: 239.27,\n",
       " 677: 235.45,\n",
       " 678: 234.27,\n",
       " 679: 232.66,\n",
       " 680: 236.38,\n",
       " 681: 235.32,\n",
       " 682: 233.4,\n",
       " 683: 233.17,\n",
       " 684: 234.39,\n",
       " 685: 230.5,\n",
       " 686: 233.14,\n",
       " 687: 230.66,\n",
       " 688: 228.77,\n",
       " 689: 236.07,\n",
       " 690: 235.24,\n",
       " 691: 234.92,\n",
       " 692: 235.06,\n",
       " 693: 237.69,\n",
       " 694: 236.75,\n",
       " 695: 236.93,\n",
       " 696: 241.52,\n",
       " 697: 243.31,\n",
       " 698: 249.05,\n",
       " 699: 248.71,\n",
       " 700: 249.95,\n",
       " 701: 253.28,\n",
       " 702: 259.16,\n",
       " 703: 258.87,\n",
       " 704: 257.27,\n",
       " 705: 257.49,\n",
       " 706: 255.41,\n",
       " 707: 252.13,\n",
       " 708: 252.37,\n",
       " 709: 251.17,\n",
       " 710: 252.69,\n",
       " 711: 257.34,\n",
       " 712: 256.9,\n",
       " 713: 254.73,\n",
       " 714: 256.8,\n",
       " 715: 262.23,\n",
       " 716: 263.45,\n",
       " 717: 264.86,\n",
       " 718: 262.88,\n",
       " 719: 262.24,\n",
       " 720: 261.09,\n",
       " 721: 264.92,\n",
       " 722: 266.9,\n",
       " 723: 270.54,\n",
       " 724: 269.43,\n",
       " 725: 271.01,\n",
       " 726: 271.4,\n",
       " 727: 271.96,\n",
       " 728: 272.39,\n",
       " 729: 275.8,\n",
       " 730: 276.22,\n",
       " 731: 277.22,\n",
       " 732: 274.48,\n",
       " 733: 274.02,\n",
       " 734: 259.8,\n",
       " 735: 256.0,\n",
       " 736: 256.74,\n",
       " 737: 254.63,\n",
       " 738: 253.75,\n",
       " 739: 255.69,\n",
       " 740: 257.8,\n",
       " 741: 254.74,\n",
       " 742: 256.21,\n",
       " 743: 255.25,\n",
       " 744: 251.25,\n",
       " 745: 254.74,\n",
       " 746: 257.75,\n",
       " 747: 262.63,\n",
       " 748: 257.11,\n",
       " 749: 257.62,\n",
       " 750: 257.49,\n",
       " 751: 254.05,\n",
       " 752: 248.53,\n",
       " 753: 245.51,\n",
       " 754: 249.77,\n",
       " 755: 248.71,\n",
       " 756: 253.05,\n",
       " 757: 256.12,\n",
       " 758: 255.84,\n",
       " 759: 257.24,\n",
       " 760: 256.37,\n",
       " 761: 252.95,\n",
       " 762: 256.18,\n",
       " 763: 255.44,\n",
       " 764: 257.37,\n",
       " 765: 262.31,\n",
       " 766: 263.64,\n",
       " 767: 261.5,\n",
       " 768: 259.42,\n",
       " 769: 256.98,\n",
       " 770: 260.4,\n",
       " 771: 261.06,\n",
       " 772: 262.13,\n",
       " 773: 264.11,\n",
       " 774: 262.39,\n",
       " 775: 267.37,\n",
       " 776: 273.15,\n",
       " 777: 276.14,\n",
       " 778: 279.77,\n",
       " 779: 283.73,\n",
       " 780: 284.22,\n",
       " 781: 283.8,\n",
       " 782: 283.47,\n",
       " 783: 283.35,\n",
       " 784: 290.98,\n",
       " 785: 291.9,\n",
       " 786: 291.72,\n",
       " 787: 289.23,\n",
       " 788: 296.73,\n",
       " 789: 304.51,\n",
       " 790: 307.28,\n",
       " 791: 312.38,\n",
       " 792: 310.69,\n",
       " 793: 318.38,\n",
       " 794: 309.74,\n",
       " 795: 307.69,\n",
       " 796: 316.42,\n",
       " 797: 319.49,\n",
       " 798: 322.03,\n",
       " 799: 325.05,\n",
       " 800: 337.55,\n",
       " 801: 337.57,\n",
       " 802: 333.92,\n",
       " 803: 336.96,\n",
       " 804: 339.28,\n",
       " 805: 347.04,\n",
       " 806: 353.15,\n",
       " 807: 351.25,\n",
       " 808: 355.27,\n",
       " 809: 362.46,\n",
       " 810: 370.52,\n",
       " 811: 366.1,\n",
       " 812: 346.57,\n",
       " 813: 331.65,\n",
       " 814: 315.72,\n",
       " 815: 329.94,\n",
       " 816: 320.52,\n",
       " 817: 314.51,\n",
       " 818: 316.5,\n",
       " 819: 312.61,\n",
       " 820: 323.95,\n",
       " 821: 329.93,\n",
       " 822: 338.01,\n",
       " 823: 332.7,\n",
       " 824: 336.45,\n",
       " 825: 345.78,\n",
       " 826: 348.15,\n",
       " 827: 346.15,\n",
       " 828: 340.42,\n",
       " 829: 341.74,\n",
       " 830: 348.91,\n",
       " 831: 357.27,\n",
       " 832: 357.08,\n",
       " 833: 358.85,\n",
       " 834: 349.25,\n",
       " 835: 349.33,\n",
       " 836: 346.68,\n",
       " 837: 344.64,\n",
       " 838: 334.28,\n",
       " 839: 336.34,\n",
       " 840: 338.35,\n",
       " 841: 344.5,\n",
       " 842: 348.0,\n",
       " 843: 350.01,\n",
       " 844: 355.06,\n",
       " 845: 350.02,\n",
       " 846: 350.91,\n",
       " 847: 345.39,\n",
       " 848: 342.25,\n",
       " 849: 342.32,\n",
       " 850: 328.17,\n",
       " 851: 324.3,\n",
       " 852: 315.52,\n",
       " 853: 326.27,\n",
       " 854: 323.04,\n",
       " 855: 318.81,\n",
       " 856: 326.58,\n",
       " 857: 318.51,\n",
       " 858: 307.67,\n",
       " 859: 300.09,\n",
       " 860: 299.82,\n",
       " 861: 291.88,\n",
       " 862: 274.04,\n",
       " 863: 286.96,\n",
       " 864: 282.92,\n",
       " 865: 277.71,\n",
       " 866: 274.98,\n",
       " 867: 273.86,\n",
       " 868: 281.87,\n",
       " 869: 257.69,\n",
       " 870: 247.47,\n",
       " 871: 253.15,\n",
       " 872: 250.6,\n",
       " 873: 252.22,\n",
       " 874: 258.09,\n",
       " 875: 260.32,\n",
       " 876: 258.79,\n",
       " 877: 267.04,\n",
       " 878: 265.86,\n",
       " 879: 264.56,\n",
       " 880: 254.22,\n",
       " 881: 254.25,\n",
       " 882: 251.18,\n",
       " 883: 253.65,\n",
       " 884: 242.98,\n",
       " 885: 231.86,\n",
       " 886: 236.19,\n",
       " 887: 237.46,\n",
       " 888: 235.35,\n",
       " 889: 228.28,\n",
       " 890: 222.08,\n",
       " 891: 223.63,\n",
       " 892: 216.13,\n",
       " 893: 216.46,\n",
       " 894: 206.6,\n",
       " 895: 219.7,\n",
       " 896: 219.87,\n",
       " 897: 221.28,\n",
       " 898: 218.74,\n",
       " 899: 209.73,\n",
       " 900: 219.36,\n",
       " 901: 215.78,\n",
       " 902: 216.56,\n",
       " 903: 230.05,\n",
       " 904: 225.16,\n",
       " 905: 228.87,\n",
       " 906: 221.82,\n",
       " 907: 218.82,\n",
       " 908: 220.01,\n",
       " 909: 232.62,\n",
       " 910: 232.62,\n",
       " 911: 227.33,\n",
       " 912: 235.31,\n",
       " 913: 238.17,\n",
       " 914: 233.67,\n",
       " 915: 231.86,\n",
       " 916: 234.3,\n",
       " 917: 228.5,\n",
       " 918: 225.6,\n",
       " 919: 223.2,\n",
       " 920: 227.29,\n",
       " 921: 224.55,\n",
       " 922: 269.44,\n",
       " 923: 268.63,\n",
       " 924: 277.22,\n",
       " 925: 272.97,\n",
       " 926: 271.25,\n",
       " 927: 271.76,\n",
       " 928: 275.78,\n",
       " 929: 278.96,\n",
       " 930: 286.86,\n",
       " 931: 296.24,\n",
       " 932: 290.35,\n",
       " 933: 297.15,\n",
       " 934: 292.89,\n",
       " 935: 289.21,\n",
       " 936: 291.21,\n",
       " 937: 286.3,\n",
       " 938: 292.18,\n",
       " 939: 291.21,\n",
       " 940: 287.86,\n",
       " 941: 290.21,\n",
       " 942: 289.74,\n",
       " 943: 288.47,\n",
       " 944: 289.01,\n",
       " 945: 274.72,\n",
       " 946: 274.46,\n",
       " 947: 272.04,\n",
       " 948: 280.17,\n",
       " 949: 283.84,\n",
       " 950: 291.21,\n",
       " 951: 292.61,\n",
       " 952: 287.21,\n",
       " 953: 283.37,\n",
       " 954: 285.82,\n",
       " 955: 292.86,\n",
       " 956: 283.22,\n",
       " 957: 278.66,\n",
       " 958: 276.81,\n",
       " 959: 272.33,\n",
       " 960: 276.2,\n",
       " 961: 285.47,\n",
       " 962: 286.12,\n",
       " 963: 284.45,\n",
       " 964: 280.91,\n",
       " 965: 279.82,\n",
       " 966: 272.94,\n",
       " 967: 272.33,\n",
       " 968: 270.88,\n",
       " 969: 275.22,\n",
       " 970: 264.15,\n",
       " 971: 263.77,\n",
       " 972: 262.95,\n",
       " 973: 267.1,\n",
       " 974: 263.26,\n",
       " 975: 268.23,\n",
       " 976: 271.68,\n",
       " 977: 276.99,\n",
       " 978: 270.5,\n",
       " 979: 270.02,\n",
       " 980: 266.63,\n",
       " 981: 260.55,\n",
       " 982: 257.79,\n",
       " 983: 267.53,\n",
       " 984: 266.45,\n",
       " 985: 240.42,\n",
       " 986: 234.17,\n",
       " 987: 238.32,\n",
       " 988: 244.37,\n",
       " 989: 237.57,\n",
       " 990: 245.74,\n",
       " 991: 238.32,\n",
       " 992: 241.31,\n",
       " 993: 241.11,\n",
       " 994: 236.64,\n",
       " 995: 233.7,\n",
       " 996: 231.27,\n",
       " 997: 239.69,\n",
       " 998: 242.93,\n",
       " 999: 239.32,\n",
       " ...}"
      ]
     },
     "execution_count": 74,
     "metadata": {},
     "output_type": "execute_result"
    }
   ],
   "source": [
    "dict(google)"
   ]
  },
  {
   "cell_type": "code",
   "execution_count": 75,
   "id": "0ae3c397",
   "metadata": {},
   "outputs": [
    {
     "data": {
      "text/plain": [
       "('Zygarde', 'Abomasnow')"
      ]
     },
     "execution_count": 75,
     "metadata": {},
     "output_type": "execute_result"
    }
   ],
   "source": [
    "max(Pokemon),min(Pokemon)"
   ]
  },
  {
   "cell_type": "code",
   "execution_count": 76,
   "id": "b228638b",
   "metadata": {},
   "outputs": [
    {
     "data": {
      "text/plain": [
       "(782.22, 49.95)"
      ]
     },
     "execution_count": 76,
     "metadata": {},
     "output_type": "execute_result"
    }
   ],
   "source": [
    "max(google),min(google)"
   ]
  },
  {
   "cell_type": "markdown",
   "id": "21b233ba",
   "metadata": {},
   "source": [
    "### More Series Attributes"
   ]
  },
  {
   "cell_type": "code",
   "execution_count": 79,
   "id": "cde3b149",
   "metadata": {},
   "outputs": [
    {
     "data": {
      "text/plain": [
       "array([ 50.12,  54.1 ,  54.65, ..., 773.18, 771.61, 782.22])"
      ]
     },
     "execution_count": 79,
     "metadata": {},
     "output_type": "execute_result"
    }
   ],
   "source": [
    "# Pokemon.values\n",
    "google.values"
   ]
  },
  {
   "cell_type": "code",
   "execution_count": 80,
   "id": "c2b632ed",
   "metadata": {},
   "outputs": [
    {
     "data": {
      "text/plain": [
       "RangeIndex(start=0, stop=3012, step=1)"
      ]
     },
     "execution_count": 80,
     "metadata": {},
     "output_type": "execute_result"
    }
   ],
   "source": [
    "google.index"
   ]
  },
  {
   "cell_type": "code",
   "execution_count": 82,
   "id": "87bc6b3a",
   "metadata": {},
   "outputs": [
    {
     "data": {
      "text/plain": [
       "(dtype('O'), dtype('float64'))"
      ]
     },
     "execution_count": 82,
     "metadata": {},
     "output_type": "execute_result"
    }
   ],
   "source": [
    "Pokemon.dtype,google.dtype"
   ]
  },
  {
   "cell_type": "code",
   "execution_count": 84,
   "id": "02b07524",
   "metadata": {},
   "outputs": [
    {
     "data": {
      "text/plain": [
       "(True, False)"
      ]
     },
     "execution_count": 84,
     "metadata": {},
     "output_type": "execute_result"
    }
   ],
   "source": [
    "Pokemon.is_unique,google.is_unique"
   ]
  },
  {
   "cell_type": "code",
   "execution_count": 85,
   "id": "a7b8fb75",
   "metadata": {},
   "outputs": [
    {
     "data": {
      "text/plain": [
       "(1, 1)"
      ]
     },
     "execution_count": 85,
     "metadata": {},
     "output_type": "execute_result"
    }
   ],
   "source": [
    "Pokemon.ndim,google.ndim"
   ]
  },
  {
   "cell_type": "code",
   "execution_count": 87,
   "id": "ee3e4b0c",
   "metadata": {},
   "outputs": [
    {
     "data": {
      "text/plain": [
       "((721,), (3012,))"
      ]
     },
     "execution_count": 87,
     "metadata": {},
     "output_type": "execute_result"
    }
   ],
   "source": [
    "Pokemon.shape,google.shape"
   ]
  },
  {
   "cell_type": "code",
   "execution_count": 89,
   "id": "522513d2",
   "metadata": {},
   "outputs": [
    {
     "data": {
      "text/plain": [
       "(721, 3012)"
      ]
     },
     "execution_count": 89,
     "metadata": {},
     "output_type": "execute_result"
    }
   ],
   "source": [
    "Pokemon.size,google.size ## count balnk rows also "
   ]
  },
  {
   "cell_type": "code",
   "execution_count": 90,
   "id": "e2d9662e",
   "metadata": {},
   "outputs": [
    {
     "data": {
      "text/plain": [
       "('Pokemon', 'Stock Price')"
      ]
     },
     "execution_count": 90,
     "metadata": {},
     "output_type": "execute_result"
    }
   ],
   "source": [
    "Pokemon.name,google.name"
   ]
  },
  {
   "cell_type": "code",
   "execution_count": 91,
   "id": "c2324b01",
   "metadata": {},
   "outputs": [],
   "source": [
    "Pokemon.name = \"Pokemon monster\""
   ]
  },
  {
   "cell_type": "code",
   "execution_count": 92,
   "id": "82abf46b",
   "metadata": {},
   "outputs": [
    {
     "data": {
      "text/plain": [
       "'Pokemon monster'"
      ]
     },
     "execution_count": 92,
     "metadata": {},
     "output_type": "execute_result"
    }
   ],
   "source": [
    "Pokemon.name"
   ]
  },
  {
   "cell_type": "markdown",
   "id": "01da1491",
   "metadata": {},
   "source": [
    "### The .sort_values() method"
   ]
  },
  {
   "cell_type": "code",
   "execution_count": 94,
   "id": "5c2901b5",
   "metadata": {},
   "outputs": [
    {
     "data": {
      "text/plain": [
       "459    Abomasnow\n",
       "62          Abra\n",
       "358        Absol\n",
       "616     Accelgor\n",
       "680    Aegislash\n",
       "Name: Pokemon monster, dtype: object"
      ]
     },
     "execution_count": 94,
     "metadata": {},
     "output_type": "execute_result"
    }
   ],
   "source": [
    "Pokemon.sort_values().head()"
   ]
  },
  {
   "cell_type": "code",
   "execution_count": 97,
   "id": "55eeb4cf",
   "metadata": {},
   "outputs": [
    {
     "data": {
      "text/plain": [
       "680    Aegislash\n",
       "616     Accelgor\n",
       "358        Absol\n",
       "62          Abra\n",
       "459    Abomasnow\n",
       "Name: Pokemon monster, dtype: object"
      ]
     },
     "execution_count": 97,
     "metadata": {},
     "output_type": "execute_result"
    }
   ],
   "source": [
    "Pokemon.sort_values(ascending=False).tail()"
   ]
  },
  {
   "cell_type": "code",
   "execution_count": 99,
   "id": "b36e8385",
   "metadata": {},
   "outputs": [
    {
     "data": {
      "text/plain": [
       "3011    782.22\n",
       "2859    776.60\n",
       "3009    773.18\n",
       "3007    772.88\n",
       "3010    771.61\n",
       "         ...  \n",
       "12       50.74\n",
       "10       50.70\n",
       "0        50.12\n",
       "9        50.07\n",
       "11       49.95\n",
       "Name: Stock Price, Length: 3012, dtype: float64"
      ]
     },
     "execution_count": 99,
     "metadata": {},
     "output_type": "execute_result"
    }
   ],
   "source": [
    "google.sort_values(ascending=False)"
   ]
  },
  {
   "cell_type": "markdown",
   "id": "4e56ca6b",
   "metadata": {},
   "source": [
    "## The inplace parameter"
   ]
  },
  {
   "cell_type": "code",
   "execution_count": 102,
   "id": "b6f3d341",
   "metadata": {},
   "outputs": [],
   "source": [
    "google.sort_values(ascending=False,inplace=True)"
   ]
  },
  {
   "cell_type": "code",
   "execution_count": 104,
   "id": "da28d027",
   "metadata": {},
   "outputs": [
    {
     "data": {
      "text/plain": [
       "3011    782.22\n",
       "2859    776.60\n",
       "3009    773.18\n",
       "3007    772.88\n",
       "3010    771.61\n",
       "Name: Stock Price, dtype: float64"
      ]
     },
     "execution_count": 104,
     "metadata": {},
     "output_type": "execute_result"
    }
   ],
   "source": [
    "google.head()\n"
   ]
  },
  {
   "cell_type": "markdown",
   "id": "95375f19",
   "metadata": {},
   "source": [
    "### The .sort_index() method\n"
   ]
  },
  {
   "cell_type": "code",
   "execution_count": 105,
   "id": "2dab62d7",
   "metadata": {},
   "outputs": [
    {
     "name": "stderr",
     "output_type": "stream",
     "text": [
      "C:\\Users\\tejas\\AppData\\Local\\Temp\\ipykernel_17468\\1837378755.py:1: FutureWarning: The squeeze argument has been deprecated and will be removed in a future version. Append .squeeze(\"columns\") to the call to squeeze.\n",
      "\n",
      "\n",
      "  Pokemon = pd.read_csv(\"./pandasfiles/pokemon.csv\",usecols=['Pokemon'],squeeze=True)\n",
      "C:\\Users\\tejas\\AppData\\Local\\Temp\\ipykernel_17468\\1837378755.py:2: FutureWarning: The squeeze argument has been deprecated and will be removed in a future version. Append .squeeze(\"columns\") to the call to squeeze.\n",
      "\n",
      "\n",
      "  google = pd.read_csv(\"./pandasfiles/google_stock_price.csv\",squeeze=True)\n"
     ]
    }
   ],
   "source": [
    "Pokemon = pd.read_csv(\"./pandasfiles/pokemon.csv\",usecols=['Pokemon'],squeeze=True)\n",
    "google = pd.read_csv(\"./pandasfiles/google_stock_price.csv\",squeeze=True)\n"
   ]
  },
  {
   "cell_type": "code",
   "execution_count": 109,
   "id": "2f985fa9",
   "metadata": {},
   "outputs": [
    {
     "data": {
      "text/plain": [
       "717     Zygarde\n",
       "633    Zweilous\n",
       "40        Zubat\n",
       "569       Zorua\n",
       "570     Zoroark\n",
       "Name: Pokemon, dtype: object"
      ]
     },
     "execution_count": 109,
     "metadata": {},
     "output_type": "execute_result"
    }
   ],
   "source": [
    "Pokemon.sort_values(ascending=False,inplace=True)\n",
    "Pokemon.head()"
   ]
  },
  {
   "cell_type": "code",
   "execution_count": 110,
   "id": "da4fc7fc",
   "metadata": {},
   "outputs": [
    {
     "data": {
      "text/plain": [
       "720    Volcanion\n",
       "719        Hoopa\n",
       "718      Diancie\n",
       "717      Zygarde\n",
       "716      Yveltal\n",
       "Name: Pokemon, dtype: object"
      ]
     },
     "execution_count": 110,
     "metadata": {},
     "output_type": "execute_result"
    }
   ],
   "source": [
    "Pokemon.sort_index(ascending=False,inplace=True)\n",
    "Pokemon.head()"
   ]
  },
  {
   "cell_type": "markdown",
   "id": "14b42272",
   "metadata": {},
   "source": [
    "### Python's in keyword\n"
   ]
  },
  {
   "cell_type": "code",
   "execution_count": 111,
   "id": "010e2ea1",
   "metadata": {},
   "outputs": [
    {
     "name": "stderr",
     "output_type": "stream",
     "text": [
      "C:\\Users\\tejas\\AppData\\Local\\Temp\\ipykernel_17468\\1837378755.py:1: FutureWarning: The squeeze argument has been deprecated and will be removed in a future version. Append .squeeze(\"columns\") to the call to squeeze.\n",
      "\n",
      "\n",
      "  Pokemon = pd.read_csv(\"./pandasfiles/pokemon.csv\",usecols=['Pokemon'],squeeze=True)\n",
      "C:\\Users\\tejas\\AppData\\Local\\Temp\\ipykernel_17468\\1837378755.py:2: FutureWarning: The squeeze argument has been deprecated and will be removed in a future version. Append .squeeze(\"columns\") to the call to squeeze.\n",
      "\n",
      "\n",
      "  google = pd.read_csv(\"./pandasfiles/google_stock_price.csv\",squeeze=True)\n"
     ]
    }
   ],
   "source": [
    "Pokemon = pd.read_csv(\"./pandasfiles/pokemon.csv\",usecols=['Pokemon'],squeeze=True)\n",
    "google = pd.read_csv(\"./pandasfiles/google_stock_price.csv\",squeeze=True)\n"
   ]
  },
  {
   "cell_type": "code",
   "execution_count": 114,
   "id": "6013f2ca",
   "metadata": {},
   "outputs": [
    {
     "data": {
      "text/plain": [
       "(True, False)"
      ]
     },
     "execution_count": 114,
     "metadata": {},
     "output_type": "execute_result"
    }
   ],
   "source": [
    "3 in [0,1,2,3,4,5],13 in [0,1,2,3,4,5],"
   ]
  },
  {
   "cell_type": "code",
   "execution_count": 115,
   "id": "ee2e6597",
   "metadata": {},
   "outputs": [
    {
     "data": {
      "text/plain": [
       "0     Bulbasaur\n",
       "1       Ivysaur\n",
       "2      Venusaur\n",
       "3    Charmander\n",
       "4    Charmeleon\n",
       "Name: Pokemon, dtype: object"
      ]
     },
     "execution_count": 115,
     "metadata": {},
     "output_type": "execute_result"
    }
   ],
   "source": [
    "Pokemon.head()"
   ]
  },
  {
   "cell_type": "code",
   "execution_count": 119,
   "id": "f3ff9398",
   "metadata": {},
   "outputs": [
    {
     "data": {
      "text/plain": [
       "True"
      ]
     },
     "execution_count": 119,
     "metadata": {},
     "output_type": "execute_result"
    }
   ],
   "source": [
    "100 in Pokemon\n"
   ]
  },
  {
   "cell_type": "code",
   "execution_count": 120,
   "id": "31a0c85d",
   "metadata": {},
   "outputs": [
    {
     "data": {
      "text/plain": [
       "True"
      ]
     },
     "execution_count": 120,
     "metadata": {},
     "output_type": "execute_result"
    }
   ],
   "source": [
    "\"Bulbasaur\" in Pokemon.values"
   ]
  },
  {
   "cell_type": "markdown",
   "id": "a3df32be",
   "metadata": {},
   "source": [
    "### Extract values by index position"
   ]
  },
  {
   "cell_type": "code",
   "execution_count": 121,
   "id": "67001b79",
   "metadata": {},
   "outputs": [
    {
     "data": {
      "text/plain": [
       "'Electrode'"
      ]
     },
     "execution_count": 121,
     "metadata": {},
     "output_type": "execute_result"
    }
   ],
   "source": [
    "Pokemon[100]"
   ]
  },
  {
   "cell_type": "code",
   "execution_count": 122,
   "id": "7613d049",
   "metadata": {},
   "outputs": [
    {
     "data": {
      "text/plain": [
       "100    Electrode\n",
       "200        Unown\n",
       "300     Delcatty\n",
       "Name: Pokemon, dtype: object"
      ]
     },
     "execution_count": 122,
     "metadata": {},
     "output_type": "execute_result"
    }
   ],
   "source": [
    "Pokemon[[100,200,300]]"
   ]
  },
  {
   "cell_type": "code",
   "execution_count": 123,
   "id": "5ec58727",
   "metadata": {
    "collapsed": true
   },
   "outputs": [
    {
     "data": {
      "text/plain": [
       "100     Electrode\n",
       "101     Exeggcute\n",
       "102     Exeggutor\n",
       "103        Cubone\n",
       "104       Marowak\n",
       "105     Hitmonlee\n",
       "106    Hitmonchan\n",
       "107     Lickitung\n",
       "108       Koffing\n",
       "109       Weezing\n",
       "110       Rhyhorn\n",
       "111        Rhydon\n",
       "112       Chansey\n",
       "113       Tangela\n",
       "114    Kangaskhan\n",
       "115        Horsea\n",
       "116        Seadra\n",
       "117       Goldeen\n",
       "118       Seaking\n",
       "119        Staryu\n",
       "120       Starmie\n",
       "121      Mr. Mime\n",
       "122       Scyther\n",
       "123          Jynx\n",
       "124    Electabuzz\n",
       "125        Magmar\n",
       "126        Pinsir\n",
       "127        Tauros\n",
       "128      Magikarp\n",
       "129      Gyarados\n",
       "130        Lapras\n",
       "131         Ditto\n",
       "132         Eevee\n",
       "133      Vaporeon\n",
       "134       Jolteon\n",
       "135       Flareon\n",
       "136       Porygon\n",
       "137       Omanyte\n",
       "138       Omastar\n",
       "139        Kabuto\n",
       "140      Kabutops\n",
       "141    Aerodactyl\n",
       "142       Snorlax\n",
       "143      Articuno\n",
       "144        Zapdos\n",
       "145       Moltres\n",
       "146       Dratini\n",
       "147     Dragonair\n",
       "148     Dragonite\n",
       "149        Mewtwo\n",
       "Name: Pokemon, dtype: object"
      ]
     },
     "execution_count": 123,
     "metadata": {},
     "output_type": "execute_result"
    }
   ],
   "source": [
    "Pokemon[100:150]"
   ]
  },
  {
   "cell_type": "markdown",
   "id": "1616251c",
   "metadata": {},
   "source": [
    "### Extract values by index label "
   ]
  },
  {
   "cell_type": "code",
   "execution_count": 129,
   "id": "36189dae",
   "metadata": {},
   "outputs": [
    {
     "name": "stderr",
     "output_type": "stream",
     "text": [
      "C:\\Users\\tejas\\AppData\\Local\\Temp\\ipykernel_17468\\1745642562.py:1: FutureWarning: The squeeze argument has been deprecated and will be removed in a future version. Append .squeeze(\"columns\") to the call to squeeze.\n",
      "\n",
      "\n",
      "  pokemon = pd.read_csv(\"./pandasfiles/pokemon.csv\",index_col='Pokemon',squeeze=True)\n"
     ]
    }
   ],
   "source": [
    "pokemon = pd.read_csv(\"./pandasfiles/pokemon.csv\",index_col='Pokemon',squeeze=True)"
   ]
  },
  {
   "cell_type": "code",
   "execution_count": 130,
   "id": "7837258f",
   "metadata": {
    "collapsed": true
   },
   "outputs": [
    {
     "data": {
      "text/plain": [
       "Pokemon\n",
       "Bulbasaur     Grass\n",
       "Ivysaur       Grass\n",
       "Venusaur      Grass\n",
       "Charmander     Fire\n",
       "Charmeleon     Fire\n",
       "Name: Type, dtype: object"
      ]
     },
     "execution_count": 130,
     "metadata": {},
     "output_type": "execute_result"
    }
   ],
   "source": [
    "pokemon.head()"
   ]
  },
  {
   "cell_type": "code",
   "execution_count": 132,
   "id": "ef6fd232",
   "metadata": {
    "collapsed": true
   },
   "outputs": [
    {
     "data": {
      "text/plain": [
       "Pokemon\n",
       "Bulbasaur        Grass\n",
       "Ivysaur          Grass\n",
       "Venusaur         Grass\n",
       "Charmander        Fire\n",
       "Charmeleon        Fire\n",
       "                ...   \n",
       "Drowzee        Psychic\n",
       "Hypno          Psychic\n",
       "Krabby           Water\n",
       "Kingler          Water\n",
       "Voltorb       Electric\n",
       "Name: Type, Length: 100, dtype: object"
      ]
     },
     "execution_count": 132,
     "metadata": {},
     "output_type": "execute_result"
    }
   ],
   "source": [
    "pokemon[0:100]"
   ]
  },
  {
   "cell_type": "code",
   "execution_count": 133,
   "id": "1de09012",
   "metadata": {},
   "outputs": [
    {
     "data": {
      "text/plain": [
       "'Grass'"
      ]
     },
     "execution_count": 133,
     "metadata": {},
     "output_type": "execute_result"
    }
   ],
   "source": [
    "pokemon['Bulbasaur']"
   ]
  },
  {
   "cell_type": "code",
   "execution_count": 134,
   "id": "c5171dad",
   "metadata": {},
   "outputs": [
    {
     "data": {
      "text/plain": [
       "'Normal'"
      ]
     },
     "execution_count": 134,
     "metadata": {},
     "output_type": "execute_result"
    }
   ],
   "source": [
    "pokemon['Ditto']"
   ]
  },
  {
   "cell_type": "code",
   "execution_count": 136,
   "id": "2b493913",
   "metadata": {},
   "outputs": [
    {
     "data": {
      "text/plain": [
       "Pokemon\n",
       "Charizard        Fire\n",
       "Jolteon      Electric\n",
       "Name: Type, dtype: object"
      ]
     },
     "execution_count": 136,
     "metadata": {},
     "output_type": "execute_result"
    }
   ],
   "source": [
    "pokemon[['Charizard',\"Jolteon\"]]"
   ]
  },
  {
   "cell_type": "code",
   "execution_count": 139,
   "id": "ced156ca",
   "metadata": {},
   "outputs": [
    {
     "data": {
      "text/plain": [
       "Pokemon\n",
       "Charizard      Fire\n",
       "Squirtle      Water\n",
       "Wartortle     Water\n",
       "Blastoise     Water\n",
       "Caterpie        Bug\n",
       "Metapod         Bug\n",
       "Butterfree      Bug\n",
       "Weedle          Bug\n",
       "Name: Type, dtype: object"
      ]
     },
     "execution_count": 139,
     "metadata": {},
     "output_type": "execute_result"
    }
   ],
   "source": [
    "pokemon['Charizard':\"Weedle\"]"
   ]
  },
  {
   "cell_type": "code",
   "execution_count": 140,
   "id": "57dad38a",
   "metadata": {
    "scrolled": false
   },
   "outputs": [
    {
     "data": {
      "text/plain": [
       "Pokemon\n",
       "Charizard      Fire\n",
       "Wartortle     Water\n",
       "Caterpie        Bug\n",
       "Butterfree      Bug\n",
       "Name: Type, dtype: object"
      ]
     },
     "execution_count": 140,
     "metadata": {},
     "output_type": "execute_result"
    }
   ],
   "source": [
    "pokemon['Charizard':\"Weedle\":2]"
   ]
  },
  {
   "cell_type": "code",
   "execution_count": 141,
   "id": "f8893540",
   "metadata": {},
   "outputs": [
    {
     "data": {
      "text/plain": [
       "Pokemon\n",
       "Pikachu    Electric\n",
       "Digimon         NaN\n",
       "Name: Type, dtype: object"
      ]
     },
     "execution_count": 141,
     "metadata": {},
     "output_type": "execute_result"
    }
   ],
   "source": [
    "pokemon.reindex(index=['Pikachu',\"Digimon\"])"
   ]
  },
  {
   "cell_type": "markdown",
   "id": "52407555",
   "metadata": {},
   "source": [
    "### The .get() method"
   ]
  },
  {
   "cell_type": "code",
   "execution_count": 142,
   "id": "8ae72ee1",
   "metadata": {},
   "outputs": [],
   "source": [
    "pokemon.sort_index(inplace=True)"
   ]
  },
  {
   "cell_type": "code",
   "execution_count": 143,
   "id": "fbc8f1a4",
   "metadata": {},
   "outputs": [
    {
     "data": {
      "text/plain": [
       "'Grass'"
      ]
     },
     "execution_count": 143,
     "metadata": {},
     "output_type": "execute_result"
    }
   ],
   "source": [
    "pokemon.get(0)"
   ]
  },
  {
   "cell_type": "code",
   "execution_count": 144,
   "id": "bd14c27b",
   "metadata": {},
   "outputs": [
    {
     "data": {
      "text/plain": [
       "'Fire'"
      ]
     },
     "execution_count": 144,
     "metadata": {},
     "output_type": "execute_result"
    }
   ],
   "source": [
    "pokemon.get(\"Moltres\")"
   ]
  },
  {
   "cell_type": "code",
   "execution_count": 145,
   "id": "5dfc7bca",
   "metadata": {},
   "outputs": [
    {
     "data": {
      "text/plain": [
       "Pokemon\n",
       "Abomasnow     Grass\n",
       "Aerodactyl     Rock\n",
       "Name: Type, dtype: object"
      ]
     },
     "execution_count": 145,
     "metadata": {},
     "output_type": "execute_result"
    }
   ],
   "source": [
    "pokemon.get([0,5])"
   ]
  },
  {
   "cell_type": "code",
   "execution_count": 146,
   "id": "00eaa840",
   "metadata": {},
   "outputs": [
    {
     "data": {
      "text/plain": [
       "'this is not pokemon'"
      ]
     },
     "execution_count": 146,
     "metadata": {},
     "output_type": "execute_result"
    }
   ],
   "source": [
    "pokemon.get(key=\"Digimon\",default=\"this is not pokemon\")"
   ]
  },
  {
   "cell_type": "code",
   "execution_count": 147,
   "id": "e6d29e17",
   "metadata": {},
   "outputs": [
    {
     "data": {
      "text/plain": [
       "'Fire'"
      ]
     },
     "execution_count": 147,
     "metadata": {},
     "output_type": "execute_result"
    }
   ],
   "source": [
    "pokemon.get(key=\"Charizard\",default=\"this is not pokemon\")"
   ]
  },
  {
   "cell_type": "markdown",
   "id": "c18062c4",
   "metadata": {},
   "source": [
    "### Math methods on Series "
   ]
  },
  {
   "cell_type": "code",
   "execution_count": 148,
   "id": "30c4b018",
   "metadata": {},
   "outputs": [
    {
     "data": {
      "text/plain": [
       "0    50.12\n",
       "1    54.10\n",
       "2    54.65\n",
       "3    52.38\n",
       "4    52.95\n",
       "Name: Stock Price, dtype: float64"
      ]
     },
     "execution_count": 148,
     "metadata": {},
     "output_type": "execute_result"
    }
   ],
   "source": [
    "google.head()"
   ]
  },
  {
   "cell_type": "code",
   "execution_count": 149,
   "id": "c3aeab57",
   "metadata": {},
   "outputs": [
    {
     "data": {
      "text/plain": [
       "3012"
      ]
     },
     "execution_count": 149,
     "metadata": {},
     "output_type": "execute_result"
    }
   ],
   "source": [
    "google.count()"
   ]
  },
  {
   "cell_type": "code",
   "execution_count": 150,
   "id": "6db99c5d",
   "metadata": {},
   "outputs": [
    {
     "data": {
      "text/plain": [
       "1006942.0"
      ]
     },
     "execution_count": 150,
     "metadata": {},
     "output_type": "execute_result"
    }
   ],
   "source": [
    "google.sum()"
   ]
  },
  {
   "cell_type": "code",
   "execution_count": 151,
   "id": "392f49cd",
   "metadata": {},
   "outputs": [
    {
     "data": {
      "text/plain": [
       "334.3100929614874"
      ]
     },
     "execution_count": 151,
     "metadata": {},
     "output_type": "execute_result"
    }
   ],
   "source": [
    "google.mean()"
   ]
  },
  {
   "cell_type": "code",
   "execution_count": 152,
   "id": "7891b5fb",
   "metadata": {},
   "outputs": [
    {
     "data": {
      "text/plain": [
       "173.18720477113115"
      ]
     },
     "execution_count": 152,
     "metadata": {},
     "output_type": "execute_result"
    }
   ],
   "source": [
    "google.std()"
   ]
  },
  {
   "cell_type": "code",
   "execution_count": 153,
   "id": "e595d6a4",
   "metadata": {},
   "outputs": [
    {
     "data": {
      "text/plain": [
       "49.95"
      ]
     },
     "execution_count": 153,
     "metadata": {},
     "output_type": "execute_result"
    }
   ],
   "source": [
    "google.min()"
   ]
  },
  {
   "cell_type": "code",
   "execution_count": 154,
   "id": "25aa66d4",
   "metadata": {},
   "outputs": [
    {
     "data": {
      "text/plain": [
       "782.22"
      ]
     },
     "execution_count": 154,
     "metadata": {},
     "output_type": "execute_result"
    }
   ],
   "source": [
    "google.max()"
   ]
  },
  {
   "cell_type": "code",
   "execution_count": 155,
   "id": "cfd0db4d",
   "metadata": {},
   "outputs": [
    {
     "data": {
      "text/plain": [
       "283.315"
      ]
     },
     "execution_count": 155,
     "metadata": {},
     "output_type": "execute_result"
    }
   ],
   "source": [
    "google.median()"
   ]
  },
  {
   "cell_type": "code",
   "execution_count": 158,
   "id": "507d40fa",
   "metadata": {},
   "outputs": [
    {
     "data": {
      "text/plain": [
       "0    291.21\n",
       "Name: Stock Price, dtype: float64"
      ]
     },
     "execution_count": 158,
     "metadata": {},
     "output_type": "execute_result"
    }
   ],
   "source": [
    "google.mode()"
   ]
  },
  {
   "cell_type": "code",
   "execution_count": 160,
   "id": "1045b5ba",
   "metadata": {},
   "outputs": [
    {
     "data": {
      "text/plain": [
       "count    3012.000000\n",
       "mean      334.310093\n",
       "std       173.187205\n",
       "min        49.950000\n",
       "25%       218.045000\n",
       "50%       283.315000\n",
       "75%       443.000000\n",
       "max       782.220000\n",
       "Name: Stock Price, dtype: float64"
      ]
     },
     "execution_count": 160,
     "metadata": {},
     "output_type": "execute_result"
    }
   ],
   "source": [
    "google.describe()"
   ]
  },
  {
   "cell_type": "markdown",
   "id": "738e653c",
   "metadata": {},
   "source": [
    "### The .idxmax() and  .idxmin()"
   ]
  },
  {
   "cell_type": "code",
   "execution_count": 162,
   "id": "ec09927c",
   "metadata": {},
   "outputs": [
    {
     "data": {
      "text/plain": [
       "(3011, 11)"
      ]
     },
     "execution_count": 162,
     "metadata": {},
     "output_type": "execute_result"
    }
   ],
   "source": [
    "google.idxmax(),google.idxmin()"
   ]
  },
  {
   "cell_type": "markdown",
   "id": "618fac74",
   "metadata": {},
   "source": [
    "### The .value_counts() method"
   ]
  },
  {
   "cell_type": "code",
   "execution_count": 163,
   "id": "4acd72c8",
   "metadata": {},
   "outputs": [
    {
     "data": {
      "text/plain": [
       "Pokemon\n",
       "Abomasnow      Grass\n",
       "Abra         Psychic\n",
       "Absol           Dark\n",
       "Accelgor         Bug\n",
       "Aegislash      Steel\n",
       "Name: Type, dtype: object"
      ]
     },
     "execution_count": 163,
     "metadata": {},
     "output_type": "execute_result"
    }
   ],
   "source": [
    "pokemon.head()"
   ]
  },
  {
   "cell_type": "code",
   "execution_count": 164,
   "id": "b72be3c6",
   "metadata": {},
   "outputs": [
    {
     "data": {
      "text/plain": [
       "Water       105\n",
       "Normal       93\n",
       "Grass        66\n",
       "Bug          63\n",
       "Fire         47\n",
       "Psychic      47\n",
       "Rock         41\n",
       "Electric     36\n",
       "Ground       30\n",
       "Poison       28\n",
       "Dark         28\n",
       "Fighting     25\n",
       "Dragon       24\n",
       "Ice          23\n",
       "Ghost        23\n",
       "Steel        22\n",
       "Fairy        17\n",
       "Flying        3\n",
       "Name: Type, dtype: int64"
      ]
     },
     "execution_count": 164,
     "metadata": {},
     "output_type": "execute_result"
    }
   ],
   "source": [
    "pokemon.value_counts()"
   ]
  },
  {
   "cell_type": "code",
   "execution_count": 165,
   "id": "83017205",
   "metadata": {},
   "outputs": [
    {
     "data": {
      "text/plain": [
       "721"
      ]
     },
     "execution_count": 165,
     "metadata": {},
     "output_type": "execute_result"
    }
   ],
   "source": [
    "pokemon.value_counts().sum()"
   ]
  },
  {
   "cell_type": "code",
   "execution_count": 168,
   "id": "449d37b2",
   "metadata": {},
   "outputs": [
    {
     "data": {
      "text/plain": [
       "Flying        3\n",
       "Fairy        17\n",
       "Steel        22\n",
       "Ghost        23\n",
       "Ice          23\n",
       "Dragon       24\n",
       "Fighting     25\n",
       "Poison       28\n",
       "Dark         28\n",
       "Ground       30\n",
       "Electric     36\n",
       "Rock         41\n",
       "Fire         47\n",
       "Psychic      47\n",
       "Bug          63\n",
       "Grass        66\n",
       "Normal       93\n",
       "Water       105\n",
       "Name: Type, dtype: int64"
      ]
     },
     "execution_count": 168,
     "metadata": {},
     "output_type": "execute_result"
    }
   ],
   "source": [
    "pokemon.value_counts(ascending=True)"
   ]
  },
  {
   "cell_type": "markdown",
   "id": "f07ea49e",
   "metadata": {},
   "source": [
    "### The .apply() method"
   ]
  },
  {
   "cell_type": "code",
   "execution_count": 169,
   "id": "947a1274",
   "metadata": {},
   "outputs": [
    {
     "data": {
      "text/plain": [
       "0    50.12\n",
       "1    54.10\n",
       "2    54.65\n",
       "3    52.38\n",
       "4    52.95\n",
       "Name: Stock Price, dtype: float64"
      ]
     },
     "execution_count": 169,
     "metadata": {},
     "output_type": "execute_result"
    }
   ],
   "source": [
    "google.head()"
   ]
  },
  {
   "cell_type": "code",
   "execution_count": 171,
   "id": "837b12ca",
   "metadata": {},
   "outputs": [],
   "source": [
    "def classify(number):\n",
    "    if number <300:\n",
    "        return \"OK\"\n",
    "    elif number>=300 and number < 650:\n",
    "        return \"Satisifocatory\"\n",
    "    else:\n",
    "        return \"icredible\""
   ]
  },
  {
   "cell_type": "code",
   "execution_count": 173,
   "id": "52b40bfb",
   "metadata": {},
   "outputs": [
    {
     "data": {
      "text/plain": [
       "3007    icredible\n",
       "3008    icredible\n",
       "3009    icredible\n",
       "3010    icredible\n",
       "3011    icredible\n",
       "Name: Stock Price, dtype: object"
      ]
     },
     "execution_count": 173,
     "metadata": {},
     "output_type": "execute_result"
    }
   ],
   "source": [
    "google.apply(classify).tail()"
   ]
  },
  {
   "cell_type": "code",
   "execution_count": 174,
   "id": "23015637",
   "metadata": {},
   "outputs": [
    {
     "data": {
      "text/plain": [
       "0        51.12\n",
       "1        55.10\n",
       "2        55.65\n",
       "3        53.38\n",
       "4        53.95\n",
       "         ...  \n",
       "3007    773.88\n",
       "3008    772.07\n",
       "3009    774.18\n",
       "3010    772.61\n",
       "3011    783.22\n",
       "Name: Stock Price, Length: 3012, dtype: float64"
      ]
     },
     "execution_count": 174,
     "metadata": {},
     "output_type": "execute_result"
    }
   ],
   "source": [
    "google.apply(lambda x:x+1)"
   ]
  },
  {
   "cell_type": "markdown",
   "id": "65e2f5c0",
   "metadata": {},
   "source": [
    "### the .map() mehtod"
   ]
  },
  {
   "cell_type": "code",
   "execution_count": 175,
   "id": "465d48c7",
   "metadata": {},
   "outputs": [
    {
     "data": {
      "text/plain": [
       "0     Bulbasaur\n",
       "1       Ivysaur\n",
       "2      Venusaur\n",
       "3    Charmander\n",
       "4    Charmeleon\n",
       "Name: Pokemon, dtype: object"
      ]
     },
     "execution_count": 175,
     "metadata": {},
     "output_type": "execute_result"
    }
   ],
   "source": [
    "Pokemon.head()"
   ]
  },
  {
   "cell_type": "code",
   "execution_count": 176,
   "id": "584969cc",
   "metadata": {},
   "outputs": [
    {
     "data": {
      "text/plain": [
       "Pokemon\n",
       "Abomasnow      Grass\n",
       "Abra         Psychic\n",
       "Absol           Dark\n",
       "Accelgor         Bug\n",
       "Aegislash      Steel\n",
       "Name: Type, dtype: object"
      ]
     },
     "execution_count": 176,
     "metadata": {},
     "output_type": "execute_result"
    }
   ],
   "source": [
    "pokemon.head()"
   ]
  },
  {
   "cell_type": "code",
   "execution_count": 177,
   "id": "04d72c83",
   "metadata": {},
   "outputs": [
    {
     "data": {
      "text/plain": [
       "0        Grass\n",
       "1        Grass\n",
       "2        Grass\n",
       "3         Fire\n",
       "4         Fire\n",
       "        ...   \n",
       "716       Dark\n",
       "717     Dragon\n",
       "718       Rock\n",
       "719    Psychic\n",
       "720       Fire\n",
       "Name: Pokemon, Length: 721, dtype: object"
      ]
     },
     "execution_count": 177,
     "metadata": {},
     "output_type": "execute_result"
    }
   ],
   "source": [
    "Pokemon.map(pokemon)"
   ]
  },
  {
   "cell_type": "code",
   "execution_count": null,
   "id": "bba284a2",
   "metadata": {},
   "outputs": [],
   "source": []
  },
  {
   "cell_type": "code",
   "execution_count": null,
   "id": "f0878737",
   "metadata": {},
   "outputs": [],
   "source": []
  },
  {
   "cell_type": "code",
   "execution_count": null,
   "id": "f0ed52f0",
   "metadata": {},
   "outputs": [],
   "source": []
  },
  {
   "cell_type": "code",
   "execution_count": null,
   "id": "58ccef6b",
   "metadata": {},
   "outputs": [],
   "source": []
  }
 ],
 "metadata": {
  "kernelspec": {
   "display_name": "Python 3 (ipykernel)",
   "language": "python",
   "name": "python3"
  },
  "language_info": {
   "codemirror_mode": {
    "name": "ipython",
    "version": 3
   },
   "file_extension": ".py",
   "mimetype": "text/x-python",
   "name": "python",
   "nbconvert_exporter": "python",
   "pygments_lexer": "ipython3",
   "version": "3.9.0"
  }
 },
 "nbformat": 4,
 "nbformat_minor": 5
}
